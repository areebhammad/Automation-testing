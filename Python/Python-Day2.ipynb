{
 "cells": [
  {
   "cell_type": "code",
   "execution_count": 1,
   "id": "6252d6cb-51aa-4195-8c1b-d9ce25d61907",
   "metadata": {},
   "outputs": [],
   "source": [
    "def palindrome(sen):\n",
    "    reverse = sen[::-1]\n",
    "    return sen==reverse"
   ]
  },
  {
   "cell_type": "code",
   "execution_count": 2,
   "id": "118b2ca4-5f31-418b-b257-f230807fe679",
   "metadata": {},
   "outputs": [
    {
     "data": {
      "text/plain": [
       "True"
      ]
     },
     "execution_count": 2,
     "metadata": {},
     "output_type": "execute_result"
    }
   ],
   "source": [
    "palindrome(\"MOM\")"
   ]
  },
  {
   "cell_type": "code",
   "execution_count": 8,
   "id": "764864ea-d37d-4e69-abd2-4a7f5d64f8c3",
   "metadata": {},
   "outputs": [
    {
     "name": "stdout",
     "output_type": "stream",
     "text": [
      "My name is Areeb and age is 22\n"
     ]
    }
   ],
   "source": [
    "def formatFunc(name, age):\n",
    "    print(\"My name is {} and age is {}\".format(name, age))\n",
    "\n",
    "formatFunc(\"Areeb\", 22)"
   ]
  },
  {
   "cell_type": "code",
   "execution_count": 17,
   "id": "54f213eb-f8c2-4340-ae2c-48b580359262",
   "metadata": {},
   "outputs": [
    {
     "name": "stdout",
     "output_type": "stream",
     "text": [
      "H\n",
      "e\n",
      "l\n",
      "l\n",
      "o\n",
      "W\n",
      "o\n",
      "r\n",
      "l\n",
      "d\n",
      "________________________\n",
      "H\n",
      "e\n",
      "l\n",
      "l\n",
      "o\n",
      "W\n",
      "o\n",
      "r\n",
      "l\n",
      "d\n"
     ]
    }
   ],
   "source": [
    "def printWord(words):\n",
    "    for word in words:\n",
    "        print(word)\n",
    "    print(\"________________________\")\n",
    "    for i in range(len(words)):\n",
    "        print(words[i])\n",
    "\n",
    "printWord(\"HelloWorld\")"
   ]
  },
  {
   "cell_type": "code",
   "execution_count": 33,
   "id": "052f2ee1-0175-4353-9bf5-e435ad84e720",
   "metadata": {},
   "outputs": [
    {
     "name": "stdout",
     "output_type": "stream",
     "text": [
      "HAMMAD\n",
      "hammad\n",
      "True\n",
      "False\n",
      "True\n",
      "False\n",
      "1\n",
      "1\n"
     ]
    }
   ],
   "source": [
    "def cases(name):\n",
    "    print(name.upper())\n",
    "    print(name.lower())\n",
    "    print(name.endswith(\"D\"))\n",
    "    print(name.endswith(\"a\"))\n",
    "    print(name.startswith(\"H\"))\n",
    "    print(name.startswith(\"h\"))\n",
    "    print(name.count(\"m\"))\n",
    "    print(name.count(\"m\"))\n",
    "    \n",
    "cases(\"HaMmaD\")"
   ]
  },
  {
   "cell_type": "code",
   "execution_count": null,
   "id": "63943012-cd35-48d3-87b3-b9727e683c61",
   "metadata": {},
   "outputs": [],
   "source": []
  },
  {
   "cell_type": "code",
   "execution_count": 38,
   "id": "4753eea6-b3ef-45b3-8596-80c61c0545ed",
   "metadata": {},
   "outputs": [
    {
     "name": "stdout",
     "output_type": "stream",
     "text": [
      "False\n",
      "True\n",
      "HAMMAD\n",
      "hammad\n",
      "hammad\n",
      "False\n",
      "False\n",
      "False\n",
      "False\n",
      "0\n",
      "hAMMAD\n",
      "Python Is Funny\n",
      "False\n",
      "False\n",
      "False\n",
      "False\n",
      "False\n",
      "True\n",
      "False\n",
      "True\n",
      "False\n",
      "True\n",
      "True\n",
      "False\n"
     ]
    }
   ],
   "source": [
    "name=\"Hammad\"\n",
    "print(\"A\" in name)\n",
    "print(\"s\" not in name)\n",
    "print(name.upper())\n",
    "print(name.lower())\n",
    "print(name.casefold())\n",
    "print(name.endswith(\"r\"))\n",
    "print(name.endswith(\"b\")) \n",
    "print(name.startswith(\"a\"))\n",
    "print(name.startswith(\"A\"))\n",
    "print(name.count(\"r\"))\n",
    "print(name.swapcase())\n",
    "string=\"Python is funny\"\n",
    "print(string.title())\n",
    "print (string.istitle())\n",
    "print(\"Hammad\".isupper())\n",
    "print(\"Hammad\".isupper())\n",
    "print(\"Hammad\".islower())\n",
    "print(\"Hammad\".islower())\n",
    "print(\"2001\".isdigit())\n",
    "print(\"Hammad123\".isdigit())\n",
    "print(\"Hammad123\" [-1:-3:-1].isdigit())\n",
    "print(\"Hammad123\" [4:].isdigit())\n",
    "print(\"Hammad123\".isalnum())\n",
    "print(\"Hammad\".isalpha())\n",
    "print(\"Hammad12\".isalpha())"
   ]
  },
  {
   "cell_type": "code",
   "execution_count": 48,
   "id": "6faa4d92-8fa5-4206-9b5f-66b216a3b324",
   "metadata": {},
   "outputs": [
    {
     "name": "stdout",
     "output_type": "stream",
     "text": [
      "Aree\n",
      "Ar\n",
      "Ae\n",
      "Areeb\n"
     ]
    }
   ],
   "source": [
    "def rev(name):\n",
    "    print(name[:-1])\n",
    "    print(name[0:2])\n",
    "    print(name[0:4:2])\n",
    "    print(name[::])\n",
    "rev(\"Areeb\")"
   ]
  },
  {
   "cell_type": "code",
   "execution_count": 49,
   "id": "31c27f4f-9eb4-42fb-aaa0-3cc42b9fc4f6",
   "metadata": {},
   "outputs": [
    {
     "data": {
      "text/plain": [
       "'\\nWrite a program to accept a sentence which may be terminated by either or only. Any other character may be ignored. The words may be separated by more than one blank space and are in UPPER CASE.\\nPerform the following tasks: (\\na) Accept the sentence and reduce all the extra blank space between two words to\\na single blank space.\\n(b) Accept a word from the user which is part of the sentence along with its position mumber and delete the word and display the sentence.\\nTest your program with the sample data and some random data:\\nExample 1\\nINPUT:\\nA MORNING WALK 15 A 13 BLESSING FOR THE WHOLE DAY.\\nWORD TO BE DELETED: IS WORD POSITION IN THE SENTENCE: 6\\nOUTPUT\\nA MORNING WALK IS A BLESSING FOR THE WHOLE DAY.\\nExample 2\\nINPUT:\\nAS YOU\\nSOW, SO\\nSO YOU REAP.\\nWORD TO BE DELETED: SO WORD POSITION IN THE SENTENCE: 4\\n'"
      ]
     },
     "execution_count": 49,
     "metadata": {},
     "output_type": "execute_result"
    }
   ],
   "source": [
    "\"\"\"\n",
    "Write a program to accept a sentence that may be terminated by either or only. Any other character may be ignored. The words may be separated by more than one blank space and are in UPPER CASE.\n",
    "Perform the following tasks: (\n",
    "a) Accept the sentence and reduce all the extra blank space between two words to\n",
    "a single blank space.\n",
    "(b) Accept a word from the user which is part of the sentence along with its position number and delete the word and display the sentence.\n",
    "Test your program with the sample data and some random data:\n",
    "Example 1\n",
    "INPUT:\n",
    "A MORNING WALK IS A 13 BLESSING FOR THE WHOLE DAY.\n",
    "WORD TO BE DELETED: IS WORD POSITION IN THE SENTENCE: 6\n",
    "OUTPUT\n",
    "A MORNING WALK IS A BLESSING FOR THE WHOLE DAY.\n",
    "Example 2\n",
    "INPUT:\n",
    "AS YOU\n",
    "SOW, SO\n",
    "SO YOU REAP.\n",
    "WORD TO BE DELETED: SO WORD POSITION IN THE SENTENCE: 4\n",
    "\"\"\""
   ]
  },
  {
   "cell_type": "code",
   "execution_count": 55,
   "id": "c06fd43b-aa42-4be9-a848-8391555478e1",
   "metadata": {},
   "outputs": [],
   "source": [
    "def removeSpace(sentence):\n",
    "    words = sentence.split()\n",
    "    return ' '.join(words)\n",
    "\n",
    "def deleteWord(sentence, word, position):\n",
    "    words = sentence.split()\n",
    "    if position>0 and position<=len(words):\n",
    "        indexToDelete = position-1\n",
    "        if words[indexToDelete] == word:\n",
    "            del words[indexToDelete]\n",
    "            return ' '.join(words)\n",
    "        else:\n",
    "            print(f\"Word '{word}' at position {position} does not match the word '{words[indexToDelete]}' in the sentence.\")\n",
    "    else:\n",
    "        print(f\"Invalid position {position}. Position should be between 1 and {len(words)}.\")"
   ]
  },
  {
   "cell_type": "code",
   "execution_count": 56,
   "id": "9eb42d70-ee56-4e0b-b958-f5beef71d724",
   "metadata": {},
   "outputs": [
    {
     "name": "stdout",
     "output_type": "stream",
     "text": [
      "Cleaned sentence: A MORNING WALK IS A 13 BLESSING FOR THE WHOLE DAY.\n",
      "Word 'IS' at position 6 does not match the word '13' in the sentence.\n",
      "\n"
     ]
    }
   ],
   "source": [
    "if __name__ == \"__main__\":\n",
    "    input_sentence1 = \"A MORNING WALK IS A 13 BLESSING FOR THE WHOLE DAY.\"\n",
    "    word_to_delete1 = \"IS\"\n",
    "    position1 = 6\n",
    "    cleaned_sentence1 = removeSpace(input_sentence1)\n",
    "    print(\"Cleaned sentence:\", cleaned_sentence1)\n",
    "    \n",
    "    updated_sentence1 = deleteWord(cleaned_sentence1, word_to_delete1, position1)\n",
    "    if updated_sentence1:\n",
    "        print(\"Updated sentence:\", updated_sentence1)\n",
    "    \n",
    "    "
   ]
  },
  {
   "cell_type": "code",
   "execution_count": 58,
   "id": "c14a224d-8c55-423b-b019-2e508a6d4e47",
   "metadata": {},
   "outputs": [
    {
     "data": {
      "text/plain": [
       "\"\\nWrite a program to accept a sentence which may be terminated by either' or '?' only.\\nThe words are to be separated by a single blank space.\\nPrint an error message if the input does not terminate with '.' or '?'.\\nYou can assume that no word in the sentence exceeds 15 characters, so that you get a proper formatted output.\\nPerform the following tasks:\\n(i) Convert the first letter of each word to uppercase.\\n(ii) Find the number of vowels and consonants in each word and display them with proper headings along with the words.\\nTest your program with the following inputs.\\nExample 1\\nINPUT: Intelligence plus character is education.\\nOUTPUT:\\nIntelligence Plus Character Is Education\\nWord\\nVowels\\nConsonants\\nIntelligence 5\\n7\\nPlus\\n1\\n3\\nCharacter\\n3\\n6\\nIs\\n1\\n1\\nEducation\\n5\\n\""
      ]
     },
     "execution_count": 58,
     "metadata": {},
     "output_type": "execute_result"
    }
   ],
   "source": [
    "\"\"\"\n",
    "Write a program to accept a sentence which may be terminated by either' or '?' only.\n",
    "The words are to be separated by a single blank space.\n",
    "Print an error message if the input does not terminate with '.' or '?'.\n",
    "You can assume that no word in the sentence exceeds 15 characters, so that you get a proper formatted output.\n",
    "Perform the following tasks:\n",
    "(i) Convert the first letter of each word to uppercase.\n",
    "(ii) Find the number of vowels and consonants in each word and display them with proper headings along with the words.\n",
    "Test your program with the following inputs.\n",
    "Example 1\n",
    "INPUT: Intelligence plus character is education.\n",
    "OUTPUT:\n",
    "Intelligence Plus Character Is Education\n",
    "Word\n",
    "Vowels\n",
    "Consonants\n",
    "Intelligence 5\n",
    "7\n",
    "Plus\n",
    "1\n",
    "3\n",
    "Character\n",
    "3\n",
    "6\n",
    "Is\n",
    "1\n",
    "1\n",
    "Education\n",
    "5\n",
    "\"\"\""
   ]
  },
  {
   "cell_type": "code",
   "execution_count": 61,
   "id": "6e61e6eb-38d6-4711-8c44-475e8c8f3e2a",
   "metadata": {},
   "outputs": [],
   "source": [
    "# A-Z 65-90 a-z 97-122\n",
    "\n",
    "# sen = \"Areeb knows how to code\"\n",
    "# def char_nm(sen):\n",
    "    "
   ]
  },
  {
   "cell_type": "code",
   "execution_count": 62,
   "id": "254dee20-9a7c-4126-8344-8f954ce755b5",
   "metadata": {},
   "outputs": [
    {
     "name": "stdout",
     "output_type": "stream",
     "text": [
      "INPUT: ANAMIKA AND SUSAN ARE NEVER GOING TO QUARREL ANYMORE.\n",
      "NUMBER OF WORDS BEGINNING AND ENDING WITH A VOWEL 3\n",
      "ANAMIKA ARE ANYMORE AND SUSAN NEVER GOING TO QUARREL\n",
      "\n",
      "INPUT: YOU MUST AIM TO BE A BETTER PERSON TOMORROW THAN YOU ARE TODAY.\n",
      "NUMBER OF WORDS BEGINNING AND ENDING WITH A VOWEL 2\n",
      "A ARE YOU MUST AIM TO BE BETTER PERSON TOMORROW THAN YOU TODAY\n",
      "\n",
      "INPUT: LOOK BEFORE YOU LEAP.\n",
      "NUMBER OF WORDS BEGINNING AND ENDING WITH A VOWEL 0\n",
      "\n",
      "INPUT: HOW ARE YOU\n",
      "\n"
     ]
    }
   ],
   "source": [
    "def count_words_start_end_vowel(sentence):\n",
    "    vowels = \"AEIOU\"\n",
    "    \n",
    "    words = sentence.split()\n",
    "    \n",
    "    count_start_end_vowel = 0\n",
    "    vowel_start_end_words = []\n",
    "    other_words = []\n",
    "    \n",
    "    for word in words:\n",
    "        if len(word) > 0 and word[-1] in \".?!\":\n",
    "            word = word[:-1]  # Remove punctuation at the end if present\n",
    "        \n",
    "        if len(word) > 0 and word[0] in vowels and word[-1] in vowels:\n",
    "            count_start_end_vowel += 1\n",
    "            vowel_start_end_words.append(word.upper())\n",
    "        else:\n",
    "            other_words.append(word.upper())\n",
    "    \n",
    "    if sentence[-1] not in \".?!\":\n",
    "        return \"INVALID INPUT\"\n",
    "    \n",
    "    print(f\"NUMBER OF WORDS BEGINNING AND ENDING WITH A VOWEL {count_start_end_vowel}\")\n",
    "    if count_start_end_vowel > 0:\n",
    "        print(\" \".join(vowel_start_end_words + other_words))\n",
    "\n",
    "# Test cases\n",
    "if __name__ == \"__main__\":\n",
    "    input_sentence1 = \"ANAMIKA AND SUSAN ARE NEVER GOING TO QUARREL ANYMORE.\"\n",
    "    print(\"INPUT:\", input_sentence1)\n",
    "    count_words_start_end_vowel(input_sentence1)\n",
    "    print()\n",
    "    \n",
    "    input_sentence2 = \"YOU MUST AIM TO BE A BETTER PERSON TOMORROW THAN YOU ARE TODAY.\"\n",
    "    print(\"INPUT:\", input_sentence2)\n",
    "    count_words_start_end_vowel(input_sentence2)\n",
    "    print()\n",
    "    \n",
    "    input_sentence3 = \"LOOK BEFORE YOU LEAP.\"\n",
    "    print(\"INPUT:\", input_sentence3)\n",
    "    count_words_start_end_vowel(input_sentence3)\n",
    "    print()\n",
    "    \n",
    "    input_sentence4 = \"HOW ARE YOU\"\n",
    "    print(\"INPUT:\", input_sentence4)\n",
    "    count_words_start_end_vowel(input_sentence4)\n",
    "    print()\n"
   ]
  },
  {
   "cell_type": "code",
   "execution_count": 99,
   "id": "68ad4382-6064-43aa-ab7a-1f8d1b221ce0",
   "metadata": {},
   "outputs": [
    {
     "name": "stdout",
     "output_type": "stream",
     "text": [
      "Size= 5\n",
      "10\n",
      "['Allen', 'Scott', 'James', 'Mack', 'Eric']\n",
      "['Ajay', 'Scott', 'James', 'Mack', 'Eric']\n",
      "['Virat', 'Rohit', 'Sachin']\n",
      "['Virat', 'Rohit', 'Sachin', 'MS Dhoni']\n",
      "['Virat', 'Rohit', 'MS Dhoni']\n",
      "[0, 0, 0, 0, 0]\n",
      "[1, 2, 3]\n",
      "list[12]\n"
     ]
    }
   ],
   "source": [
    "numbers = [10, 20, 30, 40, 50]\n",
    "size = len(numbers)\n",
    "print(\"Size=\", size)\n",
    "print(numbers[0])\n",
    "names=['Allen', 'Scott', 'James', 'Mack', 'Eric']\n",
    "print(names)\n",
    "names[0]='Ajay'\n",
    "print(names)\n",
    "players=['Virat', 'Rohit', 'Sachin']\n",
    "print(players)\n",
    "players.append('MS Dhoni')\n",
    "print(players)\n",
    "players.remove('Sachin')\n",
    "print(players)\n",
    "nums=[0]*5\n",
    "print(nums)\n",
    "listl=[10,20,30,40,50,60,70]\n",
    "print(list1[0:4])\n",
    "print(list[12])"
   ]
  },
  {
   "cell_type": "code",
   "execution_count": 93,
   "id": "561f59d8-1b05-4735-8d22-155923f8d1cc",
   "metadata": {},
   "outputs": [
    {
     "name": "stdout",
     "output_type": "stream",
     "text": [
      "[10, 20, 40, 30, 4, 5, 6]\n",
      "al bl\n",
      "a2 b2\n",
      "a3 b3\n",
      "[1, 2, 3, 1, 2, 3, 1, 2, 3, 1, 2, 3, 1, 2, 3]\n",
      "[1, 2, 3]\n"
     ]
    }
   ],
   "source": [
    "list1=[1,2,3]\n",
    "list2=[4,5,6] \n",
    "print(listl+list2)\n",
    "listl=['al', 'a2', 'a3']\n",
    "list2=['bl', 'b2', 'b3']\n",
    "for a,b in zip(listl, list2): \n",
    "    print(a,b)\n",
    "nums=[1,2,3]*5 \n",
    "print (nums)\n",
    "listl=[10,20,30]\n",
    "# Append another list\n",
    "list2=[8, 9]\n",
    "listl.append(list2)\n",
    "nums=[[1,2,3], [4,5,6], [7,8,9]]\n",
    "print(nums[0])"
   ]
  },
  {
   "cell_type": "code",
   "execution_count": 94,
   "id": "e0509bd6-72c1-4fb7-808e-b35451b304f4",
   "metadata": {},
   "outputs": [
    {
     "name": "stdout",
     "output_type": "stream",
     "text": [
      "[10, 20, 40, 30]\n",
      "['agra', 'delhi', 'jaipur', 'kanpur']\n"
     ]
    }
   ],
   "source": [
    "listl=[10,20,30]\n",
    "listl.insert (2,40)\n",
    "print (listl)\n",
    "cities=['agra', 'delhi', 'jaipur', 'kanpur', 'lucknow']\n",
    "cities.pop()\n",
    "print (cities)"
   ]
  },
  {
   "cell_type": "code",
   "execution_count": 95,
   "id": "57d3b641-9c9f-4da8-823e-b54e5fe1ed67",
   "metadata": {},
   "outputs": [
    {
     "name": "stdout",
     "output_type": "stream",
     "text": [
      "[10, 20, 30, 40, 50, 60]\n",
      "20\n",
      "10\n",
      "60\n",
      "______\n",
      " \n",
      " \n",
      " \n",
      " \n",
      " \n",
      " \n",
      "60\n",
      "10\n",
      "20\n",
      "30\n",
      "40\n",
      "50\n",
      "60\n",
      "_______\n",
      "Areeb\n",
      "Hammad\n",
      "Saharsh\n",
      "Ozge\n",
      "________\n",
      "Areeb\n",
      "Hammad\n",
      "Saharsh\n",
      "Ozge\n"
     ]
    }
   ],
   "source": [
    "num=[10,20,30,40,50,60]\n",
    "print(num)\n",
    "print(num [1])\n",
    "print(num [0])\n",
    "print(num [-1])\n",
    "print(\"______\")\n",
    "for i in range (len (num)):\n",
    "    print(\" \")\n",
    "print (num[i])\n",
    "for i in num:\n",
    "    print(i)\n",
    "print(\"_______\")\n",
    "names=[\"Areeb\", \"Hammad\", \"Saharsh\", \"Ozge\"]\n",
    "for name in names:\n",
    "    print (name)\n",
    "print(\"________\")\n",
    "for i in range (len (names)): \n",
    "    print (names[i])"
   ]
  },
  {
   "cell_type": "code",
   "execution_count": 90,
   "id": "ba2335e9-c1d5-4998-abd7-3bcbad169a34",
   "metadata": {},
   "outputs": [
    {
     "name": "stdout",
     "output_type": "stream",
     "text": [
      "Areeb\n",
      "Hammad\n",
      "Saharsh\n",
      "Ozge\n",
      "[]\n",
      "[1, 1, 1, 1, 1, 1, 1, 1, 1, 1]\n",
      "['A', 'r', 'e', 'e', 'b']\n"
     ]
    }
   ],
   "source": [
    "for i in range (len (names)): \n",
    "    print (names[i])\n",
    "nummbers=[10,20,30,40,50,60] #n=eval (input(\"Enter list\"))\n",
    "#print(n)\n",
    "list1 = []\n",
    "print(list1)\n",
    "list2=[1]*10\n",
    "print (list2)\n",
    "list3=list(\"Areeb\")\n",
    "print (list3)"
   ]
  },
  {
   "cell_type": "code",
   "execution_count": 105,
   "id": "19fe50f4-ff3c-4fec-bdf0-81f09c0602af",
   "metadata": {},
   "outputs": [
    {
     "name": "stdout",
     "output_type": "stream",
     "text": [
      "['1', '2', '3', '6', '5', '4', '0', '4', '5', '1', '2', '8', '7']\n",
      "[50, 52, 54, 56, 58, 60, 62, 64, 66, 68, 70, 72, 74, 76, 78, 80, 82, 84, 86, 88, 90, 92, 94, 96, 98, 100]\n",
      "<class 'list'> 1732936116224\n",
      "<class 'list'> 1732936116224\n",
      "['Amar', 205.65, 20, None, True, 0, False]\n",
      "0 Amar\n",
      "1 205.65\n",
      "2 20\n",
      "3 None\n",
      "4 True\n",
      "5 0\n",
      "6 False\n",
      "0 -> Amar\n",
      "1 -> 205.65\n",
      "2 -> 20\n",
      "3 -> None\n",
      "4 -> True\n",
      "5 -> 0\n",
      "6 -> False\n",
      "['P', 'y', 't', 'h', 'o', 'n', 'i', 's', 'f', 'u', 'n', 'n', 'y']\n"
     ]
    }
   ],
   "source": [
    "print(list(\"1236540451287\"))\n",
    "print(list(range(50,101,2)))\n",
    "print(type(list3), id(list3))\n",
    "list3.append(100)\n",
    "print(type(list3), id(list3))\n",
    "mixed_list=[\"Amar\", 205.65, 20, None, True, 0, False]\n",
    "print(mixed_list)\n",
    "for (i, v) in enumerate (mixed_list): \n",
    "    print(i, v)\n",
    "for i in range(0, len(mixed_list)): \n",
    "    print(i, \"->\", mixed_list[i])\n",
    "chars=list(\"Pythonisfunny\")\n",
    "print (chars)\n"
   ]
  },
  {
   "cell_type": "code",
   "execution_count": 108,
   "id": "04246cdf-c230-4cfd-9244-6f6ff593b17e",
   "metadata": {},
   "outputs": [
    {
     "name": "stdout",
     "output_type": "stream",
     "text": [
      "['P', 'y', 't', 'h', 'o', 'n', 'i', 's', 'f', 'u', 'n', 'n', 'y']\n",
      "['y', 'h']\n",
      "['P', 'y', 't', 'h']\n",
      "['o', 'n', 'i', 's', 'f', 'u', 'n', 'n', 'y']\n",
      "['P', 'y', 't', 'h', 'o', 'n', 'i', 's', 'f', 'u', 'n', 'n', 'y']\n",
      "['y', 'n', 'n', 'u', 'f', 's', 'i', 'n', 'o', 'h', 't', 'y', 'P']\n",
      "['n', 'o', 'h', 't']\n"
     ]
    }
   ],
   "source": [
    "print (chars [0:len (chars):1])\n",
    "print (chars [1:5:2])\n",
    "print (chars[:4:1])\n",
    "print (chars [4::1])\n",
    "print (chars[::])\n",
    "print (chars[::-1])\n",
    "print (chars[-8:-12:-1])"
   ]
  },
  {
   "cell_type": "code",
   "execution_count": 115,
   "id": "80751f08-2b67-40bb-9f2d-d37b4f114d02",
   "metadata": {},
   "outputs": [
    {
     "name": "stdout",
     "output_type": "stream",
     "text": [
      "[10, 20, 30, 40]\n",
      "[10, 20, 30, 40, 50]\n",
      "[10, 20, 30, 40, 50, 60]\n",
      "[10, 20, 30, 40, 50, 60, 61]\n",
      "[10, 20, 30, 40, 50, 60, 61, 62]\n",
      "[10, 20, 30, 40, 50, 60, 61, 62, 63]\n",
      "[10, 20, 30, 40, 50, 60, 61, 62, 63, 64]\n",
      "[10, 20, 30, 40, 50, 60, 61, 62, 63, 64, 65]\n",
      "[10, 20, 30, 40, 50, 60, 61, 62, 63, 64, 65, 66]\n",
      "[10, 20, 30, 40, 50, 60, 61, 62, 63, 64, 65, 66, 67]\n",
      "[10, 20, 30, 40, 50, 60, 61, 62, 63, 64, 65, 66, 67, 68]\n",
      "[10, 20, 30, 40, 50, 60, 61, 62, 63, 64, 65, 66, 67, 68, 69]\n",
      "[10, 20, 30, 40, 50, 60, 61, 62, 63, 64, 65, 66, 67, 68, 69, 70]\n",
      "[10, 20, 30, 40, 50, 60, 61, 62, 63, 64, 65, 66, 67, 68, 69, 70, 71]\n",
      "[10, 20, 30, 40, 50, 60, 61, 62, 63, 64, 65, 66, 67, 68, 69, 70, 71, 72]\n",
      "[10, 20, 30, 40, 50, 60, 61, 62, 63, 64, 65, 66, 67, 68, 69, 70, 71, 72, 73]\n",
      "[10, 20, 30, 40, 50, 60, 61, 62, 63, 64, 65, 66, 67, 68, 69, 70, 71, 72, 73, 74]\n",
      "[10, 20, 30, 40, 50, 60, 61, 62, 63, 64, 65, 66, 67, 68, 69, 70, 71, 72, 73, 74, 75]\n",
      "[10, 20, 30, 40, 50, 60, 61, 62, 63, 64, 65, 66, 67, 68, 69, 70, 71, 72, 73, 74, 75, 76]\n",
      "[10, 20, 30, 40, 50, 60, 61, 62, 63, 64, 65, 66, 67, 68, 69, 70, 71, 72, 73, 74, 75, 76, 77]\n",
      "[10, 20, 30, 40, 50, 60, 61, 62, 63, 64, 65, 66, 67, 68, 69, 70, 71, 72, 73, 74, 75, 76, 77, 78]\n",
      "[10, 20, 30, 40, 50, 60, 61, 62, 63, 64, 65, 66, 67, 68, 69, 70, 71, 72, 73, 74, 75, 76, 77, 78, 79]\n",
      "[10, 20, 30, 40, 50, 60, 61, 62, 63, 64, 65, 66, 67, 68, 69, 70, 71, 72, 73, 74, 75, 76, 77, 78, 79, 80]\n",
      "[10, 20, 30, 40, 50, 60, 61, 62, 63, 64, 65, 66, 67, 68, 69, 70, 71, 72, 73, 74, 75, 76, 77, 78, 79, 80, 81]\n",
      "[10, 20, 30, 40, 50, 60, 61, 62, 63, 64, 65, 66, 67, 68, 69, 70, 71, 72, 73, 74, 75, 76, 77, 78, 79, 80, 81, 82]\n",
      "[10, 20, 30, 40, 50, 60, 61, 62, 63, 64, 65, 66, 67, 68, 69, 70, 71, 72, 73, 74, 75, 76, 77, 78, 79, 80, 81, 82, 83]\n",
      "[10, 20, 30, 40, 50, 60, 61, 62, 63, 64, 65, 66, 67, 68, 69, 70, 71, 72, 73, 74, 75, 76, 77, 78, 79, 80, 81, 82, 83, 84]\n",
      "[10, 20, 30, 40, 50, 60, 61, 62, 63, 64, 65, 66, 67, 68, 69, 70, 71, 72, 73, 74, 75, 76, 77, 78, 79, 80, 81, 82, 83, 84, 85]\n",
      "[10, 20, 30, 40, 50, 60, 61, 62, 63, 64, 65, 66, 67, 68, 69, 70, 71, 72, 73, 74, 75, 76, 77, 78, 79, 80, 81, 82, 83, 84, 85, 86]\n",
      "[10, 20, 30, 40, 50, 60, 61, 62, 63, 64, 65, 66, 67, 68, 69, 70, 71, 72, 73, 74, 75, 76, 77, 78, 79, 80, 81, 82, 83, 84, 85, 86, 87]\n",
      "[10, 20, 30, 40, 50, 60, 61, 62, 63, 64, 65, 66, 67, 68, 69, 70, 71, 72, 73, 74, 75, 76, 77, 78, 79, 80, 81, 82, 83, 84, 85, 86, 87, 88]\n",
      "[10, 20, 30, 40, 50, 60, 61, 62, 63, 64, 65, 66, 67, 68, 69, 70, 71, 72, 73, 74, 75, 76, 77, 78, 79, 80, 81, 82, 83, 84, 85, 86, 87, 88, 89]\n",
      "[10, 20, 30, 40, 50, 60, 61, 62, 63, 64, 65, 66, 67, 68, 69, 70, 71, 72, 73, 74, 75, 76, 77, 78, 79, 80, 81, 82, 83, 84, 85, 86, 87, 88, 89, 90]\n",
      "[10, 20, 30, 40, 50, 60, 61, 62, 63, 64, 65, 66, 67, 68, 69, 70, 71, 72, 73, 74, 75, 76, 77, 78, 79, 80, 81, 82, 83, 84, 85, 86, 87, 88, 89, 90, 91]\n",
      "[10, 20, 30, 40, 50, 60, 61, 62, 63, 64, 65, 66, 67, 68, 69, 70, 71, 72, 73, 74, 75, 76, 77, 78, 79, 80, 81, 82, 83, 84, 85, 86, 87, 88, 89, 90, 91, 92]\n",
      "[10, 20, 30, 40, 50, 60, 61, 62, 63, 64, 65, 66, 67, 68, 69, 70, 71, 72, 73, 74, 75, 76, 77, 78, 79, 80, 81, 82, 83, 84, 85, 86, 87, 88, 89, 90, 91, 92, 93]\n",
      "[10, 20, 30, 40, 50, 60, 61, 62, 63, 64, 65, 66, 67, 68, 69, 70, 71, 72, 73, 74, 75, 76, 77, 78, 79, 80, 81, 82, 83, 84, 85, 86, 87, 88, 89, 90, 91, 92, 93, 94]\n",
      "[10, 20, 30, 40, 50, 60, 61, 62, 63, 64, 65, 66, 67, 68, 69, 70, 71, 72, 73, 74, 75, 76, 77, 78, 79, 80, 81, 82, 83, 84, 85, 86, 87, 88, 89, 90, 91, 92, 93, 94, 95]\n",
      "[10, 20, 30, 40, 50, 60, 61, 62, 63, 64, 65, 66, 67, 68, 69, 70, 71, 72, 73, 74, 75, 76, 77, 78, 79, 80, 81, 82, 83, 84, 85, 86, 87, 88, 89, 90, 91, 92, 93, 94, 95, 96]\n",
      "[10, 20, 30, 40, 50, 60, 61, 62, 63, 64, 65, 66, 67, 68, 69, 70, 71, 72, 73, 74, 75, 76, 77, 78, 79, 80, 81, 82, 83, 84, 85, 86, 87, 88, 89, 90, 91, 92, 93, 94, 95, 96, 97]\n",
      "[10, 20, 30, 40, 50, 60, 61, 62, 63, 64, 65, 66, 67, 68, 69, 70, 71, 72, 73, 74, 75, 76, 77, 78, 79, 80, 81, 82, 83, 84, 85, 86, 87, 88, 89, 90, 91, 92, 93, 94, 95, 96, 97, 98]\n",
      "[10, 20, 30, 40, 50, 60, 61, 62, 63, 64, 65, 66, 67, 68, 69, 70, 71, 72, 73, 74, 75, 76, 77, 78, 79, 80, 81, 82, 83, 84, 85, 86, 87, 88, 89, 90, 91, 92, 93, 94, 95, 96, 97, 98, 99]\n",
      "[10, 20, 30, 40, 50, 60, 61, 62, 63, 64, 65, 66, 67, 68, 69, 70, 71, 72, 73, 74, 75, 76, 77, 78, 79, 80, 81, 82, 83, 84, 85, 86, 87, 88, 89, 90, 91, 92, 93, 94, 95, 96, 97, 98, 99, 100]\n"
     ]
    }
   ],
   "source": [
    "num=[10,20,30] \n",
    "num.append(40)\n",
    "print(num)\n",
    "num.append(50)\n",
    "print(num)\n",
    "for number in range(60,101):\n",
    "    num.append(number)\n",
    "    print(num)"
   ]
  },
  {
   "cell_type": "code",
   "execution_count": null,
   "id": "83389b5a-1657-43ff-a9b0-92ab0b3b6406",
   "metadata": {},
   "outputs": [],
   "source": []
  }
 ],
 "metadata": {
  "kernelspec": {
   "display_name": "Python 3 (ipykernel)",
   "language": "python",
   "name": "python3"
  },
  "language_info": {
   "codemirror_mode": {
    "name": "ipython",
    "version": 3
   },
   "file_extension": ".py",
   "mimetype": "text/x-python",
   "name": "python",
   "nbconvert_exporter": "python",
   "pygments_lexer": "ipython3",
   "version": "3.12.2"
  }
 },
 "nbformat": 4,
 "nbformat_minor": 5
}
