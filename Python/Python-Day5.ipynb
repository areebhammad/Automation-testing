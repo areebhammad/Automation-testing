{
 "cells": [
  {
   "cell_type": "code",
   "execution_count": 4,
   "id": "91d4470b-6d25-4495-b10b-0956455f1c0b",
   "metadata": {},
   "outputs": [
    {
     "name": "stdout",
     "output_type": "stream",
     "text": [
      "Id= <built-in function id> Name= john\n"
     ]
    }
   ],
   "source": [
    "class Person:\n",
    "    def __init__(self,id,name):\n",
    "        self.id=id\n",
    "        self.name=name\n",
    "    def __str__(self):\n",
    "        return \"Id= \"+str(id)+f\" Name= \"+self.name\n",
    "p=Person(1,\"john\")\n",
    "print(p)"
   ]
  },
  {
   "cell_type": "code",
   "execution_count": 13,
   "id": "43069024-b69a-4b83-bd44-a8d975d24426",
   "metadata": {},
   "outputs": [
    {
     "name": "stdout",
     "output_type": "stream",
     "text": [
      "102\n",
      "12\n"
     ]
    }
   ],
   "source": [
    "class Person:\n",
    "    def __init__(self,id,name):\n",
    "        self.__id=id\n",
    "        self.name=name\n",
    "\n",
    "    def display(self):\n",
    "        print(self.__id)\n",
    "\n",
    "p=Person(12,\"john\")\n",
    "p.__n = 102\n",
    "print(p.__n)\n",
    "p.display()"
   ]
  },
  {
   "cell_type": "code",
   "execution_count": 14,
   "id": "409b41d6-d18d-4a4a-aa86-9924d41e17f5",
   "metadata": {},
   "outputs": [
    {
     "data": {
      "text/plain": [
       "'mans'"
      ]
     },
     "execution_count": 14,
     "metadata": {},
     "output_type": "execute_result"
    }
   ],
   "source": [
    "class Person:\n",
    "    def __init__(self,id,name):\n",
    "        self.__id=id\n",
    "        self.name=name\n",
    "\n",
    "class Student(Person):\n",
    "    pass\n",
    "\n",
    "p=Person(12, \"areeb\")\n",
    "s=Student(13, \"mans\")\n",
    "s.name"
   ]
  },
  {
   "cell_type": "code",
   "execution_count": 27,
   "id": "85f81eba-f54d-4c81-b503-d40bc38b209d",
   "metadata": {},
   "outputs": [
    {
     "name": "stdout",
     "output_type": "stream",
     "text": [
      "C1: constructor calling\n",
      "C1: constructor calling\n",
      "10\n",
      "C2: constructor calling\n",
      "C1: method\n",
      "10\n"
     ]
    }
   ],
   "source": [
    "class C1:\n",
    "    def __init__(self):\n",
    "        self.a = 10\n",
    "        print(\"C1: constructor calling\")\n",
    "\n",
    "    def m1(self):\n",
    "        print(\"C1: method\")\n",
    "\n",
    "class C2(C1):\n",
    "    def __init__(self):\n",
    "        super().__init__() \n",
    "        print(self.a)\n",
    "        print(\"C2: constructor calling\")\n",
    "\n",
    "obj1 = C1() \n",
    "obj2 = C2() \n",
    "obj2.m1()\n",
    "print(obj2.a)"
   ]
  },
  {
   "cell_type": "code",
   "execution_count": 50,
   "id": "d58b41da-4262-4f1f-b509-25810bfb7717",
   "metadata": {},
   "outputs": [
    {
     "name": "stdout",
     "output_type": "stream",
     "text": [
      "Samsung\n",
      "p3.py\n",
      "Returning a phone.\n"
     ]
    }
   ],
   "source": [
    "class Phone:\n",
    "    def __init__(self, brand, price, camera):\n",
    "        self.brand=brand\n",
    "        self.price=price\n",
    "        self.camera=camera\n",
    "    def buy (self): \n",
    "        print(\"p3.py\")\n",
    "    def return_(self): \n",
    "        print(\"Returning a phone.\") \n",
    "class FeaturePhone(Phone):\n",
    "    pass\n",
    "\n",
    "class SmartPhone(Phone):\n",
    "    pass\n",
    "\n",
    "sp = SmartPhone(\"Samsung\", 23500, \"30px\")\n",
    "print(sp.brand)\n",
    "sp.buy()\n",
    "sp.return_()"
   ]
  },
  {
   "cell_type": "code",
   "execution_count": 51,
   "id": "b0f5a2ec-837a-4787-a390-69e2ae3f04c4",
   "metadata": {},
   "outputs": [
    {
     "name": "stdout",
     "output_type": "stream",
     "text": [
      "Buying a phone\n"
     ]
    }
   ],
   "source": [
    "class Phone:\n",
    "    def __init__(self, price, brand, camera):\n",
    "        self.price = price\n",
    "        self.brand = brand\n",
    "        self.camera = camera\n",
    "    def buy(self):\n",
    "        print (\"Buying a phone\")\n",
    "    def return_phone(self):\n",
    "        print (\"Returning a phone\")\n",
    "\n",
    "class FeaturePhone(Phone):\n",
    "    pass\n",
    "\n",
    "class SmartPhone(Phone):\n",
    "    pass\n",
    "\n",
    "FeaturePhone(10000,\"Apple\",\"13px\").buy()"
   ]
  },
  {
   "cell_type": "code",
   "execution_count": 52,
   "id": "72d85a33-e176-4608-9eef-0a300df3259d",
   "metadata": {},
   "outputs": [
    {
     "name": "stdout",
     "output_type": "stream",
     "text": [
      "Inside phone constructor\n"
     ]
    }
   ],
   "source": [
    "class Phone:\n",
    "    def __init__(self, price, brand, camera):\n",
    "        print (\"Inside phone constructor\")\n",
    "        self.price = price\n",
    "        self.brand = brand\n",
    "        self.camera = camera\n",
    "    def buy(self):\n",
    "        print (\"Buying a phone\")\n",
    "    def return_phone(self):\n",
    "        print (\"Returning a phone\")\n",
    "\n",
    "class FeaturePhone(Phone):\n",
    "    pass\n",
    "\n",
    "class SmartPhone(Phone):\n",
    "    pass\n",
    "\n",
    "s=SmartPhone(20000, \"Apple\", 13)\n"
   ]
  },
  {
   "cell_type": "code",
   "execution_count": 54,
   "id": "7743bfb0-73c5-4cf6-9bb1-7a28df8b4594",
   "metadata": {},
   "outputs": [
    {
     "name": "stdout",
     "output_type": "stream",
     "text": [
      "Inside SmartPhone constructor\n",
      "Android\n"
     ]
    }
   ],
   "source": [
    "class Phone:\n",
    "    def __init__(self, price, brand, camera):\n",
    "        print (\"Inside phone constructor\")\n",
    "        self.__price = price\n",
    "        self.brand = brand\n",
    "        self.camera = camera\n",
    "    def buy(self):\n",
    "        print (\"Buying a phone\")\n",
    "    def return_phone(self):\n",
    "        print (\"Returning a phone\")\n",
    "\n",
    "class FeaturePhone(Phone):\n",
    "    pass\n",
    "\n",
    "class SmartPhone(Phone):\n",
    "    def __init__(self, os, ram):\n",
    "        self.os = os\n",
    "        self.ram = ram\n",
    "        print (\"Inside SmartPhone constructor\")\n",
    "    def buy(self):\n",
    "        print (\"Buying a SmartPhone\")\n",
    "s=SmartPhone(\"Android\", 2)\n",
    "print(s.os)\n",
    "# print(s.brand)\n"
   ]
  },
  {
   "cell_type": "code",
   "execution_count": 1,
   "id": "787043d5-8153-47e4-a7f6-01e0234ed858",
   "metadata": {},
   "outputs": [
    {
     "name": "stdout",
     "output_type": "stream",
     "text": [
      "Inside phone constructor\n",
      "20000\n"
     ]
    }
   ],
   "source": [
    "class Phone:\n",
    "    def __init__(self, price, brand, camera):\n",
    "        print (\"Inside phone constructor\")\n",
    "        self.__price = price\n",
    "        self.brand = brand\n",
    "        self.camera = camera\n",
    "    def buy(self):\n",
    "        print (\"Buying a phone\")\n",
    "    def return_phone(self):\n",
    "        print (\"Returning a phone\")\n",
    "    def get_price(self):\n",
    "        return self.__price\n",
    "    \n",
    "class FeaturePhone(Phone):\n",
    "    pass\n",
    "\n",
    "class SmartPhone(Phone):\n",
    "    def check(self):\n",
    "        print(self.get_price())  # Accessing price using a method\n",
    "# class SmartPhone(Phone):\n",
    "#     def check(self):\n",
    "#         print(self.__price)\n",
    "s=SmartPhone(20000, \"Apple\", 13)\n",
    "s.check()"
   ]
  },
  {
   "cell_type": "code",
   "execution_count": 60,
   "id": "50884218-728d-49e3-8a4e-ce502c4c52f7",
   "metadata": {},
   "outputs": [
    {
     "name": "stdout",
     "output_type": "stream",
     "text": [
      "sleeping\n",
      "amazingly\n",
      "is\n"
     ]
    }
   ],
   "source": [
    "# Write a python function to add 'ing' at the end of a given string and return the new string. \n",
    "# If the given string already ends with 'ing' then add 'ly'.\n",
    "# If the length of the given string is less than 3, leave it unchanged.\n",
    "\n",
    "# Sample Input   Expected Output\n",
    "# sleep          sleeping\n",
    "# amazing        amazingly\n",
    "# is             is\n",
    "\n",
    "def add_ing_ly(word):\n",
    "    if len(word) < 3:\n",
    "        return word\n",
    "    elif word.endswith('ing'):\n",
    "        return word+'ly'\n",
    "    else:\n",
    "        return word+'ing'\n",
    "\n",
    "print(add_ing_ly('sleep'))\n",
    "print(add_ing_ly('amazing'))\n",
    "print(add_ing_ly('is'))"
   ]
  },
  {
   "cell_type": "code",
   "execution_count": 62,
   "id": "ea986e01-07ce-4e00-a2aa-f9f11a0cf01b",
   "metadata": {},
   "outputs": [
    {
     "name": "stdout",
     "output_type": "stream",
     "text": [
      "False\n",
      "True\n"
     ]
    }
   ],
   "source": [
    "# Write a python function which accepts a string containing a pattern of brackets and returns true if the pattern of brackets is correct. Otherwise it returns false.\n",
    "# The string of brackets is correct if it satisfies the following conditions:\n",
    "# 1. Number of opening and closing brackets are equal.\n",
    "# 2. Pattern should not start with closing bracket and end with opening bracket.\n",
    "# Sample Input    Expected Output\n",
    "# )()((()())      False\n",
    "# ()((())())      True\n",
    "\n",
    "\n",
    "def is_correct_bracket_pattern(s):\n",
    "    stack = []\n",
    "    \n",
    "    for char in s:\n",
    "        if char == '(':\n",
    "            stack.append(char)\n",
    "        elif char == ')':\n",
    "            if not stack:\n",
    "                return False\n",
    "            stack.pop()\n",
    "    \n",
    "    return len(stack) == 0\n",
    "\n",
    "# Testing the function with sample inputs\n",
    "print(is_correct_bracket_pattern(\")()((()())\"))\n",
    "print(is_correct_bracket_pattern(\"()((())())\")) "
   ]
  },
  {
   "cell_type": "code",
   "execution_count": 64,
   "id": "077b538a-dad0-426d-9d0f-60326380668d",
   "metadata": {},
   "outputs": [
    {
     "name": "stdout",
     "output_type": "stream",
     "text": [
      "{'AAPL': 612.78, 'IBM': 205.55}\n",
      "{'POMOGRANATE': 250.67, 'CHERRY': 500.1, 'ORANGE': 200.75}\n"
     ]
    }
   ],
   "source": [
    "def filter_prices(prices):\n",
    "    result = {}\n",
    "    for item, price in prices.items():\n",
    "        if price > 200:\n",
    "            result[item] = price\n",
    "    return result\n",
    "\n",
    "\n",
    "prices1 = {'ACME': 45.23, 'AAPL': 612.78, 'IBM': 205.55, 'HPQ': 37.20, 'FB': 10.75}\n",
    "print(filter_prices(prices1))  \n",
    "\n",
    "prices2 = {'MANGO': 150.45, 'POMOGRANATE': 250.67, 'BANANA': 20.55, 'CHERRY': 500.10, 'ORANGE': 200.75}\n",
    "print(filter_prices(prices2)) \n"
   ]
  },
  {
   "cell_type": "code",
   "execution_count": 66,
   "id": "ce43ec49-05d6-40d5-9f5e-bf8c70bd4fbf",
   "metadata": {},
   "outputs": [
    {
     "name": "stdout",
     "output_type": "stream",
     "text": [
      "True\n",
      "True\n",
      "False\n"
     ]
    }
   ],
   "source": [
    "def has_9_in_first_4_elements(nums):\n",
    "    first_four = nums[:4]\n",
    "    \n",
    "    return 9 in first_four\n",
    "\n",
    "\n",
    "print(has_9_in_first_4_elements([1, 2, 9, 3, 4]))\n",
    "\n",
    "print(has_9_in_first_4_elements([1, 2, 9])) \n",
    "\n",
    "print(has_9_in_first_4_elements([1, 2, 3, 4])) \n"
   ]
  },
  {
   "cell_type": "code",
   "execution_count": 67,
   "id": "ce8d0ee8-6825-4e1a-96fa-fc841946032b",
   "metadata": {},
   "outputs": [
    {
     "name": "stdout",
     "output_type": "stream",
     "text": [
      "[7, 3]\n",
      "[6, 0]\n"
     ]
    }
   ],
   "source": [
    "def count_letters_digits(sentence):\n",
    "    letter_count = 0\n",
    "    digit_count = 0\n",
    "    \n",
    "    for char in sentence:\n",
    "        if char.isalpha():\n",
    "            letter_count += 1\n",
    "        elif char.isdigit(): \n",
    "            digit_count += 1\n",
    "    \n",
    "    return [letter_count, digit_count]\n",
    "\n",
    "\n",
    "print(count_letters_digits(\"Infosys 123\"))\n",
    "\n",
    "print(count_letters_digits(\"ABCEFG\")) \n"
   ]
  },
  {
   "cell_type": "code",
   "execution_count": 69,
   "id": "0079541e-4318-4fa2-84dd-8422ac3611a3",
   "metadata": {},
   "outputs": [
    {
     "name": "stdout",
     "output_type": "stream",
     "text": [
      "True\n",
      "False\n"
     ]
    }
   ],
   "source": [
    "def sequence_123(nums):\n",
    "    for i in range(len(nums) - 2):\n",
    "        if nums[i] == 1 and nums[i + 1] == 2 and nums[i + 2] == 3:\n",
    "            return True\n",
    "    return False\n",
    "\n",
    "\n",
    "print(sequence_123([1, 1, 2, 3, 1])) \n",
    "\n",
    "print(sequence_123([1, 1, 2, 4, 3])) "
   ]
  },
  {
   "cell_type": "code",
   "execution_count": 72,
   "id": "574a8560-b5ac-435e-ad8b-89f2bf273a97",
   "metadata": {},
   "outputs": [
    {
     "name": "stdout",
     "output_type": "stream",
     "text": [
      "False\n",
      "False\n"
     ]
    }
   ],
   "source": [
    "def is_seed(x, y):\n",
    "    x_str = str(x)\n",
    "    product = 1\n",
    "    \n",
    "    for digit_char in x_str:\n",
    "        digit = int(digit_char)\n",
    "        product *= digit\n",
    "    \n",
    "    return product == y\n",
    "\n",
    "\n",
    "print(is_seed(123, 738))\n",
    "print(is_seed(45, 1000))"
   ]
  },
  {
   "cell_type": "code",
   "execution_count": 73,
   "id": "b2da57b4-4816-4a3b-8cbf-d51658bcb628",
   "metadata": {},
   "outputs": [
    {
     "name": "stdout",
     "output_type": "stream",
     "text": [
      "500\n",
      "750\n"
     ]
    }
   ],
   "source": [
    "# Write a python function which accepts a list of strings containing details of deposits and withdrawals made in a bank account and returns the net amount in the account.\n",
    "# Suppose the following input is supplied to the function \n",
    "# [\"D:300\",\"D:300\",\"W:200\",\"D:100\"] where D means deposit and W means withdrawal,\n",
    "# then the net amount in the account is 500.\n",
    "# Sample Input                             Expected Output\n",
    "# [\"D:300\",\"D:200\",\"W:200\",\"D:100\"]        400\n",
    "# [\"D:350\",\"W:100\",\"W:500\",\"D:1000\"]       750\n",
    "\n",
    "\n",
    "def calculate_net_amount(transactions):\n",
    "    net_amount = 0\n",
    "    \n",
    "    for transaction in transactions:\n",
    "        if transaction.startswith('D'):\n",
    "            amount = int(transaction[2:])\n",
    "            net_amount += amount\n",
    "        elif transaction.startswith('W'):\n",
    "            amount = int(transaction[2:])\n",
    "            net_amount -= amount\n",
    "    return net_amount\n",
    "\n",
    "\n",
    "print(calculate_net_amount([\"D:300\",\"D:300\",\"W:200\",\"D:100\"]))\n",
    "\n",
    "print(calculate_net_amount([\"D:350\",\"W:100\",\"W:500\",\"D:1000\"]))\n"
   ]
  },
  {
   "cell_type": "code",
   "execution_count": 74,
   "id": "052ad78c-908f-4215-8cd2-6d5fa1ffcf4c",
   "metadata": {},
   "outputs": [
    {
     "name": "stdout",
     "output_type": "stream",
     "text": [
      "{1: 1, 2: 4, 3: 9, 4: 16, 5: 25, 6: 36, 7: 49, 8: 64, 9: 81, 10: 100}\n"
     ]
    }
   ],
   "source": [
    "# Write a Python function which generates and returns a dictionary where the keys are numbers between 1 and n (both inclusive) and the values are square of keys.\n",
    "# Sample Input\n",
    "# Expected Output\n",
    "# 10\n",
    "# {1: 1, 2: 4, 3: 9, 4: 16, 5: 25, 6: 36, 7: 49, 8: 64, 9: 81, 10: 100}\n",
    "\n",
    "def generate_square_dictionary(n):\n",
    "    square_dict = {}\n",
    "    for i in range(1, n + 1):\n",
    "        square_dict[i] = i * i\n",
    "    return square_dict\n",
    "\n",
    "n = 10\n",
    "print(generate_square_dictionary(n))"
   ]
  },
  {
   "cell_type": "code",
   "execution_count": 76,
   "id": "632b443a-fccb-4309-8ed4-0a54defbc875",
   "metadata": {},
   "outputs": [
    {
     "name": "stdout",
     "output_type": "stream",
     "text": [
      "{1: 1, 2: 4, 3: 9, 4: 16, 5: 25, 6: 36, 7: 49, 8: 64, 9: 81, 10: 100}\n"
     ]
    }
   ],
   "source": [
    "# Write a Python function which accepts a string and returns a string made of the first 2 and the last 2 characters of the given string.\n",
    "# If the string length is less than 2, return -1.\n",
    "# Note: If the string length is equal to 2, consider the 2 characters to be the first as well as the last two characters.\n",
    "# Sample Input\n",
    "# Expected Output\n",
    "# w3resource\n",
    "# w3ce\n",
    "# w3\n",
    "# w3w3\n",
    "# A\n",
    "# -1\n",
    "\n",
    "\n",
    "def generate_square_dictionary(n):\n",
    "    square_dict = {}\n",
    "    for i in range(1, n + 1):\n",
    "        square_dict[i] = i * i\n",
    "    return square_dict\n",
    "\n",
    "n = 10\n",
    "print(generate_square_dictionary(n)) "
   ]
  },
  {
   "cell_type": "code",
   "execution_count": 77,
   "id": "b54e4689-7422-4fe0-8e90-e53814261c9d",
   "metadata": {},
   "outputs": [
    {
     "name": "stdout",
     "output_type": "stream",
     "text": [
      "[1, 9]\n",
      "[2, 13]\n"
     ]
    }
   ],
   "source": [
    "def count_upper_lower(sentence):\n",
    "    upper_count = 0\n",
    "    lower_count = 0\n",
    "    \n",
    "    for char in sentence:\n",
    "        if char.isalpha():\n",
    "            if char.isupper():  \n",
    "                upper_count += 1\n",
    "            elif char.islower():  \n",
    "                lower_count += 1\n",
    "    \n",
    "    return [upper_count, lower_count]\n",
    "\n",
    "\n",
    "print(count_upper_lower(\"Hello world!\"))  \n",
    "\n",
    "print(count_upper_lower(\"Welcome to Mysore\"))  \n"
   ]
  },
  {
   "cell_type": "code",
   "execution_count": null,
   "id": "6cf0ae47-dd8b-479e-a419-5f50b5dad26c",
   "metadata": {},
   "outputs": [],
   "source": []
  }
 ],
 "metadata": {
  "kernelspec": {
   "display_name": "Python 3 (ipykernel)",
   "language": "python",
   "name": "python3"
  },
  "language_info": {
   "codemirror_mode": {
    "name": "ipython",
    "version": 3
   },
   "file_extension": ".py",
   "mimetype": "text/x-python",
   "name": "python",
   "nbconvert_exporter": "python",
   "pygments_lexer": "ipython3",
   "version": "3.12.2"
  }
 },
 "nbformat": 4,
 "nbformat_minor": 5
}
