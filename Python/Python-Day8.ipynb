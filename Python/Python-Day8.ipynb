{
 "cells": [
  {
   "cell_type": "code",
   "execution_count": 25,
   "metadata": {},
   "outputs": [],
   "source": [
    "# Morning Quiz "
   ]
  },
  {
   "cell_type": "code",
   "execution_count": 18,
   "metadata": {},
   "outputs": [
    {
     "name": "stdout",
     "output_type": "stream",
     "text": [
      "200\n"
     ]
    }
   ],
   "source": [
    "class A:\n",
    "    def __init__(self):\n",
    "        self.__x = 100\n",
    "\n",
    "a = A()\n",
    "a.__x = 200\n",
    "print(a.__x)"
   ]
  },
  {
   "cell_type": "code",
   "execution_count": 34,
   "metadata": {},
   "outputs": [
    {
     "name": "stdout",
     "output_type": "stream",
     "text": [
      "200\n"
     ]
    }
   ],
   "source": [
    "class A():\n",
    "    def __init__(self, b):\n",
    "        self.x = 100\n",
    "        self.b = b\n",
    "\n",
    "class B():\n",
    "    def __init__(self):\n",
    "        self.y = 200\n",
    "\n",
    "a = A(B())\n",
    "print(a.b.y)\n",
    "# a = A(b)\n",
    "# A(B()).y.b\n",
    "# A(B()).y\n"
   ]
  },
  {
   "cell_type": "code",
   "execution_count": 33,
   "metadata": {},
   "outputs": [
    {
     "ename": "TypeError",
     "evalue": "Can't instantiate abstract class Child without an implementation for abstract method 'show'",
     "output_type": "error",
     "traceback": [
      "\u001b[1;31m---------------------------------------------------------------------------\u001b[0m",
      "\u001b[1;31mTypeError\u001b[0m                                 Traceback (most recent call last)",
      "Cell \u001b[1;32mIn[33], line 13\u001b[0m\n\u001b[0;32m     10\u001b[0m         \u001b[38;5;28msuper\u001b[39m()\u001b[38;5;241m.\u001b[39m\u001b[38;5;21m__init__\u001b[39m()\n\u001b[0;32m     11\u001b[0m         \u001b[38;5;28mself\u001b[39m\u001b[38;5;241m.\u001b[39mvar\u001b[38;5;241m=\u001b[39m\u001b[38;5;241m10\u001b[39m\n\u001b[1;32m---> 13\u001b[0m obj\u001b[38;5;241m=\u001b[39mChild()  \n\u001b[0;32m     14\u001b[0m obj\u001b[38;5;241m.\u001b[39mshow()\n",
      "\u001b[1;31mTypeError\u001b[0m: Can't instantiate abstract class Child without an implementation for abstract method 'show'"
     ]
    }
   ],
   "source": [
    "class Parent(metaclass=ABCMeta):\n",
    "    def __init__(self): \n",
    "        self.__num=100\n",
    "    @abstractmethod\n",
    "    def show(self):\n",
    "        pass\n",
    "    \n",
    "class Child(Parent):  \n",
    "    def __init__(self):\n",
    "        super().__init__()\n",
    "        self.var=10\n",
    " \n",
    "obj=Child()  \n",
    "obj.show()"
   ]
  },
  {
   "cell_type": "code",
   "execution_count": 24,
   "metadata": {},
   "outputs": [
    {
     "ename": "TypeError",
     "evalue": "Can't instantiate abstract class Test without an implementation for abstract method 'sample'",
     "output_type": "error",
     "traceback": [
      "\u001b[1;31m---------------------------------------------------------------------------\u001b[0m",
      "\u001b[1;31mTypeError\u001b[0m                                 Traceback (most recent call last)",
      "Cell \u001b[1;32mIn[24], line 9\u001b[0m\n\u001b[0;32m      6\u001b[0m     \u001b[38;5;129m@staticmethod\u001b[39m\n\u001b[0;32m      7\u001b[0m     \u001b[38;5;28;01mdef\u001b[39;00m \u001b[38;5;21msample2\u001b[39m(): \n\u001b[0;32m      8\u001b[0m         \u001b[38;5;28mprint\u001b[39m(\u001b[38;5;124m\"\u001b[39m\u001b[38;5;124mHello World\u001b[39m\u001b[38;5;124m\"\u001b[39m)\n\u001b[1;32m----> 9\u001b[0m Test()\u001b[38;5;241m.\u001b[39msample2()\n",
      "\u001b[1;31mTypeError\u001b[0m: Can't instantiate abstract class Test without an implementation for abstract method 'sample'"
     ]
    }
   ],
   "source": [
    "from abc import ABCMeta,abstractmethod\n",
    "class Test(metaclass=ABCMeta):\n",
    "    @abstractmethod\n",
    "    def sample(self): \n",
    "        pass\n",
    "    @staticmethod\n",
    "    def sample2(): \n",
    "        print(\"Hello World\")\n",
    "Test().sample2()"
   ]
  },
  {
   "cell_type": "code",
   "execution_count": 19,
   "metadata": {},
   "outputs": [
    {
     "name": "stdout",
     "output_type": "stream",
     "text": [
      "Infosys\n"
     ]
    }
   ],
   "source": [
    "class Test:\n",
    "    @staticmethod\n",
    "    def sample(): print(\"Hello World\")\n",
    "\n",
    "class Test2(Test):\n",
    "    @staticmethod\n",
    "    def sample(): print(\"Infosys\")\n",
    "\n",
    "Test2.sample()\n"
   ]
  },
  {
   "cell_type": "code",
   "execution_count": 20,
   "metadata": {},
   "outputs": [
    {
     "name": "stdout",
     "output_type": "stream",
     "text": [
      "70\n"
     ]
    }
   ],
   "source": [
    "class A:\n",
    "    def m1(self):\n",
    "        return 20\n",
    "\n",
    "class B(A):\n",
    "    def m1(self):\n",
    "        return 30\n",
    "\n",
    "    def m2(self):\n",
    "        return 40\n",
    "\n",
    "class C(B):\n",
    "    def m2(self):\n",
    "        return 20\n",
    "\n",
    "obj1 = A()\n",
    "obj2 = B()\n",
    "obj3 = C()\n",
    "print(obj1.m1() + obj3.m1() + obj3.m2())\n"
   ]
  },
  {
   "cell_type": "code",
   "execution_count": 21,
   "metadata": {},
   "outputs": [
    {
     "name": "stdout",
     "output_type": "stream",
     "text": [
      "100   200\n"
     ]
    }
   ],
   "source": [
    "class Parent:\n",
    "    def __init__(self):\n",
    "        self.num = 100\n",
    "\n",
    "class Child(Parent):\n",
    "    def __init__(self):\n",
    "        super().__init__()\n",
    "        self.var = 200\n",
    "\n",
    "child = Child()\n",
    "print(child.num, ' ', child.var)\n"
   ]
  },
  {
   "cell_type": "code",
   "execution_count": 22,
   "metadata": {},
   "outputs": [
    {
     "ename": "AttributeError",
     "evalue": "'Child' object has no attribute 'num'",
     "output_type": "error",
     "traceback": [
      "\u001b[1;31m---------------------------------------------------------------------------\u001b[0m",
      "\u001b[1;31mAttributeError\u001b[0m                            Traceback (most recent call last)",
      "Cell \u001b[1;32mIn[22], line 10\u001b[0m\n\u001b[0;32m      7\u001b[0m         \u001b[38;5;28mself\u001b[39m\u001b[38;5;241m.\u001b[39mval \u001b[38;5;241m=\u001b[39m val\n\u001b[0;32m      9\u001b[0m child \u001b[38;5;241m=\u001b[39m Child(\u001b[38;5;241m100\u001b[39m, \u001b[38;5;241m10\u001b[39m)\n\u001b[1;32m---> 10\u001b[0m \u001b[38;5;28mprint\u001b[39m(child\u001b[38;5;241m.\u001b[39mnum, \u001b[38;5;124m'\u001b[39m\u001b[38;5;124m \u001b[39m\u001b[38;5;124m'\u001b[39m, child\u001b[38;5;241m.\u001b[39mval)\n",
      "\u001b[1;31mAttributeError\u001b[0m: 'Child' object has no attribute 'num'"
     ]
    }
   ],
   "source": [
    "class Parent:\n",
    "    def __init__(self, num):\n",
    "        self.num = num\n",
    "\n",
    "class Child(Parent):\n",
    "    def __init__(self, val, num):\n",
    "        self.val = val\n",
    "\n",
    "child = Child(100, 10)\n",
    "print(child.num, ' ', child.val)\n"
   ]
  },
  {
   "cell_type": "code",
   "execution_count": 23,
   "metadata": {},
   "outputs": [
    {
     "name": "stdout",
     "output_type": "stream",
     "text": [
      "100\n"
     ]
    }
   ],
   "source": [
    "class Parent:\n",
    "    def __init__(self, num):\n",
    "        self.num = num\n",
    "\n",
    "class Child(Parent):\n",
    "    pass\n",
    "\n",
    "parent = Parent(200)\n",
    "child = Child(100)\n",
    "print(child.num)\n"
   ]
  },
  {
   "cell_type": "code",
   "execution_count": 35,
   "metadata": {},
   "outputs": [
    {
     "name": "stdout",
     "output_type": "stream",
     "text": [
      "Result=  1.0\n",
      "Thanks for using app\n"
     ]
    }
   ],
   "source": [
    "try:\n",
    "    a=int(input('enter num1'))\n",
    "    b=int(input('enter num1'))\n",
    "    c=a/b\n",
    "    print(\"Result= \",c)\n",
    "except ZeroDivisionError:\n",
    "    #This except block gets executed only if  ZeroDivisionError occur in try block\n",
    "    print('Dont provide denominator value as zero')\n",
    "except ValueError:\n",
    "    #This except block gets executed only if  ValueError occur in try block\n",
    "    print('please provide valid input')\n",
    "print('Thanks for using app')"
   ]
  },
  {
   "cell_type": "code",
   "execution_count": 36,
   "metadata": {},
   "outputs": [],
   "source": [
    "#what happended exception occured in try block\n",
    "#When Exception occured in try block then control comes out from try block without executing rest\n",
    "    #line of code\n",
    " \n",
    "#try:\n",
    "    #stmt which causes Exception\n",
    "    #stmt which not required to execute if excepion occured\n",
    " \n",
    "#except DivisionByZero:\n",
    "    #Handling code\n",
    "    #Alternative code"
   ]
  },
  {
   "cell_type": "code",
   "execution_count": 41,
   "metadata": {},
   "outputs": [
    {
     "name": "stdout",
     "output_type": "stream",
     "text": [
      "inside method\n",
      "None\n"
     ]
    }
   ],
   "source": [
    "def f1(a,b):\n",
    "\n",
    "    try:\n",
    "\n",
    "        return a/b\n",
    "\n",
    "    except ZeroDivisionError:\n",
    "\n",
    "        print('inside method')\n",
    " \n",
    "try:\n",
    "\n",
    "    res=f1(10,0)\n",
    "\n",
    "    print(res)\n",
    "\n",
    "except ZeroDivisionError:\n",
    "\n",
    "    print('Do not provide zero value')\n"
   ]
  },
  {
   "cell_type": "code",
   "execution_count": 40,
   "metadata": {},
   "outputs": [
    {
     "name": "stdout",
     "output_type": "stream",
     "text": [
      "50.0\n",
      "thanks for using app\n"
     ]
    }
   ],
   "source": [
    "num1=100\n",
    "\n",
    "num2=2\n",
    "\n",
    "try:\n",
    "\n",
    "    result=num1/num2\n",
    "\n",
    "    print(result)\n",
    "\n",
    "except ZeroDivisionError:\n",
    "\n",
    "    print(\"Zero Division Error Occurred\")\n",
    "\n",
    "finally:\n",
    "\n",
    "    print(\"thanks for using app\")\n"
   ]
  },
  {
   "cell_type": "code",
   "execution_count": 44,
   "metadata": {},
   "outputs": [
    {
     "name": "stdout",
     "output_type": "stream",
     "text": [
      "100\n",
      "300\n",
      "600\n",
      "Some error occured\n",
      "Returning back from function.\n"
     ]
    }
   ],
   "source": [
    "#calculating airport expenditure\n",
    "def calculate_expenditure(list_of_expenditure):\n",
    "    total=0\n",
    "    try:\n",
    "        for expenditure in list_of_expenditure:\n",
    "            total+=expenditure\n",
    "            print(total)\n",
    "    except:\n",
    "        print(\"Some error occured\")\n",
    "        print(\"Returning back from function.\")\n",
    "\n",
    "list_of_values=[100,200,300,\"400\",500]\n",
    "calculate_expenditure(list_of_values)\n"
   ]
  },
  {
   "cell_type": "code",
   "execution_count": 46,
   "metadata": {},
   "outputs": [
    {
     "name": "stdout",
     "output_type": "stream",
     "text": [
      "Total: 100\n",
      "Total: 300\n",
      "Total: 600\n",
      "Total: 1000\n",
      "Total: 1500\n",
      "Average: 300.0\n"
     ]
    }
   ],
   "source": [
    "def calculate_expenditure(list_of_expenditure):\n",
    "    total = 0\n",
    "    num_values = 0  # Initialize num_values here\n",
    "    try:\n",
    "        for expenditure in list_of_expenditure:\n",
    "            try:\n",
    "                total += int(expenditure)  # Convert expenditure to int\n",
    "                num_values += 1  # Increment num_values for valid expenditures\n",
    "                print(\"Total:\", total)\n",
    "            except ValueError:\n",
    "                print(f\"Skipping invalid value: {expenditure}\")\n",
    "        \n",
    "        if num_values > 0:\n",
    "            avg = total / num_values  # Calculate average if num_values > 0\n",
    "            print(\"Average:\", avg)\n",
    "        else:\n",
    "            print(\"No valid expenditures to calculate average\")\n",
    "            \n",
    "    except ZeroDivisionError:\n",
    "        print(\"Divide by Zero error\")\n",
    "    except TypeError:\n",
    "        print(\"Wrong data type\")\n",
    "\n",
    "# Example usage:\n",
    "list_of_values = [100, 200, 300, \"400\", 500]\n",
    "calculate_expenditure(list_of_values)\n"
   ]
  },
  {
   "cell_type": "code",
   "execution_count": 47,
   "metadata": {},
   "outputs": [
    {
     "name": "stdout",
     "output_type": "stream",
     "text": [
      "Take the card out of ATM\n",
      "Withdraw\n",
      "Transaction complete\n"
     ]
    }
   ],
   "source": [
    "balance = 1000\n",
    "amount = \"300Rs\"  # Note: \"300Rs\" is a string, we need to extract the numeric part for comparison\n",
    "\n",
    "def take_card():\n",
    "    print(\"Take the card out of ATM\")\n",
    "    try:\n",
    "        # Extract numeric part from amount (assuming it's always in format \"<number>Rs\")\n",
    "        numeric_amount = int(amount[:-2])  # Slice to remove \"Rs\" and convert to int\n",
    "        \n",
    "        if balance >= numeric_amount:\n",
    "            print(\"Withdraw\")\n",
    "        else:\n",
    "            print(\"Insufficient balance\")\n",
    "\n",
    "    except TypeError:\n",
    "        print(\"Type Error Occurred\")\n",
    "    except ValueError:\n",
    "        print(\"Value Error Occurred\")\n",
    "    except Exception as e:\n",
    "        print(f\"Some error Occurred: {e}\")\n",
    "    finally:\n",
    "        print(\"Transaction complete\")\n",
    "\n",
    "# Call the function\n",
    "take_card()\n"
   ]
  },
  {
   "cell_type": "code",
   "execution_count": 49,
   "metadata": {},
   "outputs": [],
   "source": [
    "class CreditCard:\n",
    "    def __init__(self, card_no, balance):\n",
    "        self.card_no = card_no\n",
    "        self.balance = balance\n",
    "\n",
    "\n",
    "class Customer:\n",
    "    def __init__(self,cards):\n",
    "        self.cards=cards\n",
    "\n",
    "\n",
    "    def purchase_item(self, price, card_no):\n",
    "        if price < 0:\n",
    "            raise Exception()\n",
    "        if card_no not in self.cards:\n",
    "            raise Exception()\n",
    "        if price>self.cards[card_no].balance:\n",
    "            raise Exception()\n",
    "\n",
    "\n",
    "card1=CreditCard(101,800)\n",
    "card2=CreditCard(102,2000)\n",
    "cards={card1.card_no:card1,card2.card_no:card2}\n",
    "c=Customer(cards)\n",
    "\n",
    "\n",
    "while(True):\n",
    "    card_no=int(input(\"Please enter a card number\"))\n",
    "    try:\n",
    "        c.purchase_item(1200,card_no)\n",
    "        break\n",
    "    except Exception as e:\n",
    "        print(\"Something went wrong. \"+str(e))"
   ]
  },
  {
   "cell_type": "code",
   "execution_count": 50,
   "metadata": {},
   "outputs": [],
   "source": [
    "class CreditCard:\n",
    "    def __init__(self,card_no,balance):\n",
    "        self.card_no=card_no\n",
    "        self.balance=balance\n",
    "\n",
    "\n",
    "class Customer:\n",
    "    def __init__(self,cards):\n",
    "        self.cards=cards\n",
    "\n",
    "\n",
    "    def purchase_item(self, price, card_no):\n",
    "        if price < 0:\n",
    "            raise Exception()\n",
    "        if card_no not in self.cards:\n",
    "            raise Exception()\n",
    "        if price>self.cards[card_no].balance:\n",
    "            raise Exception()\n",
    "\n",
    "\n",
    "card1=CreditCard(101,800)\n",
    "card2=CreditCard(102,2000)\n",
    "cards={card1.card_no:card1,card2.card_no:card2}\n",
    "c=Customer(cards)\n",
    "\n",
    "\n",
    "while(True):\n",
    "    card_no=int(input(\"Please enter a card number\"))\n",
    "    try:\n",
    "        c.purchase_item(1200,card_no)\n",
    "        break\n",
    "    except Exception as e:\n",
    "        print(\"Something went wrong. \"+str(e))\n"
   ]
  },
  {
   "cell_type": "code",
   "execution_count": 51,
   "metadata": {},
   "outputs": [],
   "source": [
    "class CreditCard:\n",
    "    def __init__(self,card_no,balance):\n",
    "        self.card_no=card_no\n",
    "        self.balance=balance\n",
    "\n",
    "\n",
    "class Customer:\n",
    "    def __init__(self,cards):\n",
    "        self.cards=cards\n",
    "\n",
    "\n",
    "    def purchase_item(self, price, card_no):\n",
    "        if price < 0:\n",
    "            raise Exception(\"Invalid Price\")\n",
    "        if card_no not in self.cards:\n",
    "            raise Exception(\"Wrong card\")\n",
    "        if price>self.cards[card_no].balance:\n",
    "            raise Exception(\"Wrong card\")\n",
    "\n",
    "\n",
    "card1=CreditCard(101,800)\n",
    "card2=CreditCard(102,2000)\n",
    "cards={card1.card_no:card1,card2.card_no:card2}\n",
    "c=Customer(cards)\n",
    "\n",
    "\n",
    "while(True):\n",
    "    card_no=int(input(\"Please enter a card number\"))\n",
    "    try:\n",
    "        c.purchase_item(1200,card_no)\n",
    "        break\n",
    "    except Exception as e:\n",
    "        if str(e)==\"Invalid Price\":\n",
    "            print(\"Product price is wrong\")\n",
    "            break\n",
    "        if str(e)==\"Wrong card\":\n",
    "            continue\n"
   ]
  },
  {
   "cell_type": "code",
   "execution_count": 54,
   "metadata": {},
   "outputs": [
    {
     "name": "stdout",
     "output_type": "stream",
     "text": [
      "Card is invalid\n",
      "Card is invalid\n"
     ]
    }
   ],
   "source": [
    "class InvalidPrice(Exception):\n",
    "    pass\n",
    "\n",
    "\n",
    "class WrongCard(Exception):\n",
    "    pass\n",
    "\n",
    "\n",
    "class CreditCard:\n",
    "    def __init__(self, card_no, balance):\n",
    "        self.card_no=card_no\n",
    "        self.balance=balance\n",
    "\n",
    "\n",
    "class Customer:\n",
    "    def __init__(self,cards):\n",
    "        self.cards=cards\n",
    "    def purchase_item(self,price,card_no):\n",
    "        if price < 0:\n",
    "            raise InvalidPrice(\"The price is wrong\")\n",
    "        if card_no not in self.cards:\n",
    "            raise WrongCard(\"Card is invalid\")\n",
    "        if price>self.cards[card_no].balance:\n",
    "            raise WrongCard(\"Card has insufficient balance\")\n",
    "\n",
    "\n",
    "card1=CreditCard(101,800)\n",
    "card2=CreditCard(102,2000)\n",
    "cards={card1.card_no:card1,card2.card_no:card2}\n",
    "c=Customer(cards)\n",
    "\n",
    "\n",
    "while(True):\n",
    "    card_no=int(input(\"Please enter a card number\"))\n",
    "    try:\n",
    "        c.purchase_item(1200,card_no)\n",
    "        break\n",
    "    except InvalidPrice as e:\n",
    "        print(str(e))\n",
    "        break\n",
    "    except WrongCard as e:\n",
    "        print(str(e))\n",
    "        continue\n",
    "    except Exception as e:\n",
    "        print(\"Something went wrong. \"+str(e))\n"
   ]
  },
  {
   "cell_type": "code",
   "execution_count": 55,
   "metadata": {},
   "outputs": [
    {
     "name": "stdout",
     "output_type": "stream",
     "text": [
      "{'Alex': 35, 'Bob': 9, 'Carol': 10, 'Dave': 6, 'Flow': 41, 'Katie': 55, 'Nate': 8}\n",
      "{'Sunday': 30.5, 'Monday': 32.6, 'Tuesday': 31.8, 'Wednesday': 33.4, 'Thursday': 29.8, 'Friday': 30.2, 'Saturday': 29.9}\n"
     ]
    }
   ],
   "source": [
    "#Dict comprenshions #{ <new_key>: <new_value> for <item> in <iterable>}\n",
    "import random\n",
    "customers=[\"Alex\", \"Bob\", \"Carol\", \"Dave\", \"Flow\", \"Katie\", \"Nate\"]\n",
    "d1={ customer: random.randint(1,100) for customer in customers }\n",
    "print (d1)\n",
    "days=[\"Sunday\", \"Monday\", \"Tuesday\", \"Wednesday\", \"Thursday\", \"Friday\", \"Saturday\"] \n",
    "temp_c=[30.5,32.6,31.8,33.4,29.8,30.2,29.9]\n",
    "weekly_temp = {day:temp for (day, temp) in zip(days, temp_c)}\n",
    "print(weekly_temp)"
   ]
  },
  {
   "cell_type": "code",
   "execution_count": 56,
   "metadata": {},
   "outputs": [
    {
     "name": "stdout",
     "output_type": "stream",
     "text": [
      "{'Alex': 36, 'Bob': 21, 'Carol': 59, 'Dave': 32, 'Flow': 45, 'Katie': 8, 'Nate': 24}\n",
      "{'Sunday': 30.5, 'Monday': 32.6, 'Tuesday': 31.8, 'Wednesday': 33.4, 'Thursday': 29.8, 'Friday': 30.2, 'Saturday': 29.9}\n",
      "{2: 4, 4: 16, 6: 36, 8: 64, 10: 100}\n",
      "{'java': 4, 'python': 6, 'php': 3, 'SQL': 3}\n"
     ]
    }
   ],
   "source": [
    "# Dict comprenshions\n",
    "#{ <new_key>:<new_value> for <item> in <iterable>}\n",
    " \n",
    "import random\n",
    "customers=[\"Alex\",\"Bob\",\"Carol\",\"Dave\",\"Flow\",\"Katie\",\"Nate\"]\n",
    "d1={ customer:random.randint(1,100) for customer in customers}\n",
    "print(d1)\n",
    " \n",
    "days=[\"Sunday\",\"Monday\",\"Tuesday\",\"Wednesday\",\"Thursday\",\"Friday\",\"Saturday\"]\n",
    "temp_c=[30.5,32.6,31.8,33.4,29.8,30.2,29.9]\n",
    "weekly_temp={ day:temp for (day,temp) in zip(days,temp_c)}\n",
    "print(weekly_temp)\n",
    " \n",
    "sd={i:i*i for i in range(1,11) if i%2==0}\n",
    "print(sd)\n",
    " \n",
    "# d={ key:value for item in iterable}\n",
    " \n",
    "nums=[10,20,30,40,50]\n",
    "d={n:n*n for n in nums}\n",
    " \n",
    "words=[\"java\",\"python\",\"php\",\"SQL\"]\n",
    "d1={word:len(word) for word in words}\n",
    "print(d1)\n",
    " \n",
    " \n",
    " \n",
    " "
   ]
  },
  {
   "cell_type": "code",
   "execution_count": 57,
   "metadata": {},
   "outputs": [
    {
     "name": "stdout",
     "output_type": "stream",
     "text": [
      "Details of Occasional Customer:\n",
      "Bill ID: O1001\n",
      "Distance in kms: 3\n",
      "Bill Amount: 67.5\n",
      "\n",
      "Details of Regular Customer:\n",
      "Bill ID: R101\n",
      "No. of Tiffins: 5\n",
      "Bill Amount: 1750\n"
     ]
    }
   ],
   "source": [
    "class OccasionalCustomer:\n",
    "    counter = 1000\n",
    "\n",
    "    def __init__(self, distance_in_kms):\n",
    "        OccasionalCustomer.counter += 1\n",
    "        self.bill_id = f\"O{OccasionalCustomer.counter}\"\n",
    "        self.distance_in_kms = distance_in_kms\n",
    "        self.bill_amount = 0\n",
    "\n",
    "    def validate_distance_in_kms(self):\n",
    "        if 1 <= self.distance_in_kms <= 5:\n",
    "            if 1 <= self.distance_in_kms <= 2:\n",
    "                self.bill_amount = self.distance_in_kms * 5\n",
    "            elif 2 < self.distance_in_kms <= 5:\n",
    "                self.bill_amount = 2 * 5 + (self.distance_in_kms - 2) * 7.5\n",
    "            return True\n",
    "        else:\n",
    "            return False\n",
    "\n",
    "    def calculate_bill_amount(self):\n",
    "        if self.validate_distance_in_kms():\n",
    "            tiffin_cost = 50\n",
    "            self.bill_amount += tiffin_cost\n",
    "            return self.bill_amount\n",
    "        else:\n",
    "            self.bill_amount = -1\n",
    "            return self.bill_amount\n",
    "\n",
    "\n",
    "class RegularCustomer:\n",
    "    counter = 100\n",
    "\n",
    "    def __init__(self, no_of_tiffins):\n",
    "        RegularCustomer.counter += 1\n",
    "        self.bill_id = f\"R{RegularCustomer.counter}\"\n",
    "        self.no_of_tiffins = no_of_tiffins\n",
    "        self.bill_amount = 0\n",
    "\n",
    "    def validate_no_of_tiffins(self):\n",
    "        if 1 <= self.no_of_tiffins <= 7:\n",
    "            return True\n",
    "        else:\n",
    "            return False\n",
    "\n",
    "    def calculate_bill_amount(self):\n",
    "        if self.validate_no_of_tiffins():\n",
    "            tiffin_cost = 50\n",
    "            self.bill_amount = self.no_of_tiffins * tiffin_cost * 7  # Weekly bill\n",
    "            return self.bill_amount\n",
    "        else:\n",
    "            self.bill_amount = -1\n",
    "            return self.bill_amount\n",
    "\n",
    "\n",
    "# Testing the classes\n",
    "if __name__ == \"__main__\":\n",
    "    # Create instances of OccasionalCustomer and RegularCustomer\n",
    "    occasional_customer = OccasionalCustomer(3)\n",
    "    regular_customer = RegularCustomer(5)\n",
    "\n",
    "    # Calculate bill amounts\n",
    "    occasional_bill_amount = occasional_customer.calculate_bill_amount()\n",
    "    regular_bill_amount = regular_customer.calculate_bill_amount()\n",
    "\n",
    "    # Display details of the customers\n",
    "    print(\"Details of Occasional Customer:\")\n",
    "    print(f\"Bill ID: {occasional_customer.bill_id}\")\n",
    "    print(f\"Distance in kms: {occasional_customer.distance_in_kms}\")\n",
    "    print(f\"Bill Amount: {occasional_bill_amount}\")\n",
    "\n",
    "    print(\"\\nDetails of Regular Customer:\")\n",
    "    print(f\"Bill ID: {regular_customer.bill_id}\")\n",
    "    print(f\"No. of Tiffins: {regular_customer.no_of_tiffins}\")\n",
    "    print(f\"Bill Amount: {regular_bill_amount}\")\n"
   ]
  },
  {
   "cell_type": "code",
   "execution_count": 58,
   "metadata": {},
   "outputs": [
    {
     "name": "stdout",
     "output_type": "stream",
     "text": [
      "words less than 4 letters:\n",
      "['On', 'a', 'day', 'in', 'the', 'sun', 'and', 'his', 'red']\n"
     ]
    }
   ],
   "source": [
    "sentence = 'On a summer day somner smith went simming in the sun and his red skin stung'\n",
    "words = sentence.split()\n",
    "\n",
    "short_words = [word for word in words if len(word) < 4]\n",
    "\n",
    "print(\"words less than 4 letters:\")\n",
    "print(short_words)"
   ]
  },
  {
   "cell_type": "code",
   "execution_count": 60,
   "metadata": {},
   "outputs": [
    {
     "name": "stdout",
     "output_type": "stream",
     "text": [
      "Result:  [(1, 1), (2, 2), (7, 7)]\n"
     ]
    }
   ],
   "source": [
    "# Produce a list of tuples consisting of only the matching numbers in these lists \n",
    "# list_a = [1, 2, 3,4,5,6,7,8,9]\n",
    "# list_b = [2, 7, 1, 12].  \n",
    "# Result would look like (4,4), (12,12)\n",
    "\n",
    "list_a = [1, 2, 3, 4, 5, 6, 7, 8, 9]\n",
    "list_b = [2, 7, 1, 12]\n",
    "\n",
    "set_A = set(list_a)\n",
    "set_B = set(list_b)\n",
    "\n",
    "common_ele = set_A.intersection(set_B)\n",
    "\n",
    "result = [(x, x) for x in common_ele]\n",
    "print(\"Result: \", result)"
   ]
  },
  {
   "cell_type": "code",
   "execution_count": 64,
   "metadata": {},
   "outputs": [
    {
     "name": "stdout",
     "output_type": "stream",
     "text": [
      "Results: ['even', 'odd', 'even', 'odd', 'even', 'odd', 'even', 'odd', 'even', 'odd', 'even', 'odd', 'even', 'odd', 'even', 'odd', 'even', 'odd', 'even', 'odd']\n"
     ]
    }
   ],
   "source": [
    "# Given numbers = range(20), produce a list containing the \n",
    "# word 'even' if a number in the numbers is even, and the \n",
    "# word 'odd' if the number is odd.  \n",
    "# Result would look like ['odd','odd', 'even']\n",
    "\n",
    "\n",
    "numbers = range(20)\n",
    "\n",
    "result = ['even' if num%2==0 else 'odd' for num in numbers]\n",
    "\n",
    "print(\"Results:\", result)"
   ]
  },
  {
   "cell_type": "code",
   "execution_count": 3,
   "metadata": {},
   "outputs": [
    {
     "name": "stdout",
     "output_type": "stream",
     "text": [
      "[1984, 13, 1000]\n"
     ]
    }
   ],
   "source": [
    "import re\n",
    "\n",
    "sentence = 'In 1984 there were 13 instances of a protest with over 1000 people attending'\n",
    "\n",
    "pattern = r'\\d+'\n",
    "\n",
    "numbers_str = re.findall(pattern, sentence)\n",
    "\n",
    "numbers = [int(num) for num in numbers_str]\n",
    "\n",
    "print(numbers)"
   ]
  },
  {
   "cell_type": "code",
   "execution_count": 4,
   "metadata": {},
   "outputs": [
    {
     "name": "stdout",
     "output_type": "stream",
     "text": [
      "Common numbers: [2, 3, 4]\n"
     ]
    }
   ],
   "source": [
    "list_a = [1, 2, 3, 4]\n",
    "list_b = [2, 3, 4, 5]\n",
    "\n",
    "common_num = [num_A for num_A in list_a if num_A in list_b]\n",
    "\n",
    "print(\"Common numbers:\", common_num)"
   ]
  },
  {
   "cell_type": "code",
   "execution_count": 5,
   "metadata": {},
   "outputs": [
    {
     "name": "stdout",
     "output_type": "stream",
     "text": [
      "[(0, 'hi'), (1, 4), (2, 8.99), (3, 'apple'), (4, ('t,b', 'n'))]\n"
     ]
    }
   ],
   "source": [
    "items = [\"hi\", 4, 8.99, 'apple', ('t,b','n')]\n",
    "\n",
    "indexed_items = [(index, value) for index, value in enumerate(items)]\n",
    "\n",
    "print(indexed_items)"
   ]
  },
  {
   "cell_type": "code",
   "execution_count": 6,
   "metadata": {},
   "outputs": [
    {
     "name": "stdout",
     "output_type": "stream",
     "text": [
      "['Y', 'l', 'l', 'w', 'Y', 'k', 's', 'l', 'k', 'y', 'l', 'l', 'n', 'g', 'n', 'd', 'y', 'w', 'n', 'n', 'g', 'n', 'd', 'y', 's', 't', 'r', 'd', 'y', 't', 'h', 'y', 'y', 'd', 'l', 'd', 'w', 'h', 'l', 't', 'n', 'g', 'y', 'c', 'k', 'y', 'y', 'm', 's']\n"
     ]
    }
   ],
   "source": [
    "consonants = 'bcdfghjklmnpqrstvwxyzBCDFGHJKLMNPQRSTVWXYZ'\n",
    "\n",
    "string = \"Yellow Yaks like yelling and yawning and yesterday they yodeled while eating yucky yams\"\n",
    "\n",
    "consonants_list = [char for char in string if char in consonants]\n",
    "\n",
    "print(consonants_list)"
   ]
  },
  {
   "cell_type": "code",
   "execution_count": 7,
   "metadata": {},
   "outputs": [
    {
     "name": "stdout",
     "output_type": "stream",
     "text": [
      "9\n"
     ]
    }
   ],
   "source": [
    "some_string = 'the slow solid squid swam sumptuously through the slimy swamp'\n",
    "\n",
    "space_count = some_string.count(' ')\n",
    "\n",
    "print(space_count)"
   ]
  },
  {
   "cell_type": "code",
   "execution_count": 8,
   "metadata": {},
   "outputs": [
    {
     "name": "stdout",
     "output_type": "stream",
     "text": [
      "[3, 13, 23, 30, 31, 32, 33, 34, 35, 36, 37, 38, 39, 43, 53, 63, 73, 83, 93, 103, 113, 123, 130, 131, 132, 133, 134, 135, 136, 137, 138, 139, 143, 153, 163, 173, 183, 193, 203, 213, 223, 230, 231, 232, 233, 234, 235, 236, 237, 238, 239, 243, 253, 263, 273, 283, 293, 300, 301, 302, 303, 304, 305, 306, 307, 308, 309, 310, 311, 312, 313, 314, 315, 316, 317, 318, 319, 320, 321, 322, 323, 324, 325, 326, 327, 328, 329, 330, 331, 332, 333, 334, 335, 336, 337, 338, 339, 340, 341, 342, 343, 344, 345, 346, 347, 348, 349, 350, 351, 352, 353, 354, 355, 356, 357, 358, 359, 360, 361, 362, 363, 364, 365, 366, 367, 368, 369, 370, 371, 372, 373, 374, 375, 376, 377, 378, 379, 380, 381, 382, 383, 384, 385, 386, 387, 388, 389, 390, 391, 392, 393, 394, 395, 396, 397, 398, 399, 403, 413, 423, 430, 431, 432, 433, 434, 435, 436, 437, 438, 439, 443, 453, 463, 473, 483, 493, 503, 513, 523, 530, 531, 532, 533, 534, 535, 536, 537, 538, 539, 543, 553, 563, 573, 583, 593, 603, 613, 623, 630, 631, 632, 633, 634, 635, 636, 637, 638, 639, 643, 653, 663, 673, 683, 693, 703, 713, 723, 730, 731, 732, 733, 734, 735, 736, 737, 738, 739, 743, 753, 763, 773, 783, 793, 803, 813, 823, 830, 831, 832, 833, 834, 835, 836, 837, 838, 839, 843, 853, 863, 873, 883, 893, 903, 913, 923, 930, 931, 932, 933, 934, 935, 936, 937, 938, 939, 943, 953, 963, 973, 983, 993]\n"
     ]
    }
   ],
   "source": [
    "numbers_with_3 = [num for num in range(1, 1001) if '3' in str(num)]\n",
    "\n",
    "print(numbers_with_3)"
   ]
  },
  {
   "cell_type": "code",
   "execution_count": null,
   "metadata": {},
   "outputs": [],
   "source": []
  }
 ],
 "metadata": {
  "kernelspec": {
   "display_name": "base",
   "language": "python",
   "name": "python3"
  },
  "language_info": {
   "codemirror_mode": {
    "name": "ipython",
    "version": 3
   },
   "file_extension": ".py",
   "mimetype": "text/x-python",
   "name": "python",
   "nbconvert_exporter": "python",
   "pygments_lexer": "ipython3",
   "version": "3.12.2"
  }
 },
 "nbformat": 4,
 "nbformat_minor": 2
}
