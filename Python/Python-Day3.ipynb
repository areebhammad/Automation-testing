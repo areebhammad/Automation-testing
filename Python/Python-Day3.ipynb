{
 "cells": [
  {
   "cell_type": "code",
   "execution_count": 1,
   "id": "885c94aa-8d8f-49cd-9a1b-734c33c70f93",
   "metadata": {},
   "outputs": [
    {
     "name": "stdout",
     "output_type": "stream",
     "text": [
      "{'Maria', 'Remo', 'Henry', 'George', 'Jack', 'Annie', 'Helen'}\n",
      "{500, 520, 345, 634, 600, 200}\n",
      "['AI230', 'BA944', 'EM395', 'AI704', 'BA944', 'AI704']\n",
      "['SI107', 'AI034', 'EM395', 'AI704', 'BA802', 'SI236']\n",
      "{'AI230', 'AI704', 'EM395', 'BA944'}\n",
      "{'SI236', 'SI107', 'AI034', 'EM395', 'AI704', 'BA802'}\n",
      "{'AI230', 'BA944'}\n",
      "{'EM395', 'AI704'}\n",
      "{'SI236', 'SI107', 'AI034', 'EM395', 'BA944', 'AI230', 'AI704', 'BA802'}\n"
     ]
    }
   ],
   "source": [
    "#list of passengers\n",
    "passengers_list=[\"George\",\"Annie\", \"Jack\",\"Annie\",\"Henry\", \"Helen\",\"Maria\",\"George\",\"Jack\",\"Remo\"]\n",
    " \n",
    "#set function - removes the duplicates from the list and returns a set\n",
    "unique_passengers=set(passengers_list)\n",
    "print(unique_passengers)\n",
    " \n",
    "#creating a set\n",
    "flight_set={500,520,600,345,520,634,600,500,200,200}\n",
    "print(flight_set)\n",
    " \n",
    "flights_at_src = [\"AI230\",\"BA944\",\"EM395\",\"AI704\",\"BA944\",\"AI704\"]\n",
    "flights_at_dest = [\"SI107\",\"AI034\",\"EM395\",\"AI704\",\"BA802\",\"SI236\"]\n",
    "print(flights_at_src)\n",
    "print(flights_at_dest)\n",
    " \n",
    "#Creating list of unique flights at source and destination\n",
    "uniq_src_flights = set(flights_at_src)\n",
    "uniq_dest_flights = set(flights_at_dest)\n",
    "print(uniq_src_flights)\n",
    "print(uniq_dest_flights)\n",
    " \n",
    " \n",
    "#setA-setB -> Gives the elements that are only in setA\n",
    "#List of flights only at source airport\n",
    "flights_only_at_src = uniq_src_flights-uniq_dest_flights\n",
    "print(flights_only_at_src)\n",
    " \n",
    "#setA&setB -> Gives the common elements between setA and setB\n",
    "#List of flights common to source and destination airports\n",
    "common_flights=uniq_src_flights&uniq_dest_flights\n",
    "print(common_flights)\n",
    " \n",
    "#setA|setB -> merges setA and setB after removing duplicates\n",
    "#List of all flights at source and destination airports\n",
    "all_flights=uniq_src_flights|uniq_dest_flights\n",
    "print(all_flights)"
   ]
  },
  {
   "cell_type": "code",
   "execution_count": 2,
   "id": "da898d67-fbc4-4cc8-882b-86321bb583eb",
   "metadata": {},
   "outputs": [
    {
     "name": "stdout",
     "output_type": "stream",
     "text": [
      "[1, 2, 3, 4, 4]\n"
     ]
    }
   ],
   "source": [
    "# Lists\n",
    "# Ordered Collection: Lists maintain the order of elements as they are inserted.\n",
    "# Mutable: Elements can be added, removed, or modified after the list is created.\n",
    "# Allows Duplicates: Lists can contain duplicate elements.\n",
    "# Indexed: Elements in a list can be accessed using zero-based indexing (e.g., my_list[0]).\n",
    "\n",
    "\n",
    "my_list = [1, 2, 3, 4, 4]  # Duplicate 4 is allowed\n",
    "print(my_list)  # Output: [1, 2, 3, 4, 4]\n"
   ]
  },
  {
   "cell_type": "code",
   "execution_count": 3,
   "id": "e803c01a-b901-4736-91ce-3d74aedcab1d",
   "metadata": {},
   "outputs": [
    {
     "name": "stdout",
     "output_type": "stream",
     "text": [
      "{1, 2, 3, 4}\n"
     ]
    }
   ],
   "source": [
    "# Sets\n",
    "# Unordered Collection: Sets do not maintain any order of elements.\n",
    "# Mutable (to an extent): Elements can be added or removed, but individual elements cannot be modified.\n",
    "# Unique Elements: Sets do not allow duplicate elements. If you try to add a duplicate element, it won't be added.\n",
    "# Not Indexed: Elements in a set cannot be accessed or retrieved using indexing.\n",
    "\n",
    "my_set = {1, 2, 3, 4, 4}  # Duplicate 4 will be ignored\n",
    "print(my_set)  # Output: {1, 2, 3, 4}\n"
   ]
  },
  {
   "cell_type": "code",
   "execution_count": 5,
   "id": "f1827c9c-7fab-46c5-bf02-7608e007b81f",
   "metadata": {},
   "outputs": [
    {
     "name": "stdout",
     "output_type": "stream",
     "text": [
      "{'Archil', 'Daxit', 'Jay', 'Idrish'}\n",
      "{'Archil', 'Daxit', 'Idrish'}\n",
      "Archil\n",
      "Daxit\n",
      "Idrish\n",
      "True\n"
     ]
    }
   ],
   "source": [
    "people = {\"Jay\", \"Idrish\", \"Archil\"}\n",
    "people.add(\"Daxit\")\n",
    "print (people)\n",
    "people.remove(\"Jay\")\n",
    "print (people)\n",
    "for p in people:\n",
    "    print(p)\n",
    "print(\"Daxit\" in people)"
   ]
  },
  {
   "cell_type": "code",
   "execution_count": 24,
   "id": "7b6fdeec-f6cf-48a4-94e6-89b229045d4f",
   "metadata": {},
   "outputs": [
    {
     "name": "stdout",
     "output_type": "stream",
     "text": [
      "{1, 2, 3, 4, 5}\n",
      "{1, 2, 3, 4, 5}\n",
      "{3}\n",
      "{1, 2}\n",
      "False\n",
      "False\n",
      "{1, 2}\n",
      "2\n"
     ]
    }
   ],
   "source": [
    "A = {1, 2, 3}\n",
    "B = {3, 4, 5}\n",
    "print(A|B) # union\n",
    "print(A.union(B)) # union\n",
    "print(A&B) # intersection\n",
    "print(A-B) # Only show unique elements from sets A\n",
    "print(A>B)\n",
    "print(B>A)\n",
    "\n",
    "#remove method will raise an error if the specified item does not exists,and the discard method will not\n",
    "A.discard(3)\n",
    "# A.remove(20)\n",
    "print(A)\n",
    "print(len(A))"
   ]
  },
  {
   "cell_type": "code",
   "execution_count": 32,
   "id": "e04ccf85-9984-425c-9e76-d5b7d4fd991c",
   "metadata": {},
   "outputs": [
    {
     "name": "stdout",
     "output_type": "stream",
     "text": [
      "[10, 20, 30, 40]\n",
      "[10, 20, 30, 40, 50]\n",
      "[10, 20, 30, 40, 50, 60, 70, 80, 90, 100]\n",
      "[10, 20, 30, [40, 50, 60, 70, 80]]\n",
      "[40, 50, 60, 70, 80]\n",
      "40\n",
      "[10, 20, 30, 40, 50, 60, 70, 80]\n",
      "[10, 20, 30, 0, 1, 2, 3, 4]\n",
      "8\n"
     ]
    }
   ],
   "source": [
    "num=[10,20,30] \n",
    "num.append (40)\n",
    "print (num)\n",
    "num.append (50)\n",
    "print (num)\n",
    "\n",
    "for number in range (60,101,10): \n",
    "    num.append (number)\n",
    "print (num)\n",
    "\n",
    "num1=[10,20,30]\n",
    "num2=[i for i in range (40,81,10)]\n",
    "num1.append(num2)\n",
    "print (num1)\n",
    "print (num1[3])\n",
    "print (num1 [3] [0])\n",
    "\n",
    "num1=[10,20,30]\n",
    "num2=[i for i in range (40,81,10)]\n",
    "\n",
    "num1.extend(num2)\n",
    "print(num1)\n",
    "num1=[10,20,30]\n",
    "num1.extend(range(5))\n",
    "print (num1)\n",
    "\n",
    "print (len(num1))"
   ]
  },
  {
   "cell_type": "code",
   "execution_count": 39,
   "id": "788b90c0-bc97-455c-a477-a1b186ebeeb7",
   "metadata": {},
   "outputs": [
    {
     "name": "stdout",
     "output_type": "stream",
     "text": [
      "Bats -> 1\n",
      "at -> 5\n"
     ]
    }
   ],
   "source": [
    "# Problem Statement\n",
    "# Write a python program which displays the count of the names that matches a given pattern from a list of names provided.\n",
    "# Consider the pattern characters to be:\n",
    "# 1.\" at\" where\"\" can be one occurrence of any character\n",
    "# 2. \"Bats\" where \"%\" can have zero or any number of occurrences of a character.\n",
    "# Sample Input Expected Output\n",
    "# [Hat, Cat, Rabbit, Matter)\n",
    "# Bats -> 3\n",
    "# at -> 2\n",
    "\n",
    "import re\n",
    "\n",
    "def countNamesMatchingPattern(names, pattern):\n",
    "    count = 0\n",
    "    regex_pattern = pattern.replace(\"%\", \".*\") \n",
    "    regex_pattern = regex_pattern.replace(\" \", \".\") \n",
    "    \n",
    "    for name in names:\n",
    "        if re.search(regex_pattern, name, re.IGNORECASE):\n",
    "            count += 1\n",
    "    \n",
    "    return count\n",
    "\n",
    "# Example usage:\n",
    "names = [\"Hat\", \"Cat\", \"Rabbit\", \"Matter\", \"robats\", \"lo at\"]\n",
    "pattern1 = \"Bats\"  \n",
    "pattern2 = \"at\"  \n",
    "\n",
    "result1 = countNamesMatchingPattern(names, pattern1)\n",
    "result2 = countNamesMatchingPattern(names, pattern2)\n",
    "\n",
    "print(f\"{pattern1} -> {result1}\")\n",
    "print(f\"{pattern2} -> {result2}\")\n"
   ]
  },
  {
   "cell_type": "code",
   "execution_count": 41,
   "id": "d5bcf837-5076-4fc8-93f6-d9a9d41153f4",
   "metadata": {},
   "outputs": [
    {
     "name": "stdout",
     "output_type": "stream",
     "text": [
      "[1, 1, 5, 100, -20, -20, 6, 0, 0] -> 3\n",
      "[10, 20, 30, 40, 30, 201, 0] -> 0\n",
      "[1, 2, 2, 3, 4, 4, 4, 10] -> 3\n"
     ]
    }
   ],
   "source": [
    "def count_adjacent_same(nums):\n",
    "    count = 0\n",
    "    \n",
    "    for i in range(len(nums) - 1):\n",
    "        if nums[i] == nums[i + 1]:\n",
    "            count += 1\n",
    "    \n",
    "    return count\n",
    "\n",
    "inputs = [\n",
    "    [1, 1, 5, 100, -20, -20, 6, 0, 0],\n",
    "    [10, 20, 30, 40, 30, 201, 0],\n",
    "    [1, 2, 2, 3, 4, 4, 4, 10]\n",
    "]\n",
    "\n",
    "for nums in inputs:\n",
    "    result = count_adjacent_same(nums)\n",
    "    print(f\"{nums} -> {result}\")"
   ]
  },
  {
   "cell_type": "code",
   "execution_count": 42,
   "id": "b6d54e32-dbc3-4e34-80e1-a2049d44337d",
   "metadata": {},
   "outputs": [
    {
     "name": "stdout",
     "output_type": "stream",
     "text": [
      "\"I like Python\" and \"Java is a very popular language\" -> eilnoy\n"
     ]
    }
   ],
   "source": [
    "def common_characters(str1, str2):\n",
    "    # Convert strings to sets of characters, ignoring blank spaces\n",
    "    set1 = set(str1.replace(' ', ''))\n",
    "    set2 = set(str2.replace(' ', ''))\n",
    "    \n",
    "    # Find intersection of sets\n",
    "    common_chars = set1.intersection(set2)\n",
    "    \n",
    "    # Convert set to sorted list of characters\n",
    "    common_chars_list = sorted(common_chars)\n",
    "    \n",
    "    # Return as string or -1 if no common characters found\n",
    "    if common_chars_list:\n",
    "        return ''.join(common_chars_list)\n",
    "    else:\n",
    "        return -1\n",
    "\n",
    "# Example usage:\n",
    "str1 = \"I like Python\"\n",
    "str2 = \"Java is a very popular language\"\n",
    "result = common_characters(str1, str2)\n",
    "print(f'\"{str1}\" and \"{str2}\" -> {result}')\n"
   ]
  },
  {
   "cell_type": "code",
   "execution_count": 44,
   "id": "6f14e61d-a096-4758-8057-6a76455f3d89",
   "metadata": {},
   "outputs": [
    {
     "name": "stdout",
     "output_type": "stream",
     "text": [
      "['the', 'sun', 'rises', 'in', 'the', 'east']\n",
      "Input:    the sun rises in the east\n",
      "Encrypted: eht snu sesir ni eht stea\n"
     ]
    }
   ],
   "source": [
    "def encrypt_sentence(sentence):\n",
    "    words = sentence.split()\n",
    "    print(words)\n",
    "    encrypted_words = []\n",
    "    \n",
    "    for index, word in enumerate(words):\n",
    "        if (index + 1) % 2 == 1:  # Odd position word (1st, 3rd, 5th, ...)\n",
    "            encrypted_words.append(word[::-1])  # Reverse the word\n",
    "        else:  # Even position word (2nd, 4th, 6th, ...)\n",
    "            consonants = []\n",
    "            vowels = []\n",
    "            \n",
    "            for char in word:\n",
    "                if char.lower() in 'aeiou':  # Collect vowels\n",
    "                    vowels.append(char)\n",
    "                else:  # Collect consonants\n",
    "                    consonants.append(char)\n",
    "            \n",
    "            # Combine consonants and vowels while preserving order\n",
    "            encrypted_word = ''.join(consonants + vowels)\n",
    "            encrypted_words.append(encrypted_word)\n",
    "    \n",
    "    # Join encrypted words into a single string\n",
    "    encrypted_sentence = ' '.join(encrypted_words)\n",
    "    \n",
    "    return encrypted_sentence\n",
    "\n",
    "# Example usage:\n",
    "input_sentence = \"the sun rises in the east\"\n",
    "encrypted_sentence = encrypt_sentence(input_sentence)\n",
    "print(f\"Input:    {input_sentence}\")\n",
    "print(f\"Encrypted: {encrypted_sentence}\")\n"
   ]
  },
  {
   "cell_type": "code",
   "execution_count": 45,
   "id": "40beeb82-c3cd-4716-9150-3f5f316ee5b9",
   "metadata": {},
   "outputs": [
    {
     "name": "stdout",
     "output_type": "stream",
     "text": [
      "Input:    the sun rises in the east\n",
      "Encrypted: eht snu sesir ni eht stea\n"
     ]
    }
   ],
   "source": [
    "def encrypt_sentence(message):\n",
    "    words = message.split()  # Split the sentence into words\n",
    "    encrypted_words = []\n",
    "    \n",
    "    for index, word in enumerate(words):\n",
    "        if (index + 1) % 2 == 1:  # Odd position word (1st, 3rd, 5th, ...)\n",
    "            encrypted_words.append(word[::-1])  # Reverse the word\n",
    "        else:  # Even position word (2nd, 4th, 6th, ...)\n",
    "            consonants = []\n",
    "            vowels = []\n",
    "            \n",
    "            for char in word:\n",
    "                if char.lower() in 'aeiou':  # Collect vowels\n",
    "                    vowels.append(char)\n",
    "                else:  # Collect consonants\n",
    "                    consonants.append(char)\n",
    "            \n",
    "            # Combine consonants and vowels while preserving order\n",
    "            encrypted_word = ''.join(consonants + vowels)\n",
    "            encrypted_words.append(encrypted_word)\n",
    "    \n",
    "    # Join encrypted words into a single string\n",
    "    encrypted_message = ' '.join(encrypted_words)\n",
    "    \n",
    "    return encrypted_message\n",
    "\n",
    "# Example usage:\n",
    "input_message = \"the sun rises in the east\"\n",
    "encrypted_message = encrypt_sentence(input_message)\n",
    "print(f\"Input:    {input_message}\")\n",
    "print(f\"Encrypted: {encrypted_message}\")\n"
   ]
  },
  {
   "cell_type": "code",
   "execution_count": 54,
   "id": "20c5affb-f051-4f77-a58c-2bb849c46ce8",
   "metadata": {},
   "outputs": [
    {
     "name": "stdout",
     "output_type": "stream",
     "text": [
      "1\n",
      "No value\n",
      "A 1\n",
      "B 2\n",
      "C 3\n",
      "1\n",
      "2\n",
      "3\n",
      "4\n",
      "5\n",
      "{1: 1, 2: 4, 3: 9, 4: 16, 5: 25}\n"
     ]
    }
   ],
   "source": [
    "# Dictionary\n",
    "d={\"A\":1,\"B\":2,\"C\":3}\n",
    "# print (d[\"W\"])\n",
    "print (d[\"A\"])\n",
    "print(d.get(\"o\", 'No value'))\n",
    "\n",
    "for key in d: \n",
    "    print(key,d[key])\n",
    "d={}\n",
    "for i in range (1,6): \n",
    "    d[i]=i*i \n",
    "    print(i)\n",
    "print (d)"
   ]
  },
  {
   "cell_type": "code",
   "execution_count": 68,
   "id": "25730418-714c-4ebc-b513-95cad2d3dea8",
   "metadata": {},
   "outputs": [
    {
     "name": "stdout",
     "output_type": "stream",
     "text": [
      "1 -> 1\n",
      "2 -> 4\n",
      "3 -> 9\n",
      "4 -> 16\n",
      "5 -> 25\n"
     ]
    }
   ],
   "source": [
    "for key in d:\n",
    "    print(key, \"->\", d[key])"
   ]
  },
  {
   "cell_type": "code",
   "execution_count": 74,
   "id": "34580d5f-b30a-46aa-9b9a-bba4c42184d0",
   "metadata": {},
   "outputs": [
    {
     "name": "stdout",
     "output_type": "stream",
     "text": [
      "1 -> 1\n",
      "2 -> 4\n",
      "3 -> 9\n",
      "4 -> 16\n",
      "5 -> 25\n"
     ]
    }
   ],
   "source": [
    "for key, value in d.items():\n",
    "    print(f\"{key} -> {value}\")"
   ]
  },
  {
   "cell_type": "code",
   "execution_count": 88,
   "id": "9eb18f56-360d-40a0-b4c5-fa1414b3a4bb",
   "metadata": {},
   "outputs": [
    {
     "name": "stdout",
     "output_type": "stream",
     "text": [
      "{1: 1, 2: 4, 3: 9, 4: 16, 5: 25, 6: 36, 7: 49, 8: 64, 9: 81, 10: 100, 11: 121, 12: 144, 13: 169, 14: 196, 15: 225}\n",
      "1240\n"
     ]
    }
   ],
   "source": [
    "# Write a  Python script to print a dictionary where the keys are numbers between 1 and 15 (both included) \n",
    "# and the values are the square of the keys.\n",
    "# Sample Dictionary\n",
    "# inp = int(input(\"Enter the number\"))\n",
    "dic1 = {}\n",
    "for i in range(1, 15+1):\n",
    "    dic1[i] = i**2\n",
    "print(dic1)\n",
    "\n",
    "# {1: 1, 2: 4, 3: 9, 4: 16, 5: 25, 6: 36, 7: 49, 8: 64, 9: 81, 10: 100, 11: 121, 12: 144, 13: 169, 14: 196, 15: 225}\n",
    "# Write a Python program to sum all the items in a dictionary.\n",
    "\n",
    "numbers_dict = {1: 1, 2: 4, 3: 9, 4: 16, 5: 25, \n",
    "                6: 36, 7: 49, 8: 64, 9: 81, \n",
    "                10: 100, 11: 121, 12: 144, \n",
    "                13: 169, 14: 196, 15: 225}\n",
    "\n",
    "total = 0\n",
    "\n",
    "for val in numbers_dict.values():\n",
    "    total+=val\n",
    "print(total)"
   ]
  },
  {
   "cell_type": "code",
   "execution_count": 91,
   "id": "ea0967bd-8362-469b-bea8-c434a4c1637d",
   "metadata": {},
   "outputs": [
    {
     "name": "stdout",
     "output_type": "stream",
     "text": [
      "{'a': 1}\n",
      "1\n"
     ]
    }
   ],
   "source": [
    "dic2={\n",
    "    'first': {'a':1},\n",
    "    'second': {'b':2, 'c':3}\n",
    "}\n",
    "\n",
    "print(dic2['first'])\n",
    "print(dic2['first']['a'])\n",
    "    "
   ]
  },
  {
   "cell_type": "code",
   "execution_count": 100,
   "id": "8b2cbced-debb-4752-aaa4-511dcf817e27",
   "metadata": {},
   "outputs": [
    {
     "name": "stdout",
     "output_type": "stream",
     "text": [
      "{'name': 'Scott', 'age': '27', 'gender': 'Male'}\n",
      "__________________________________________________\n",
      "Scott\n",
      "__________________________________________________\n",
      "{'name': 'Mark', 'age': '22', 'gender': 'Female'}\n",
      "__________________________________________________\n",
      "Mark\n",
      "__________________________________________________\n",
      "{'name': 'John', 'age': '30', 'gender': 'Male'}\n",
      "__________________________________________________\n",
      "John\n",
      "__________________________________________________\n",
      "{'name': 'Peter', 'age': '32', 'gender': 'male'}\n",
      "__________________________________________________\n",
      "Peter\n",
      "__________________________________________________\n",
      "{'name': 'Marry', 'age': '33', 'gender': 'Female'}\n",
      "__________________________________________________\n",
      "Marry\n",
      "__________________________________________________\n"
     ]
    }
   ],
   "source": [
    "employees = {\n",
    "101: {'name': 'Scott', 'age': '27', 'gender': 'Male'},\n",
    "102: {'name': 'Mark', 'age': '22', 'gender': 'Female'},\n",
    "103: {'name': 'John', 'age': '30', 'gender': 'Male'},\n",
    "104: {'name': 'Peter', 'age': '32', 'gender': 'male'},\n",
    "105: {'name': 'Marry', 'age': '33', 'gender': 'Female'},\n",
    "}\n",
    "\n",
    "for i in range(101, 106):\n",
    "    print(employees[i])\n",
    "    print(\"_\"*50)\n",
    "    print(employees[i]['name'])\n",
    "    print(\"_\"*50)"
   ]
  },
  {
   "cell_type": "code",
   "execution_count": null,
   "id": "66978edc-76f3-43e6-b87d-d3add9b8ce55",
   "metadata": {},
   "outputs": [],
   "source": [
    "dic3={\"A\":1,\"B\":2,\"C\":3}\n",
    "dic4={\"D\":4,\"E\":5,\"F\":6}\n",
    "\n",
    "dic_merge = (**dic3,**dic4)\n"
   ]
  },
  {
   "cell_type": "code",
   "execution_count": 105,
   "id": "4ba7bfbd-ab72-457f-b169-5ddbf7c2062e",
   "metadata": {},
   "outputs": [
    {
     "name": "stdout",
     "output_type": "stream",
     "text": [
      "5 10\n"
     ]
    }
   ],
   "source": [
    "# Q1 of 2outlined_flag\n",
    "# What is the output of the following code snippet?\n",
    "sample_dict = {'a':1,'b':2}\n",
    "sample_dict.update({'b':5, 'c':10 })\n",
    "print(sample_dict.get('b'), sample_dict.get('c'))\n",
    " \n",
    "# 5,10 - This is the right answer\n",
    "# 2 None\n",
    "# 2 10\n",
    "# 5 None"
   ]
  },
  {
   "cell_type": "code",
   "execution_count": 106,
   "id": "c9f1bc86-6324-44d6-83dd-a6ceb1812692",
   "metadata": {},
   "outputs": [],
   "source": [
    "# Q2 of 2outlined_flag\n",
    "# Assume that a dictionary has data in the form of { key1:value1, key2:value2…}\n",
    "# my_library =\n",
    "# {\n",
    "#     103 : \"Alice in Wonderland\",\n",
    "#     104 : \"The Turning Point\",\n",
    "#     113 : \"Wings on Fire\",\n",
    "#     134 : \"Harry Potter\"\n",
    "# }\n",
    "# What do you think my_library[104] would point to ?\n",
    "# 104\n",
    "# This is a dictionary and not a list, you cant do that!\n",
    "# The Turning Point\n",
    "# There are only 4 elements here, what on earth are you calling index"
   ]
  },
  {
   "cell_type": "code",
   "execution_count": 108,
   "id": "d27806e9-491a-479f-b24d-6029a64af784",
   "metadata": {},
   "outputs": [
    {
     "name": "stdout",
     "output_type": "stream",
     "text": [
      "[2, 2, 1]\n"
     ]
    }
   ],
   "source": [
    "# Problem Statement\n",
    "# Write a python function, find_correct() which accepts a dictionary and returns a list as per the rules mentioned below.\n",
    "# The Input dictionary will contain correct spelling of a word as key and the spelling provided by a contestant as the value.\n",
    "# The function should identify the degree of correctness as mentioned below:\n",
    "# CORRECT, if it is an exact match\n",
    "# ALMOST CORRECT, If no more than 2 letters are wrong\n",
    "# WRONG, if more than 2 letters are wrong or if length (correct spelling versus spelling given by contestant) mismatches.\n",
    "# and return a list containing the number of CORRECT answers, number of ALMOST CORRECT answers and number of WRONG answers.\n",
    "# Assume that the words contain only uppercase letters and the maximum word length is 10.\n",
    "# Sample Input\n",
    "# Expected Output\n",
    "# {\"THEIR\": \"THEIR\", \"BUSINESS\": \"BISINESS\", WERE\":\"WEAR\",  \"WINDOWS\":\"WINDMILL\", \"WERE\": \"WEAR\", \"SAMPLE\":\"SAMPLE\"} [2, 2, 1]\n",
    "\n",
    "def find_correct(word_dict):\n",
    "    correct_count = 0\n",
    "    almost_correct_count = 0\n",
    "    wrong_count = 0\n",
    "    \n",
    "    for correct_word, contestant_word in word_dict.items():\n",
    "        if len(correct_word) != len(contestant_word):\n",
    "            wrong_count += 1\n",
    "        else:\n",
    "            wrong_positions = sum(1 for c1, c2 in zip(correct_word, contestant_word) if c1 != c2)\n",
    "            if wrong_positions == 0:\n",
    "                correct_count += 1\n",
    "            elif 1 <= wrong_positions <= 2:\n",
    "                almost_correct_count += 1\n",
    "            else:\n",
    "                wrong_count += 1\n",
    "    \n",
    "    return [correct_count, almost_correct_count, wrong_count]\n",
    "\n",
    "# Test case\n",
    "word_dict = {\n",
    "    \"THEIR\": \"THEIR\",\n",
    "    \"BUSINESS\": \"BISINESS\",\n",
    "    \"WINDOWS\": \"WINDMILL\",\n",
    "    \"WERE\": \"WEAR\",\n",
    "    \"SAMPLE\": \"SAMPLE\"\n",
    "}\n",
    "\n",
    "print(find_correct(word_dict)) \n"
   ]
  },
  {
   "cell_type": "code",
   "execution_count": 110,
   "id": "f4e90754-9083-405a-a23d-a5485c9d4c88",
   "metadata": {},
   "outputs": [
    {
     "name": "stdout",
     "output_type": "stream",
     "text": [
      "Pediatrics\n",
      "Orthopedics\n",
      "ENT\n"
     ]
    }
   ],
   "source": [
    "# Problem Statement\n",
    "# Care hospital wants to know the medical speciality visited by the maximum number of patients. Assume that the patient id of the patient along with the medical speciality visited by the patient is stored in a list. The details of the medical specialities are stored in a dictionary as follows:\n",
    "# {\n",
    "# \"P\":\"Pediatrics\",\n",
    "# \"O\":\"Orthopedics\",\n",
    "# \"E\":\"ENT\n",
    "# } \n",
    "# Write a function to find the medical speciality visited by the maximum number of patients and return the name of the speciality.\n",
    "# Note: \n",
    "# Assume that there is always only one medical speciality which is visited by maximum number of patients.\n",
    "# Perform case sensitive string comparison wherever necessary.\n",
    "# Sample Input\n",
    "\t\n",
    "# Expected Output\n",
    "\n",
    "# [101,P,102,O,302,P,305,P]\n",
    "# Pediatrics\n",
    "\n",
    "# [101,O,102,O,302,P,305,E,401,O,656,O]\n",
    "# Orthopedics\n",
    "\n",
    "# [101,O,102,E,302,P,305,P,401,E,656,O,987,E]\t\n",
    "# ENT\n",
    " \n",
    "\n",
    "def max_speciality(patients):\n",
    "    specialities = {\n",
    "        \"P\": \"Pediatrics\",\n",
    "        \"O\": \"Orthopedics\",\n",
    "        \"E\": \"ENT\"\n",
    "    }\n",
    "    \n",
    "    speciality_count = {}\n",
    "    \n",
    "    for i in range(0, len(patients), 2):\n",
    "        patient_id = patients[i]\n",
    "        speciality_code = patients[i + 1]\n",
    "        \n",
    "        if speciality_code in speciality_count:\n",
    "            speciality_count[speciality_code] += 1\n",
    "        else:\n",
    "            speciality_count[speciality_code] = 1\n",
    "    \n",
    "    max_speciality_code = max(speciality_count, key=speciality_count.get)\n",
    "    \n",
    "    return specialities[max_speciality_code]\n",
    "\n",
    "patients1 = [101, 'P', 102, 'O', 302, 'P', 305, 'P']\n",
    "patients2 = [101, 'O', 102, 'O', 302, 'P', 305, 'E', 401, 'O', 656, 'O']\n",
    "patients3 = [101, 'O', 102, 'E', 302, 'P', 305, 'P', 401, 'E', 656, 'O', 987, 'E']\n",
    "\n",
    "print(max_speciality(patients1))\n",
    "print(max_speciality(patients2))\n",
    "print(max_speciality(patients3)) \n"
   ]
  },
  {
   "cell_type": "code",
   "execution_count": 116,
   "id": "76b88542-4c74-4998-a31a-8bf5113d6c03",
   "metadata": {},
   "outputs": [
    {
     "data": {
      "text/plain": [
       "{'w': 1, '3': 1, 'r': 2, 'e': 2, 's': 1, 'o': 1, 'u': 1, 'c': 1}"
      ]
     },
     "execution_count": 116,
     "metadata": {},
     "output_type": "execute_result"
    }
   ],
   "source": [
    "# program to create a dictionary from a string.\n",
    "# Note: Track the count of the letters from the string.\n",
    "# Sample string : 'w3resource'\n",
    "# Expected output: {'w': 1, '3': 1, 'r': 2, 'e': 2, 's': 1, 'o': 1, 'u': 1, 'c': 1}\n",
    "\n",
    "def dic_from_string(str):\n",
    "    letters = {}\n",
    "    i = 0\n",
    "    for char in str:\n",
    "        if char in letters:\n",
    "            letters[char] +=1\n",
    "        else:\n",
    "            letters[char]=1\n",
    "    return letters\n",
    "\n",
    "dic_from_string(\"w3resource\")"
   ]
  },
  {
   "cell_type": "code",
   "execution_count": 118,
   "id": "66f37fc2-b27e-4827-8692-1ef265ff2db7",
   "metadata": {},
   "outputs": [
    {
     "name": "stdout",
     "output_type": "stream",
     "text": [
      "Minimum value: 5\n",
      "Maximum value: 20\n"
     ]
    }
   ],
   "source": [
    "my_dict = {'a': 10, 'b': 5, 'c': 20, 'd': 8, 'e': 15}\n",
    "\n",
    "min_value = None\n",
    "max_value = None\n",
    "\n",
    "for key, value in my_dict.items():\n",
    "    if min_value is None or value < min_value:\n",
    "        min_value = value\n",
    "    if max_value is None or value > max_value:\n",
    "        max_value = value\n",
    "\n",
    "print(f\"Minimum value: {min_value}\")\n",
    "print(f\"Maximum value: {max_value}\")\n"
   ]
  },
  {
   "cell_type": "code",
   "execution_count": null,
   "id": "390dee92-dbaf-4eee-b482-d3f32de6bdca",
   "metadata": {},
   "outputs": [],
   "source": []
  }
 ],
 "metadata": {
  "kernelspec": {
   "display_name": "Python 3 (ipykernel)",
   "language": "python",
   "name": "python3"
  },
  "language_info": {
   "codemirror_mode": {
    "name": "ipython",
    "version": 3
   },
   "file_extension": ".py",
   "mimetype": "text/x-python",
   "name": "python",
   "nbconvert_exporter": "python",
   "pygments_lexer": "ipython3",
   "version": "3.12.2"
  }
 },
 "nbformat": 4,
 "nbformat_minor": 5
}
