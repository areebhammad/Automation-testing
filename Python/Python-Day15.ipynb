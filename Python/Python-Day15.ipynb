{
 "cells": [
  {
   "cell_type": "code",
   "execution_count": 1,
   "metadata": {},
   "outputs": [
    {
     "name": "stdout",
     "output_type": "stream",
     "text": [
      "4 3 4 5 "
     ]
    }
   ],
   "source": [
    "def func(word, char=\"A\"):\n",
    "    if(char==\"A\"):\n",
    "        return len(word[1:])\n",
    "    elif(char==\"B\"):\n",
    "        return len(word[2:])\n",
    "    else:\n",
    "        return len(word)\n",
    "print(func(\"Apple\",\"A\"),end=\" \")\n",
    "print(func(\"Apple\",\"B\"),end=\" \")\n",
    "print(func(\"Apple\"),end=\" \")\n",
    "print(func(\"Apple\",\"C\"),end=\" \")"
   ]
  },
  {
   "cell_type": "code",
   "execution_count": 1,
   "metadata": {},
   "outputs": [
    {
     "name": "stdout",
     "output_type": "stream",
     "text": [
      "200\n"
     ]
    }
   ],
   "source": [
    "from abc import ABCMeta,abstractmethod\n",
    "class Parent(metaclass=ABCMeta):\n",
    "    def __init__(self):\n",
    "        self.a=100\n",
    "    @abstractmethod\n",
    "    def sample(self): pass\n",
    "class Child(Parent):\n",
    "    def __init__(self):\n",
    "        self.a=200\n",
    "    pass\n",
    "class GrandChild(Child):\n",
    "    def sample(self): \n",
    "        super().__init__()\n",
    "        print(self.a)\n",
    "g=GrandChild()\n",
    "g.sample()"
   ]
  },
  {
   "cell_type": "code",
   "execution_count": 2,
   "metadata": {},
   "outputs": [
    {
     "name": "stdout",
     "output_type": "stream",
     "text": [
      "file is opened successfully\n"
     ]
    },
    {
     "data": {
      "text/plain": [
       "<function TextIOWrapper.close()>"
      ]
     },
     "execution_count": 2,
     "metadata": {},
     "output_type": "execute_result"
    }
   ],
   "source": [
    "file=open(\"file.txt\",\"w\")\n",
    "if file:\n",
    "    print(\"file is opened successfully\")\n",
    "file.close"
   ]
  },
  {
   "cell_type": "code",
   "execution_count": 3,
   "metadata": {},
   "outputs": [
    {
     "name": "stdout",
     "output_type": "stream",
     "text": [
      "Data Written successfully\n"
     ]
    }
   ],
   "source": [
    "file=open(\"file.txt\",\"w\")\n",
    "file.write(\"GET\\n\")\n",
    "file.write(\"SET\\n\")\n",
    "file.write(\"TECH\\n\")\n",
    "print(\"Data Written successfully\")\n",
    "file.close()"
   ]
  },
  {
   "cell_type": "code",
   "execution_count": 4,
   "metadata": {},
   "outputs": [
    {
     "name": "stdout",
     "output_type": "stream",
     "text": [
      "Data Written Successfully\n"
     ]
    }
   ],
   "source": [
    "f=open('abc.txt','w')\n",
    "list=['Sachin','Virat','Rohit','Rahul','Dhawan']\n",
    "f.writelines(list)\n",
    "print('Data Written Successfully')\n",
    "f.close()"
   ]
  },
  {
   "cell_type": "code",
   "execution_count": 5,
   "metadata": {},
   "outputs": [
    {
     "name": "stdout",
     "output_type": "stream",
     "text": [
      "Data Written Successfully\n"
     ]
    }
   ],
   "source": [
    "f=open('abc.txt','w')\n",
    "list=['Sachin\\n','Virat\\n','Rohit\\n','Rahul\\n','Dhawan\\n']\n",
    "f.writelines(list)\n",
    "print('Data Written Successfully')\n",
    "f.close()"
   ]
  },
  {
   "cell_type": "code",
   "execution_count": 6,
   "metadata": {},
   "outputs": [
    {
     "name": "stdout",
     "output_type": "stream",
     "text": [
      "Sachin\n",
      "Virat\n",
      "Rohit\n",
      "Rahul\n",
      "Dhawan\n",
      "\n"
     ]
    }
   ],
   "source": [
    "f=open('abc.txt','r')\n",
    "data=f.read()\n",
    "print(data)\n",
    "f.close()"
   ]
  },
  {
   "cell_type": "code",
   "execution_count": 7,
   "metadata": {},
   "outputs": [
    {
     "name": "stdout",
     "output_type": "stream",
     "text": [
      "Sachin\n",
      "Virat\n",
      "Rohit\n",
      "R\n"
     ]
    }
   ],
   "source": [
    "f=open('abc.txt','r')\n",
    "data=f.read(20)\n",
    "print(data)\n",
    "f.close()"
   ]
  },
  {
   "cell_type": "code",
   "execution_count": 16,
   "metadata": {},
   "outputs": [
    {
     "name": "stdout",
     "output_type": "stream",
     "text": [
      "Virat\n",
      "\n",
      "Rohit\n",
      "\n",
      "Rahul\n",
      "\n"
     ]
    }
   ],
   "source": [
    "line1=f.readline()\n",
    "print(line1)\n",
    "line2=f.readline()\n",
    "print(line2)\n",
    "line3=f.readline()\n",
    "print(line3)\n",
    "f.close()"
   ]
  },
  {
   "cell_type": "code",
   "execution_count": 9,
   "metadata": {},
   "outputs": [
    {
     "name": "stdout",
     "output_type": "stream",
     "text": [
      "Sachin\n",
      "Virat\n",
      "Rohit\n"
     ]
    }
   ],
   "source": [
    "f=open('abc.txt','r')\n",
    "line1=f.readline()\n",
    "print(line1,end='')\n",
    "line2=f.readline()\n",
    "print(line2,end='')\n",
    "line3=f.readline()\n",
    "print(line3,end='')\n",
    "f.close()"
   ]
  },
  {
   "cell_type": "code",
   "execution_count": 10,
   "metadata": {},
   "outputs": [
    {
     "name": "stdout",
     "output_type": "stream",
     "text": [
      "Sachin\n",
      "\n",
      "Virat\n",
      "\n",
      "Rohit\n",
      "\n",
      "Rahul\n",
      "\n",
      "Dhawan\n",
      "\n"
     ]
    }
   ],
   "source": [
    "with open('abc.txt', 'r') as file:\n",
    "    while True:\n",
    "        cur_line = file.readline()\n",
    "        # If the result is an empty string\n",
    "        if cur_line == '':\n",
    "        # We have reached the end of the file\n",
    "              break\n",
    "        print(cur_line)"
   ]
  },
  {
   "cell_type": "code",
   "execution_count": 11,
   "metadata": {},
   "outputs": [
    {
     "name": "stdout",
     "output_type": "stream",
     "text": [
      "Sachin\n",
      "\n",
      "Virat\n",
      "\n",
      "Rohit\n",
      "\n",
      "Rahul\n",
      "\n",
      "Dhawan\n",
      "\n"
     ]
    }
   ],
   "source": [
    "f=open('abc.txt','r')\n",
    "lines=f.readlines()\n",
    "for line in lines:\n",
    "   print(line)\n",
    "f.close()"
   ]
  },
  {
   "cell_type": "code",
   "execution_count": 12,
   "metadata": {},
   "outputs": [
    {
     "name": "stdout",
     "output_type": "stream",
     "text": [
      "Sachin\n",
      "Virat\n",
      "Rohit\n",
      "Rahul\n",
      "Dhawan\n"
     ]
    }
   ],
   "source": [
    "f=open('abc.txt','r')\n",
    "lines=f.readlines()\n",
    "for line in lines:\n",
    "   print(line,end='')\n",
    "f.close()"
   ]
  },
  {
   "cell_type": "code",
   "execution_count": 13,
   "metadata": {},
   "outputs": [
    {
     "name": "stdout",
     "output_type": "stream",
     "text": [
      "Name of the File :  abc.txt\n",
      "Current Position             :  0\n",
      "Read String is till 2       :  Sa\n",
      "Current Position             :  2\n",
      "Read String is till 2       :  chi\n",
      "Current Position             :  5\n"
     ]
    }
   ],
   "source": [
    "f=open('abc.txt', 'r')\n",
    "print(\"Name of the File : \",f.name)\n",
    "pos=f.tell()\n",
    "print(\"Current Position             : \",pos)\n",
    "str=f.read(2)\n",
    "print(\"Read String is till 2       : \",str)\n",
    "pos=f.tell()\n",
    "print(\"Current Position             : \",pos)\n",
    "str=f.read(3)\n",
    "print(\"Read String is till 2       : \",str)\n",
    "pos=f.tell()\n",
    "print(\"Current Position             : \",pos)"
   ]
  },
  {
   "cell_type": "code",
   "execution_count": 14,
   "metadata": {},
   "outputs": [
    {
     "name": "stdout",
     "output_type": "stream",
     "text": [
      "Name of the File :  abc.txt\n",
      "achin\n",
      "\n"
     ]
    }
   ],
   "source": [
    "f=open('abc.txt', 'r')\n",
    "print(\"Name of the File : \",f.name)\n",
    "f.seek(1)\n",
    "print(f.readline())"
   ]
  },
  {
   "cell_type": "code",
   "execution_count": 15,
   "metadata": {},
   "outputs": [
    {
     "name": "stdout",
     "output_type": "stream",
     "text": [
      "Name of the File :  abc.txt\n",
      "achin\n",
      "\n"
     ]
    }
   ],
   "source": [
    "f=open('abc.txt', 'r')\n",
    "print(\"Name of the File : \",f.name)\n",
    "f.seek(1)\n",
    "print(f.readline())"
   ]
  },
  {
   "cell_type": "code",
   "execution_count": null,
   "metadata": {},
   "outputs": [],
   "source": []
  }
 ],
 "metadata": {
  "kernelspec": {
   "display_name": "base",
   "language": "python",
   "name": "python3"
  },
  "language_info": {
   "codemirror_mode": {
    "name": "ipython",
    "version": 3
   },
   "file_extension": ".py",
   "mimetype": "text/x-python",
   "name": "python",
   "nbconvert_exporter": "python",
   "pygments_lexer": "ipython3",
   "version": "3.12.2"
  }
 },
 "nbformat": 4,
 "nbformat_minor": 2
}
