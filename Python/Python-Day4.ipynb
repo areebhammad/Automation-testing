{
 "cells": [
  {
   "cell_type": "code",
   "execution_count": 9,
   "id": "2c090ac4-a759-4733-a2c1-475fb569e64d",
   "metadata": {},
   "outputs": [
    {
     "name": "stdout",
     "output_type": "stream",
     "text": [
      "<__main__.Mobile object at 0x000001BA1A6AB8F0>\n",
      "<__main__.Mobile object at 0x000001BA192E3A70>\n",
      "check if mob1==mob2: False\n",
      "Samsung\n"
     ]
    }
   ],
   "source": [
    "class Mobile:\n",
    "    pass\n",
    "\n",
    "\n",
    "mob1 = Mobile()\n",
    "mob2 = Mobile()\n",
    "\n",
    "mob1.price = 1000\n",
    "mob1.brand = \"Apple\"\n",
    "mob1.brand = \"Samsung\"\n",
    "\n",
    "print(mob1)\n",
    "print(mob2)\n",
    "print(f'check if mob1==mob2:', mob1==mob2)\n",
    "print(mob1.brand)"
   ]
  },
  {
   "cell_type": "code",
   "execution_count": 11,
   "id": "6e120713-c2a3-495d-9f25-5c1201d63432",
   "metadata": {},
   "outputs": [
    {
     "name": "stdout",
     "output_type": "stream",
     "text": [
      "<__main__.Car object at 0x000001BA1A66B710>\n",
      "red\n"
     ]
    }
   ],
   "source": [
    "class Car:\n",
    "    def __init__(self, colour, model):\n",
    "        self.colour = colour\n",
    "        self.model = model\n",
    "\n",
    "my_car = Car(\"red\", \"BMW\")\n",
    "print(my_car)\n",
    "print(my_car.colour)\n",
    "\n"
   ]
  },
  {
   "cell_type": "code",
   "execution_count": 12,
   "id": "0f25f8c9-1cb1-4279-803b-cff5bce7dac0",
   "metadata": {},
   "outputs": [
    {
     "name": "stdout",
     "output_type": "stream",
     "text": [
      "<class '__main__.Mob'>\n",
      "<function Mob.purchase at 0x000001BA1B5702C0>\n"
     ]
    }
   ],
   "source": [
    "class Mob:\n",
    "    def __init__(self, colour, model):\n",
    "        print(\"Inside constructor\")\n",
    "        self.colour = colour\n",
    "        self.model = model\n",
    "    def purchase(self):\n",
    "        print(\"Inside method\")\n",
    "\n",
    "print(Mob)\n",
    "print(Mob.purchase)\n"
   ]
  },
  {
   "cell_type": "code",
   "execution_count": 22,
   "id": "742268f6-bef5-4fb8-a0dd-ea8af898448a",
   "metadata": {},
   "outputs": [
    {
     "name": "stdout",
     "output_type": "stream",
     "text": [
      "Brand Apple Price- 2000\n",
      "Brand Samsung Price- 3000\n",
      "Brand Samsung Price- 3000\n"
     ]
    }
   ],
   "source": [
    "class Mobile:\n",
    "    def __init__ (self, brand, price):\n",
    "        self.brand=brand\n",
    "        self.price=price\n",
    "    def display(self):\n",
    "        print(\"Brand\", self.brand, \"Price-\", self.price)\n",
    "\n",
    "Mobile(\"Apple\", 2000).display()\n",
    "M2 =Mobile(\"Samsung\", 3000)\n",
    "M2.display()\n",
    "M3 = M2\n",
    "M2.display()"
   ]
  },
  {
   "cell_type": "code",
   "execution_count": 37,
   "id": "45dba5bd-0e2a-4ea9-a01c-634969e47fdb",
   "metadata": {},
   "outputs": [
    {
     "name": "stdout",
     "output_type": "stream",
     "text": [
      "define\n",
      "Roll 87\n",
      "Address chennai\n",
      "Mobile Namer 7824024082\n"
     ]
    },
    {
     "name": "stdout",
     "output_type": "stream",
     "text": [
      "Name: Areeb\n",
      "Address kathiravan\n",
      "Phone: 7854123698\n",
      "Qualification cs\n"
     ]
    }
   ],
   "source": [
    "class Student ():\n",
    "    def __init__(self, roll, name, address, phone, qualification):\n",
    "        self.name = name\n",
    "        self.roll = roll\n",
    "        self.address = address\n",
    "        self.phone = phone\n",
    "        self.qualification = qualification\n",
    "        \n",
    "    def display(self):\n",
    "        print(\"define\")\n",
    "        print(\"Roll\", self.roll)\n",
    "        print(\"Address\", self.address)\n",
    "        print(\"Mobile Namer\", self.phone)\n",
    "        roll=input(\"Name:\")\n",
    "        address=input(\"Address\")\n",
    "        phone=input(\"Phone:\")\n",
    "        qualification=input(\"Qualification\")\n",
    "Student(\"87\", \"Areeb\", \"chennai\", \"7824024082\", \"fgfg\").display()"
   ]
  },
  {
   "cell_type": "code",
   "execution_count": 40,
   "id": "251f3974-e1d0-4223-90eb-dbbd7bfa66cb",
   "metadata": {},
   "outputs": [
    {
     "name": "stdout",
     "output_type": "stream",
     "text": [
      "Brand: Samsung Price: 1500 Color: White\n",
      "Brand: Vivo Price: 12000 Color: red\n"
     ]
    }
   ],
   "source": [
    "class Mobile1:\n",
    "    pass\n",
    "\n",
    "m1=Mobile1()\n",
    "m2=Mobile1()\n",
    "m1.brand=\"Samsung\"\n",
    "m1.price=1500\n",
    "m1.color=\"White\"\n",
    "\n",
    "m2.brand=\"Vivo\"\n",
    "m2.price=12000\n",
    "m2.color=\"red\"\n",
    "\n",
    "print(\"Brand:\",m1.brand,\"Price:\",m1.price,\"Color:\",m1.color)\n",
    "print(\"Brand:\",m2.brand,\"Price:\",m2.price,\"Color:\",m2.color)"
   ]
  },
  {
   "cell_type": "code",
   "execution_count": 45,
   "id": "aae6aa23-6e73-4e1d-b382-bfce402d877d",
   "metadata": {},
   "outputs": [
    {
     "name": "stdout",
     "output_type": "stream",
     "text": [
      "Samsung 2000 White\n",
      "Samsung 2000 White\n",
      "Samsung 2000 White\n",
      "Apple 40000 White\n",
      "Apple 40000 White 14 Plus\n"
     ]
    }
   ],
   "source": [
    "class Mobile2:\n",
    "    def __init__(self):\n",
    "        self.brand=\"Samsung\"\n",
    "        self.price=2000\n",
    "        self.color=\"White\"\n",
    "        \n",
    "\n",
    "m1=Mobile2()\n",
    "m2=Mobile2()\n",
    "m3=Mobile2()\n",
    "\n",
    "print(m1.brand,m1.price,m1.color)\n",
    "print(m2.brand,m2.price,m2.color)\n",
    "print(m3.brand,m3.price,m3.color)\n",
    "\n",
    "m1.brand=\"Apple\"\n",
    "m1.price=40000\n",
    "print(m1.brand,m1.price,m1.color)\n",
    "\n",
    "m1.model=\"14 Plus\"\n",
    "print(m1.brand,m1.price,m1.color,m1.model)"
   ]
  },
  {
   "cell_type": "code",
   "execution_count": 46,
   "id": "e785d768-ae89-40c0-a56a-7a0635a6c814",
   "metadata": {},
   "outputs": [
    {
     "name": "stdout",
     "output_type": "stream",
     "text": [
      "Brand of m1: Apple Model of m1: 41-Plus Price of m1: 60000\n",
      "Brand of m2: Samsung Model of m2: A-53 Price of m2: 20000\n",
      "Vivo v-29 35000\n",
      "Vivo v-29 35000 White\n"
     ]
    }
   ],
   "source": [
    "class Mobile:\n",
    "    def __init__(self,brand,model,price):\n",
    "        self.brand=brand\n",
    "        self.model=model\n",
    "        self.price=price\n",
    "\n",
    "\n",
    "m1=Mobile(\"Apple\",\"41-Plus\",60000)\n",
    "m2=Mobile(\"Samsung\",\"A-53\",20000)\n",
    "\n",
    "print(\"Brand of m1:\",m1.brand,\"Model of m1:\",m1.model,\"Price of m1:\",m1.price)\n",
    "print(\"Brand of m2:\",m2.brand,\"Model of m2:\",m2.model,\"Price of m2:\",m2.price)\n",
    "\n",
    "m1.brand=\"Vivo\"\n",
    "m1.model=\"v-29\"\n",
    "m1.price=35000\n",
    "print(m1.brand,m1.model,m1.price)\n",
    "\n",
    "m1.color=\"White\"\n",
    "print(m1.brand,m1.model,m1.price,m1.color)"
   ]
  },
  {
   "cell_type": "code",
   "execution_count": 48,
   "id": "eaea553a-be3e-43b0-b9dc-510e07230265",
   "metadata": {},
   "outputs": [
    {
     "data": {
      "text/plain": [
       "<__main__.Mobile at 0x1ba1b64f0e0>"
      ]
     },
     "execution_count": 48,
     "metadata": {},
     "output_type": "execute_result"
    }
   ],
   "source": [
    "class Mobile():\n",
    "    def _init_(self):\n",
    "        print(\"this is constructor,it gets invoked once object is created\")\n",
    "\n",
    "Mobile()"
   ]
  },
  {
   "cell_type": "code",
   "execution_count": 2,
   "id": "e6603e69-96ba-4a6b-bddc-51665683b5af",
   "metadata": {},
   "outputs": [
    {
     "name": "stdout",
     "output_type": "stream",
     "text": [
      "Student Name: Himanshu\n",
      "Roll No: 101\n",
      "Student Address: Chhati Road Begusarai\n",
      "Student Phone No: 123XXXXX879\n",
      "Student Class: B.tech\n"
     ]
    }
   ],
   "source": [
    "class Student():\n",
    "    def __init__(self,roll,name,address,phone,__class__):\n",
    "        self.roll=roll\n",
    "        self.name=name\n",
    "        self.address=address\n",
    "        self.phone=phone\n",
    "        self.class_=__class__\n",
    "\n",
    "    def display(self):\n",
    "        print(\"Student Name:\",self.name)\n",
    "        print(\"Roll No:\",self.roll)\n",
    "        print(\"Student Address:\",self.address)\n",
    "        print(\"Student Phone No:\",self.phone)\n",
    "        print(\"Student Class:\",self.class_)\n",
    "\n",
    "\n",
    "s1=Student(101,\"Himanshu\",\"Chhati Road Begusarai\",\"123XXXXX879\",\"B.tech\")\n",
    "s1.display()"
   ]
  },
  {
   "cell_type": "code",
   "execution_count": null,
   "id": "8fead32f-4933-4ef9-a5ed-c38eed2e5660",
   "metadata": {},
   "outputs": [],
   "source": []
  }
 ],
 "metadata": {
  "kernelspec": {
   "display_name": "Python 3 (ipykernel)",
   "language": "python",
   "name": "python3"
  },
  "language_info": {
   "codemirror_mode": {
    "name": "ipython",
    "version": 3
   },
   "file_extension": ".py",
   "mimetype": "text/x-python",
   "name": "python",
   "nbconvert_exporter": "python",
   "pygments_lexer": "ipython3",
   "version": "3.12.2"
  }
 },
 "nbformat": 4,
 "nbformat_minor": 5
}
