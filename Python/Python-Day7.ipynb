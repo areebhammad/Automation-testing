{
 "cells": [
  {
   "cell_type": "code",
   "execution_count": 1,
   "id": "79ddafe8-0fe8-47a2-a20a-a96bf5b45f3f",
   "metadata": {},
   "outputs": [
    {
     "name": "stdout",
     "output_type": "stream",
     "text": [
      "car+Gold+House\n",
      "R1-5 Bike\n"
     ]
    }
   ],
   "source": [
    "#Polymorphsim is an ability of an object to behave in different way in different context.\n",
    "class Parent:\n",
    "    def __init__(self):\n",
    "        pass\n",
    "    def property(self):\n",
    "        print(\"car+Gold+House\")\n",
    "    def purchaseBike(self):\n",
    "        print(\"hero Bike\")\n",
    " \n",
    "class Child(Parent):\n",
    "    def purchaseBike(self):\n",
    "        print(\"R1-5 Bike\")\n",
    " \n",
    " \n",
    "c=Child()\n",
    "c.property()\n",
    "c.purchaseBike()"
   ]
  },
  {
   "cell_type": "code",
   "execution_count": 6,
   "id": "937af953-1c4e-43db-9e48-b929b793ef5d",
   "metadata": {},
   "outputs": [
    {
     "name": "stdout",
     "output_type": "stream",
     "text": [
      "default network\n",
      "Jio network\n",
      "BSNL network\n",
      "Tata network\n"
     ]
    }
   ],
   "source": [
    "class Sim: \n",
    "    def network(self): \n",
    "        print(\"default network\")\n",
    "class Jio (Sim): \n",
    "    def network(self): \n",
    "        print (\"Jio network\")\n",
    "class BSNL (Sim): \n",
    "    def network(self): \n",
    "        print (\"BSNL network\")\n",
    "class Tata (Sim): \n",
    "    def network(self): \n",
    "        print(\"Tata network\")\n",
    "s=Sim() \n",
    "s.network ()\n",
    "s=Jio()\n",
    "s.network()\n",
    "s=BSNL()\n",
    "s.network()\n",
    "s=Tata()\n",
    "s.network()"
   ]
  },
  {
   "cell_type": "code",
   "execution_count": 7,
   "id": "ec22df84-2cdb-4641-8811-9da2e6e3d6e1",
   "metadata": {},
   "outputs": [
    {
     "name": "stdout",
     "output_type": "stream",
     "text": [
      "[1, 2, 3, 4, 5]\n"
     ]
    }
   ],
   "source": [
    "res = [i for i in range(1, 6)]\n",
    "print(res)"
   ]
  },
  {
   "cell_type": "code",
   "execution_count": 10,
   "id": "22c720d4-1255-40f0-99e0-7b8d33584bf3",
   "metadata": {},
   "outputs": [
    {
     "name": "stdout",
     "output_type": "stream",
     "text": [
      "[1, 4, 9, 16, 25, 36, 49, 64, 81, 100]\n"
     ]
    }
   ],
   "source": [
    "res = [i*i for i in range(1, 11)]\n",
    "print(res)"
   ]
  },
  {
   "cell_type": "code",
   "execution_count": 13,
   "id": "d49f347e-abf4-4268-aff9-4bfd1dd707bc",
   "metadata": {},
   "outputs": [
    {
     "name": "stdout",
     "output_type": "stream",
     "text": [
      "[4, 6, 2]\n"
     ]
    }
   ],
   "source": [
    "words = [\"java\", \"python\", \"js\"]\n",
    "res = [len(word) for word in words]\n",
    "print(res)"
   ]
  },
  {
   "cell_type": "code",
   "execution_count": 17,
   "id": "cf1fad3e-5601-4304-99a2-59c9cc885bac",
   "metadata": {},
   "outputs": [
    {
     "name": "stdout",
     "output_type": "stream",
     "text": [
      "[2, 4, 6, 8, 10]\n"
     ]
    }
   ],
   "source": [
    "res = [i for i in range(1, 11) if i%2==0]\n",
    "print(res)"
   ]
  },
  {
   "cell_type": "code",
   "execution_count": 19,
   "id": "d1b3d734-b945-4a66-9b2d-1577f4b30122",
   "metadata": {},
   "outputs": [
    {
     "name": "stdout",
     "output_type": "stream",
     "text": [
      "[1, 2, 3, 4, 5, 6, 7, 8, 9, 10, 2, 4, 6, 8, 10, 12, 14, 16, 18, 20, 3, 6, 9, 12, 15, 18, 21, 24, 27, 30, 4, 8, 12, 16, 20, 24, 28, 32, 36, 40, 5, 10, 15, 20, 25, 30, 35, 40, 45, 50, 6, 12, 18, 24, 30, 36, 42, 48, 54, 60, 7, 14, 21, 28, 35, 42, 49, 56, 63, 70, 8, 16, 24, 32, 40, 48, 56, 64, 72, 80, 9, 18, 27, 36, 45, 54, 63, 72, 81, 90, 10, 20, 30, 40, 50, 60, 70, 80, 90, 100]\n"
     ]
    }
   ],
   "source": [
    "res = [i*j for i in range(1,11) for j in range(1,11)]\n",
    "print(res)"
   ]
  },
  {
   "cell_type": "code",
   "execution_count": 22,
   "id": "c3f5c06c-5ad9-4bbd-8c73-2a94eba03406",
   "metadata": {},
   "outputs": [
    {
     "name": "stdout",
     "output_type": "stream",
     "text": [
      "['odd number', 'Even number', 'odd number', 'Even number', 'odd number', 'Even number', 'odd number', 'Even number', 'odd number', 'Even number']\n"
     ]
    }
   ],
   "source": [
    "res= ['Even number' if i%2==0 else 'odd number' for i in range(1,11)]\n",
    "print(res)"
   ]
  },
  {
   "cell_type": "code",
   "execution_count": 1,
   "id": "e7e5bf74-8ad5-4e7c-95d3-73f9a886e286",
   "metadata": {},
   "outputs": [
    {
     "name": "stdout",
     "output_type": "stream",
     "text": [
      "[]\n"
     ]
    }
   ],
   "source": [
    "#2 is a factor of 6:6%2-0\n",
    "def isPrime (num):\n",
    "    count=0\n",
    "    for i in range(1,num+1):\n",
    "        if num%i==0:\n",
    "            count=count+1\n",
    "        if count==2:\n",
    "            return True\n",
    "        else:\n",
    "            return False\n",
    "\n",
    "res = [i for i in range(1,51) if isPrime(i)]\n",
    "print(res)"
   ]
  },
  {
   "cell_type": "code",
   "execution_count": 3,
   "id": "8b571a63-d44c-43c5-8883-a843a79a89f0",
   "metadata": {},
   "outputs": [],
   "source": [
    "class Circle:\n",
    "    def draw(self):\n",
    "        print('Circle Shape Draw!')\n",
    "    def color(self): \n",
    "        print(\"Yellow Color Fill In Circle!I\")\n",
    "class Rectangle:\n",
    "    def draw(self): \n",
    "        print('Rectangle Shape Draw!.')\n",
    "    def color(self): \n",
    "        print('Green Color Fill In Rectangle!.')"
   ]
  },
  {
   "cell_type": "code",
   "execution_count": 4,
   "id": "c48f3000-3fcf-4e29-974b-9b27727c1f30",
   "metadata": {},
   "outputs": [
    {
     "name": "stdout",
     "output_type": "stream",
     "text": [
      "circle shape draw!.\n",
      "yellow color fill in circle!.\n",
      "==============================\n",
      "rectangle shape draw!.\n",
      "green colour fill in rectangle!.\n",
      "==============================\n",
      "square shape draw!.\n",
      "pink color fill in square!.\n",
      "==============================\n"
     ]
    }
   ],
   "source": [
    "class Circle:\n",
    "    def draw(self):\n",
    "        print(\"circle shape draw!.\")\n",
    "    def color(self):\n",
    "        print(\"yellow color fill in circle!.\")\n",
    "class Rectangle:\n",
    "    def draw(self):\n",
    "        print(\"rectangle shape draw!.\")\n",
    "    def color(self):\n",
    "        print(\"green colour fill in rectangle!.\")\n",
    "class Square:\n",
    "    def draw(self):\n",
    "        print(\"square shape draw!.\")\n",
    "    def color(self):\n",
    "        print(\"pink color fill in square!.\")\n",
    "\n",
    "def figure(obj):\n",
    "    obj.draw()\n",
    "    obj.color()\n",
    "lst=[Circle(),Rectangle(),Square()]\n",
    "for obj in lst:\n",
    "    figure(obj)\n",
    "    print(\"==============================\")"
   ]
  },
  {
   "cell_type": "code",
   "execution_count": 5,
   "id": "7c3644b1-c5b0-4e59-bc3f-d8db06c00950",
   "metadata": {},
   "outputs": [
    {
     "name": "stdout",
     "output_type": "stream",
     "text": [
      "Circle Shape Draw!.\n",
      "===========================\n",
      "Rectangle Shape Paint!.\n",
      "===========================\n",
      "Square Shape Draw!.\n",
      "===========================\n",
      "Triangle Shape Paint!.\n",
      "===========================\n"
     ]
    }
   ],
   "source": [
    "class Circle:\n",
    "    def draw(self):\n",
    "        print('Circle Shape Draw!.')\n",
    "    \n",
    "class Rectangle:\n",
    "    def paint(self):\n",
    "        print('Rectangle Shape Paint!.')\n",
    "  \n",
    "class Square:\n",
    "    def draw(self):\n",
    "        print('Square Shape Draw!.')\n",
    "class Triangle:\n",
    "    def paint(self):\n",
    "        print('Triangle Shape Paint!.')\n",
    "\n",
    "#define function for Polymorphism \n",
    "def figure(obj):\n",
    "    if hasattr(obj,'draw'):\n",
    "        obj.draw()\n",
    "    elif hasattr(obj,'paint'): \n",
    "        obj.paint()     \n",
    "\n",
    "#Create a list which contain given class object     \n",
    "l=[Circle(),Rectangle(),Square(),Triangle()]\n",
    "for obj in l:\n",
    "    figure(obj)\n",
    "    print('===========================')"
   ]
  },
  {
   "cell_type": "code",
   "execution_count": 6,
   "id": "b22beffd-8e8a-4472-848d-c246292182da",
   "metadata": {},
   "outputs": [
    {
     "name": "stdout",
     "output_type": "stream",
     "text": [
      "New Delhi\n",
      "Hindi and English\n",
      "Washington, D.C.\n",
      "English\n",
      "Brussels\n",
      "French\n"
     ]
    }
   ],
   "source": [
    "class India():\n",
    "    def capital(self):\n",
    "        print(\"New Delhi\")\n",
    "    def language(self):\n",
    "        print(\"Hindi and English\")\n",
    " \n",
    "class USA():\n",
    "    def capital(self):\n",
    "        print(\"Washington, D.C.\")\n",
    "    def language(self):\n",
    "        print(\"English\")\n",
    "\n",
    "class Europe():\n",
    "    def capital(self):\n",
    "        print(\"Brussels\")\n",
    "    def language(self):\n",
    "        print(\"French\")\n",
    "\n",
    "obj_ind = India()\n",
    "obj_usa = USA()\n",
    "obj_eur=Europe()\n",
    "for country in (obj_ind, obj_usa,obj_eur):\n",
    "    country.capital()\n",
    "    country.language()"
   ]
  },
  {
   "cell_type": "code",
   "execution_count": 7,
   "id": "326ddce8-5193-4954-aae0-433d2d06a964",
   "metadata": {},
   "outputs": [
    {
     "name": "stdout",
     "output_type": "stream",
     "text": [
      "SBI Rate of Interest:  7\n",
      "ICICI Rate of Interest:  8\n",
      "AXIS Rate of Interest:  9\n"
     ]
    }
   ],
   "source": [
    "class Bank:\n",
    "    def getRateOfInterest(self):\n",
    "        return 0\n",
    "\n",
    "\n",
    "class SBI(Bank):\n",
    "    def getRateOfInterest(self):\n",
    "        return 7\n",
    "\n",
    "class ICICI(Bank):\n",
    "    def getRateOfInterest(self):\n",
    "        return 8\n",
    "\n",
    "class AXIS(Bank):\n",
    "    def getRateOfInterest(self):\n",
    "        return 9\n",
    "\n",
    "#creating an object\n",
    "s= SBI();\n",
    "print('SBI Rate of Interest: ',s.getRateOfInterest())  \n",
    "i= ICICI(); \n",
    "print('ICICI Rate of Interest: ',i.getRateOfInterest()) \n",
    "a= AXIS();  \n",
    "print('AXIS Rate of Interest: ',a.getRateOfInterest())"
   ]
  },
  {
   "cell_type": "code",
   "execution_count": 8,
   "id": "e138fc62-4af0-48bc-9935-6429ae7e19b8",
   "metadata": {},
   "outputs": [
    {
     "name": "stdout",
     "output_type": "stream",
     "text": [
      "With respect to parent object!.\n",
      "Parent has Money,Gold\n",
      "parent wants to purchase Hero Bike!\n",
      "parent decide marry with Black girl!\n",
      "With respect to child object!.\n",
      "Parent has Money,Gold\n",
      "Child wants to purchase R1-5 Bike!\n",
      "Child decide marry with White girl!\n"
     ]
    }
   ],
   "source": [
    "class Parent:\n",
    "    def property(self):\n",
    "        print('Parent has Money,Gold')\n",
    "    def purchaseBike(self):\n",
    "        print('parent wants to purchase Hero Bike!')\n",
    "    def marry(self):\n",
    "        print('parent decide marry with Black girl!')\n",
    "\n",
    "class Child(Parent):\n",
    "    def purchaseBike(self):\n",
    "        print('Child wants to purchase R1-5 Bike!')\n",
    "    def marry(self):\n",
    "        print('Child decide marry with White girl!')\n",
    "\n",
    "#Creating Parent class object\n",
    "print('With respect to parent object!.')\n",
    "p=Parent()\n",
    "p.property()\n",
    "p.purchaseBike()\n",
    "p.marry()\n",
    "#Creating Child class object\n",
    "print('With respect to child object!.')\n",
    "c=Child()\n",
    "c.property()\n",
    "c.purchaseBike()\n",
    "c.marry()"
   ]
  },
  {
   "cell_type": "code",
   "execution_count": 9,
   "id": "07d82b21-cce7-4291-ab15-9656aaa72b51",
   "metadata": {},
   "outputs": [
    {
     "name": "stdout",
     "output_type": "stream",
     "text": [
      "SBI Rate of Interest:  7\n",
      "ICICI Rate of Interest:  8\n",
      "AXIS Rate of Interest:  9\n"
     ]
    }
   ],
   "source": [
    "class Bank:\n",
    "    def getRateOfInterest(self):\n",
    "        return 0\n",
    "\n",
    "\n",
    "class SBI(Bank):\n",
    "    def getRateOfInterest(self):\n",
    "        return 7\n",
    "\n",
    "class ICICI(Bank):\n",
    "    def getRateOfInterest(self):\n",
    "        return 8\n",
    "\n",
    "class AXIS(Bank):\n",
    "    def getRateOfInterest(self):\n",
    "        return 9\n",
    "\n",
    "#creating an object\n",
    "s= SBI();\n",
    "print('SBI Rate of Interest: ',s.getRateOfInterest())  \n",
    "i= ICICI(); \n",
    "print('ICICI Rate of Interest: ',i.getRateOfInterest()) \n",
    "a= AXIS();  \n",
    "print('AXIS Rate of Interest: ',a.getRateOfInterest())"
   ]
  },
  {
   "cell_type": "code",
   "execution_count": 3,
   "id": "81cea010-456a-4b2d-90fe-c241c3ca9fdb",
   "metadata": {},
   "outputs": [
    {
     "name": "stdout",
     "output_type": "stream",
     "text": [
      "<__main__.Point object at 0x0000026543A4BBF0>\n"
     ]
    }
   ],
   "source": [
    "class Point:\n",
    "    def _init_(self, x = 0, y = 0):\n",
    "        self.x = x\n",
    "        self.y = y\n",
    "    def _str_(self):\n",
    "        return \"({0},{1})\".format(self.x,self.y)\n",
    "\n",
    "#creating an object\n",
    "# p1=Point(10,20)\n",
    "p1=Point()\n",
    "print(p1)"
   ]
  },
  {
   "cell_type": "code",
   "execution_count": 4,
   "id": "4e083bf9-e2ab-4234-bc57-16ac7e8590b7",
   "metadata": {},
   "outputs": [
    {
     "name": "stdout",
     "output_type": "stream",
     "text": [
      "John is older than Scott\n"
     ]
    }
   ],
   "source": [
    "class Person:\n",
    "    def __init__(self,name,age):\n",
    "        self.name=name\n",
    "        self.age=age\n",
    "    def __gt__(self,other):\n",
    "        return self.age>other.age\n",
    "    def __lt__(self,other):\n",
    "        return self.age<other.age \n",
    "    def __eq__(self,other):\n",
    "        return self.age==other.age \n",
    "\n",
    "#Creating first person object\n",
    "p1=Person('Scott',50)\n",
    "#Creating second person object\n",
    "p2=Person('John',90)\n",
    "if p1>p2:\n",
    "    print(p1.name,'is older than',p2.name)\n",
    "elif p1<p2:\n",
    "    print(p2.name,'is older than',p1.name)\n",
    "elif p1==p2:\n",
    "    print(p1.name,'and',p2.name,'is equal in ages')"
   ]
  },
  {
   "cell_type": "code",
   "execution_count": 15,
   "id": "b8cb8ee8-b87c-4d15-b050-b3c9fad5eb89",
   "metadata": {},
   "outputs": [
    {
     "name": "stdout",
     "output_type": "stream",
     "text": [
      "John is older than Scott\n"
     ]
    }
   ],
   "source": [
    "class Person:\n",
    "    def __init__(self,name,age):\n",
    "        self.name=name\n",
    "        self.age=age\n",
    "    def __gt__(self,other):\n",
    "        return self.age>other.age\n",
    "    def __lt__(self,other):\n",
    "        return self.age<other.age \n",
    "    def __eq__(self,other):\n",
    "        return self.age==other.age \n",
    "\n",
    "#Creating first person object\n",
    "p1=Person('Scott',50)\n",
    "#Creating second person object\n",
    "p2=Person('John',90)\n",
    "if p1>p2:\n",
    "    print(p1.name,'is older than',p2.name)\n",
    "elif p1<p2:\n",
    "    print(p2.name,'is older than',p1.name)\n",
    "elif p1==p2:\n",
    "    print(p1.name,'and',p2.name,'is equal in age')"
   ]
  },
  {
   "cell_type": "code",
   "execution_count": 17,
   "id": "b4798da2-ac00-455b-97fe-3ad2e88d2d26",
   "metadata": {},
   "outputs": [
    {
     "name": "stdout",
     "output_type": "stream",
     "text": [
      "Point1 = (10,20)\n",
      "Point2=  (30,40)\n",
      "Sum of Points=  (40,60)\n"
     ]
    }
   ],
   "source": [
    "class Point:\n",
    "    def __init__(self, x = 0, y = 0):\n",
    "        self.x = x\n",
    "        self.y = y\n",
    "    def __str__(self):\n",
    "        return \"({0},{1})\".format(self.x,self.y)\n",
    "    def __add__(self,other):\n",
    "        x = self.x + other.x\n",
    "        y = self.y + other.y\n",
    "        return Point(x,y)\n",
    "    \n",
    "\n",
    "#creating first point object\n",
    "p1=Point(10,20)\n",
    "#creating second point object\n",
    "p2=Point(30,40)\n",
    "p3=p1+p2\n",
    "print('Point1 =',p1)\n",
    "print('Point2= ',p2)\n",
    "print('Sum of Points= ',p3)"
   ]
  },
  {
   "cell_type": "code",
   "execution_count": 18,
   "id": "9d780195-3c7a-48ec-af98-116a814aaa2f",
   "metadata": {},
   "outputs": [],
   "source": [
    "# In Python, abstractmethod is a decorator from the abc module (Abstract Base Classes) that allows you to define abstract methods within abstract base classes. Abstract methods are methods declared but not implemented in the base class. They serve as a blueprint for methods that must be implemented in subclasses, enforcing a contract that subclasses must follow.\n",
    "\n",
    "# Purpose of abstractmethod:\n",
    "# The primary purpose of abstractmethod is to define a method that must be implemented by any concrete subclass. It allows you to define a method's signature without providing an implementation, leaving the details to be filled in by subclasses.\n",
    "\n",
    "# How to Use abstractmethod:\n",
    "# To use abstractmethod, you need to follow these steps:\n",
    "\n",
    "# Import abstractmethod: Import it from the abc module.\n",
    "\n",
    "# Create an Abstract Base Class (ABC): Define a class that inherits from ABC (or use @abc.abstractclass decorator).\n",
    "\n",
    "# Decorate Methods: Decorate methods within the ABC using @abstractmethod. These methods will not have an implementation in the base class but are required to be implemented by any subclass.\n",
    "\n",
    "# Example 1: Simple Abstract Method"
   ]
  },
  {
   "cell_type": "code",
   "execution_count": 19,
   "id": "93b6f12b-57c4-4596-8044-5f677edff8d6",
   "metadata": {},
   "outputs": [
    {
     "name": "stdout",
     "output_type": "stream",
     "text": [
      "Area of circle: 78.5\n",
      "Area of square: 16\n"
     ]
    }
   ],
   "source": [
    "from abc import ABC, abstractmethod\n",
    "\n",
    "class Shape(ABC):\n",
    "    @abstractmethod\n",
    "    def area(self):\n",
    "        pass\n",
    "\n",
    "# Trying to instantiate an abstract class directly will raise an error\n",
    "# shape = Shape()  # TypeError: Can't instantiate abstract class Shape with abstract methods area\n",
    "\n",
    "class Circle(Shape):\n",
    "    def __init__(self, radius):\n",
    "        self.radius = radius\n",
    "    \n",
    "    def area(self):\n",
    "        return 3.14 * self.radius ** 2\n",
    "\n",
    "class Square(Shape):\n",
    "    def __init__(self, side):\n",
    "        self.side = side\n",
    "    \n",
    "    def area(self):\n",
    "        return self.side ** 2\n",
    "\n",
    "circle = Circle(5)\n",
    "print(\"Area of circle:\", circle.area())  # Output: Area of circle: 78.5\n",
    "\n",
    "square = Square(4)\n",
    "print(\"Area of square:\", square.area())  # Output: Area of square: 16\n"
   ]
  },
  {
   "cell_type": "code",
   "execution_count": 20,
   "id": "451b8409-15b6-4304-8ee7-e83f2f3e9362",
   "metadata": {},
   "outputs": [],
   "source": [
    "# In this example, Shape is an abstract base class with one abstract method area(). This method must be implemented by any subclass of Shape.\n",
    "# Attempting to instantiate Shape() directly will raise an error because it is an abstract class.\n",
    "# Circle and Square are concrete subclasses of Shape, each providing its own implementation of area().\n",
    "# Example 2: Abstract Methods with Concrete Methods"
   ]
  },
  {
   "cell_type": "code",
   "execution_count": 21,
   "id": "b234233c-c6d3-42ef-a026-269730740029",
   "metadata": {},
   "outputs": [
    {
     "name": "stdout",
     "output_type": "stream",
     "text": [
      "Bark\n",
      "Moving\n",
      "Meow\n",
      "Moving\n"
     ]
    }
   ],
   "source": [
    "from abc import ABC, abstractmethod\n",
    "\n",
    "class Animal(ABC):\n",
    "    @abstractmethod\n",
    "    def make_sound(self):\n",
    "        pass\n",
    "    \n",
    "    def move(self):\n",
    "        print(\"Moving\")\n",
    "\n",
    "class Dog(Animal):\n",
    "    def make_sound(self):\n",
    "        print(\"Bark\")\n",
    "\n",
    "class Cat(Animal):\n",
    "    def make_sound(self):\n",
    "        print(\"Meow\")\n",
    "\n",
    "dog = Dog()\n",
    "dog.make_sound()  # Output: Bark\n",
    "dog.move()        # Output: Moving\n",
    "\n",
    "cat = Cat()\n",
    "cat.make_sound()  # Output: Meow\n",
    "cat.move()        # Output: Moving\n"
   ]
  },
  {
   "cell_type": "code",
   "execution_count": 22,
   "id": "1e31d58a-5da4-4680-bb59-4ce5845993cb",
   "metadata": {},
   "outputs": [],
   "source": [
    "# In this example, Animal is an abstract base class with an abstract method make_sound() and a concrete method move().\n",
    "# Both Dog and Cat subclasses of Animal provide their own implementations of make_sound().\n",
    "# The move() method is inherited from Animal and shared by both Dog and Cat.\n",
    "\n",
    "# Key Points:\n",
    "# Abstract methods in Python are defined using @abstractmethod.\n",
    "# Abstract methods must be implemented by subclasses; otherwise, attempting to instantiate them directly will raise an error.\n",
    "# Abstract base classes can have both abstract methods and concrete methods.\n",
    "# Using abstract methods helps enforce a common interface among subclasses, promoting code clarity and reusability in object-oriented programming."
   ]
  },
  {
   "cell_type": "code",
   "execution_count": 3,
   "id": "da3e0469-d585-49a2-a201-d5549280d3a6",
   "metadata": {},
   "outputs": [
    {
     "name": "stdout",
     "output_type": "stream",
     "text": [
      "10000 Rs. Credited in your Current Account\n",
      "Current Balance=  10000\n",
      "500 Rs. debited from your Current Account\n",
      "Current Balance=  9500\n"
     ]
    }
   ],
   "source": [
    "from abc import ABC, abstractmethod\n",
    " \n",
    "class Account(ABC):\n",
    "    def __init__(self, acc_no, acc_holder_name):\n",
    "        self.acc_no=acc_no\n",
    "        self.acc_holder_name=acc_holder_name\n",
    "        self.balance =0\n",
    "    @abstractmethod\n",
    "    def deposit(self, amount):\n",
    "            pass\n",
    " \n",
    "    @abstractmethod\n",
    "    def withdraw(self, amount):\n",
    "        pass\n",
    "    def balance_enquiry(self):\n",
    "        return self.balance\n",
    "class CurrentAccount(Account):\n",
    "    def __init__(self, acc_no, acc_holder_name):\n",
    "        super().__init__(acc_no, acc_holder_name)\n",
    " \n",
    "    def deposit(self, amount):\n",
    "        self.balance+=amount\n",
    "        print(amount,'Rs. Credited in your Current Account')\n",
    " \n",
    "    def withdraw(self, amount):\n",
    "        self.balance-=amount\n",
    "        print(amount,'Rs. debited from your Current Account')\n",
    " \n",
    "    def process_to_cheque(self, cheque_no):\n",
    "        print('Transaction Process through Cheque')\n",
    " \n",
    " \n",
    "ca=CurrentAccount(12345,'John')\n",
    "ca.deposit(10000)\n",
    "print('Current Balance= ',ca.balance_enquiry())\n",
    "ca.withdraw(500)\n",
    "print('Current Balance= ',ca.balance_enquiry())\n",
    " "
   ]
  },
  {
   "cell_type": "code",
   "execution_count": null,
   "id": "e96b91a1-410b-4866-8320-2cb864f88cf5",
   "metadata": {},
   "outputs": [],
   "source": []
  }
 ],
 "metadata": {
  "kernelspec": {
   "display_name": "Python 3 (ipykernel)",
   "language": "python",
   "name": "python3"
  },
  "language_info": {
   "codemirror_mode": {
    "name": "ipython",
    "version": 3
   },
   "file_extension": ".py",
   "mimetype": "text/x-python",
   "name": "python",
   "nbconvert_exporter": "python",
   "pygments_lexer": "ipython3",
   "version": "3.12.2"
  }
 },
 "nbformat": 4,
 "nbformat_minor": 5
}
