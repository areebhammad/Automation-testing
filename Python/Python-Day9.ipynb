{
 "cells": [
  {
   "cell_type": "code",
   "execution_count": 4,
   "metadata": {},
   "outputs": [
    {
     "name": "stdout",
     "output_type": "stream",
     "text": [
      "2-Args functs\n",
      "30\n"
     ]
    }
   ],
   "source": [
    "#Function overloading\n",
    " \n",
    "# Function overloading refers to the ability to define multiple functions with the same name\n",
    "# but different signature.\n",
    "#Signatue means name of method and along its check\n",
    "# No of para\n",
    "#Type of para\n",
    "#Order of para\n",
    " \n",
    "#With function overloading,the programmer can define multiple functions with the same name,but\n",
    "#each function can have a different number of parameters or parameter of different type\n",
    " \n",
    " \n",
    "def add(a,b,c):\n",
    "    print(\"3-Args functs\")\n",
    "    return a+b\n",
    "def add(a,b):\n",
    "    print(\"2-Args functs\")\n",
    "    return a+b\n",
    " \n",
    " \n",
    "res=add(10,20)\n",
    "print(res)"
   ]
  },
  {
   "cell_type": "code",
   "execution_count": 5,
   "metadata": {},
   "outputs": [
    {
     "name": "stdout",
     "output_type": "stream",
     "text": [
      "4\n",
      "22\n",
      "30\n",
      "30\n",
      "30\n",
      "obj1 is less than obj2\n"
     ]
    }
   ],
   "source": [
    "#Operator overloading\n",
    " \n",
    "print(2+2) #4\n",
    "print('2'+'2')#22\n",
    "#print('2'+2)#error\n",
    " \n",
    "#Operator overloading means giving extended meaning beyind their predefined operational meaning\n",
    "#We can overload all existing operator but we can't create a new operator\n",
    "#To perform overloading Python provides some special function or magic function that is automatically\n",
    "#invoked when it is associated with that particular operator.\n",
    "#When we use + operator, the magic method __add__ is automatically invoked in which the operation for\n",
    "#+operator is defined.\n",
    " \n",
    "class C1:\n",
    "    def __init__(self,a):\n",
    "        self.a=a\n",
    "    #adding two object\n",
    "    def __add__(self,obj):\n",
    "        return self.a+obj.a\n",
    " \n",
    " \n",
    "obj1=C1(10)\n",
    "obj2=C1(20)\n",
    "obj3=C1(30)\n",
    "print(obj1+obj2)#\n",
    "print(C1.__add__(obj1,obj2))\n",
    "print(obj1.__add__(obj2))\n",
    " \n",
    " \n",
    "class C2:\n",
    "    def __init__(self,a):\n",
    "        self.a=a\n",
    "    def __lt__(self,other):\n",
    "        if(self.a<other.a):\n",
    "            return \"obj1 is less than obj2\"\n",
    "        else:\n",
    "            return \"obj2 is less than obj1\"\n",
    "    def __eq__(self,other):\n",
    "        if(self.a==other.a):\n",
    "            return \"Both are equal\"\n",
    "        else:\n",
    "            return \"Not Equal\"\n",
    " \n",
    "obj1=C2(10)\n",
    "obj2=C2(20)\n",
    "print(obj1<obj2)"
   ]
  },
  {
   "cell_type": "code",
   "execution_count": 8,
   "metadata": {},
   "outputs": [
    {
     "name": "stdout",
     "output_type": "stream",
     "text": [
      "class-C2-Constructor\n",
      "f1 belongs c1 class\n",
      "f2 belongs c2 class\n",
      "class-C2-Constructor\n",
      "f1 belongs c2 class\n"
     ]
    }
   ],
   "source": [
    "class C1:\n",
    "\n",
    "    def __init__(self):\n",
    "\n",
    "        print('class-C1-Constructor')\n",
    "\n",
    "    def f1(self):\n",
    "\n",
    "        print('f1 belongs c1 class')\n",
    " \n",
    "class C2:\n",
    "\n",
    "    def __init__(self):\n",
    "\n",
    "        print('class-C2-Constructor')\n",
    "\n",
    "    def f2(self):\n",
    "\n",
    "        print('f2 belongs c2 class')\n",
    " \n",
    "class C3(C2,C1):\n",
    "\n",
    "    pass\n",
    " \n",
    "obj=C3() \n",
    "\n",
    "obj.f1()\n",
    "\n",
    "obj.f2()\n",
    " \n",
    "#O/p:\n",
    "\n",
    "#class-C2-Constructor\n",
    "\n",
    "#f1 belongs c1 class\n",
    "\n",
    "#f2 belongs c2 class\n",
    " \n",
    "class C1:\n",
    "\n",
    "    def __init__(self):\n",
    "\n",
    "        print('class-C1-Constructor')\n",
    "\n",
    "    def f1(self):\n",
    "\n",
    "        print('f1 belongs c1 class')\n",
    " \n",
    "class C2:\n",
    "\n",
    "    def __init__(self):\n",
    "\n",
    "        print('class-C2-Constructor')\n",
    "\n",
    "    def f1(self):\n",
    "\n",
    "        print('f1 belongs c2 class')\n",
    " \n",
    "class C3(C2,C1):\n",
    "\n",
    "    pass\n",
    " \n",
    "obj=C3() \n",
    "\n",
    "obj.f1()\n",
    " \n",
    "#O/p:\n",
    "\n",
    "#class-C2-Constructor\n",
    "\n",
    "#f2 belongs c2 class\n",
    "\n",
    " "
   ]
  },
  {
   "cell_type": "code",
   "execution_count": 16,
   "metadata": {},
   "outputs": [
    {
     "name": "stdout",
     "output_type": "stream",
     "text": [
      "70\n"
     ]
    }
   ],
   "source": [
    "class A:\n",
    "    def m1(self):\n",
    "        return 20\n",
    "\n",
    "class B(A):\n",
    "    def m1(self):\n",
    "        val = super().m1() + 30\n",
    "        return val\n",
    "\n",
    "class C(B):\n",
    "    def m1(self):\n",
    "        val = super().m1() + 20\n",
    "        return val\n",
    "\n",
    "obj = C()\n",
    "print(obj.m1())\n"
   ]
  },
  {
   "cell_type": "code",
   "execution_count": 11,
   "metadata": {},
   "outputs": [
    {
     "name": "stdout",
     "output_type": "stream",
     "text": [
      "Inside phone constructor\n",
      "Buying a phone\n"
     ]
    }
   ],
   "source": [
    "class Phone:\n",
    "    def __init__(self, price, brand, camera):\n",
    "        print (\"Inside phone constructor\")\n",
    "        self._price = price\n",
    "        self.brand = brand\n",
    "        self.camera = camera\n",
    "    def buy(self):\n",
    "        print (\"Buying a phone\")\n",
    "    def return_phone(self):\n",
    "        print(\"returning phone\")\n",
    "\n",
    "class SmartPhone (Phone):\n",
    "    pass\n",
    "\n",
    "SmartPhone (1000, \"Apple\", \"13px\").buy()"
   ]
  },
  {
   "cell_type": "code",
   "execution_count": 12,
   "metadata": {},
   "outputs": [
    {
     "name": "stdout",
     "output_type": "stream",
     "text": [
      "Inside phone constructor\n",
      "Buying a phone\n"
     ]
    }
   ],
   "source": [
    "class Phone:\n",
    "    def __init__(self, price, brand, camera): \n",
    "        print (\"Inside phone constructor\")\n",
    "        self._price = price\n",
    "        self.brand = brand\n",
    "        self.camera = camera\n",
    "    def buy(self):\n",
    "        print (\"Buying a phone\")\n",
    "    def return_phone(self): \n",
    "        print (\"Returning a phone\")\n",
    "class SmartPhone (Phone): pass\n",
    "SmartPhone (1000, \"Apple\", \"13px\").buy()"
   ]
  },
  {
   "cell_type": "code",
   "execution_count": 15,
   "metadata": {},
   "outputs": [
    {
     "name": "stdout",
     "output_type": "stream",
     "text": [
      "Inside phone constructor\n",
      "Buying a phone\n"
     ]
    }
   ],
   "source": [
    "class Phone:\n",
    "    def __init__(self, price, brand, camera):\n",
    "        print (\"Inside phone constructor\")\n",
    "        self._price = price\n",
    "        self.brand = brand\n",
    "        self.camera = camera\n",
    "    def buy(self):\n",
    "        print (\"Buying a phone\")\n",
    "    def return_phone(self):\n",
    "        print (\"Returning a phone\")\n",
    "class SmartPhone (Phone): \n",
    "    pass\n",
    "class FeaturePhone (Phone): \n",
    "    pass\n",
    "SmartPhone(1000, \"Apple\", \"13px\").buy()"
   ]
  },
  {
   "cell_type": "code",
   "execution_count": 18,
   "metadata": {},
   "outputs": [
    {
     "name": "stdout",
     "output_type": "stream",
     "text": [
      "Inside phone constructor\n",
      "Buying a phone\n",
      "Reviewing a product\n"
     ]
    }
   ],
   "source": [
    "class Phone:\n",
    "    def __init__(self, price, brand, camera):\n",
    "        print (\"Inside phone constructor\")\n",
    "        self._price = price\n",
    "        self.brand = brand\n",
    "        self.camera = camera\n",
    "    def buy(self):\n",
    "        print (\"Buying a phone\")\n",
    "    def return_phone(self):\n",
    "        print (\"Returning a phone\")\n",
    "class Product:\n",
    "    def review(self):\n",
    "        print (\"Reviewing a product\")\n",
    "class SmartPhone (Phone, Product): \n",
    "    pass\n",
    "s=SmartPhone(20000, \"Apple\", 12)\n",
    "s.buy()\n",
    "s.review()"
   ]
  },
  {
   "cell_type": "code",
   "execution_count": 20,
   "metadata": {},
   "outputs": [
    {
     "name": "stdout",
     "output_type": "stream",
     "text": [
      "Inside phone constructor\n",
      "Product buy method\n"
     ]
    }
   ],
   "source": [
    "class Phone:\n",
    "    def __init__(self, price, brand, camera):\n",
    "        print (\"Inside phone constructor\")\n",
    "        self._price = price\n",
    "        self.brand = brand\n",
    "        self.camera = camera\n",
    "    def buy(self):\n",
    "        print (\"Buying a phone\")\n",
    "    def return_phone(self):\n",
    "        print (\"Returning a phone\")\n",
    "class Product:\n",
    "    def buy(self):\n",
    "        print (\"Product buy method\")\n",
    "class SmartPhone (Product, Phone): \n",
    "    pass\n",
    "s=SmartPhone (20000, \"Apple\", 12)\n",
    "s.buy()"
   ]
  },
  {
   "cell_type": "code",
   "execution_count": 22,
   "metadata": {},
   "outputs": [
    {
     "name": "stdout",
     "output_type": "stream",
     "text": [
      "3\n",
      "GeeksFor\n",
      "3\n",
      "GeeksFor\n",
      "3\n",
      "GeeksFor\n"
     ]
    }
   ],
   "source": [
    "#Python Program illustrate how\n",
    "#to overload an binary + operator\n",
    "#And how it actually works\n",
    "class A:\n",
    "    def __init__(self, a):\n",
    "        self.a = a\n",
    "    # adding two objects\n",
    "    def __add__ (self, o):\n",
    "        return self.a + o.a\n",
    "ob1 = A(1)\n",
    "ob2 = A(2)\n",
    "ob3 = A(\"Geeks\")\n",
    "ob4 = A(\"For\")\n",
    "print(ob1 + ob2)\n",
    "print(ob3 + ob4)\n",
    "#Actual working when Binary Operator is used.\n",
    "print(A.__add__(ob1, ob2))\n",
    "print(A.__add__(ob3,ob4))\n",
    "#And can also be Understand as:\n",
    "print(ob1.__add__(ob2))\n",
    "print(ob3.__add__(ob4))"
   ]
  },
  {
   "cell_type": "code",
   "execution_count": 26,
   "metadata": {},
   "outputs": [
    {
     "name": "stdout",
     "output_type": "stream",
     "text": [
      "(3, 5)\n"
     ]
    }
   ],
   "source": [
    "#Python Program to perform addition\n",
    "# of two complex numbers using binary #+ operator overloading.\n",
    "class complex: \n",
    "    def __init__(self, a, b):\n",
    "        self.a = a\n",
    "        self.b = b\n",
    "    #adding two objects\n",
    "    def __add__(self, other): \n",
    "        return self.a + other.a, self.b + other.b\n",
    "Ob1 = complex(1, 2)\n",
    "Ob2 = complex(2, 3)\n",
    "ob3 = Ob1 + Ob2\n",
    "print(ob3)"
   ]
  },
  {
   "cell_type": "code",
   "execution_count": 14,
   "metadata": {},
   "outputs": [
    {
     "name": "stdout",
     "output_type": "stream",
     "text": [
      "ob2 is greater than ob1\n"
     ]
    }
   ],
   "source": [
    "\n",
    "class A: \n",
    "    def __init__(self, a): \n",
    "        self.a = a\n",
    "    def __gt__(self, other): \n",
    "        if(self.a>other.a):\n",
    "            return True\n",
    "        else:\n",
    "            return False\n",
    "ob1 = A(2) \n",
    "ob2 = A(3) \n",
    "if(ob1>ob2): \n",
    "    print(\"obl is greater than ob2\")\n",
    "else:\n",
    "    print(\"ob2 is greater than ob1\")"
   ]
  },
  {
   "cell_type": "code",
   "execution_count": 13,
   "metadata": {},
   "outputs": [
    {
     "name": "stdout",
     "output_type": "stream",
     "text": [
      "obl is less than ob2\n",
      "False\n"
     ]
    }
   ],
   "source": [
    "\n",
    "class A:\n",
    "    def __init__(self, a): \n",
    "        self.a = a\n",
    "    def __lt__(self, other): \n",
    "        if(self.a<other.a):\n",
    "            return \"obl is less than ob2\"\n",
    "        else:\n",
    "            return \"ob2 is less than ob1\"\n",
    "    def eq_(self, other): \n",
    "        if(self.a == other.a):\n",
    "            return \"Both are equal\"\n",
    "        else:\n",
    "            return \"Not equal\"\n",
    "ob1 = A(2) \n",
    "ob2 = A(3)\n",
    "print(ob1 < ob2)\n",
    "ob3 = A(4) \n",
    "ob4 = A(4)\n",
    "print(ob1 == ob2)"
   ]
  },
  {
   "cell_type": "code",
   "execution_count": 12,
   "metadata": {},
   "outputs": [
    {
     "name": "stdout",
     "output_type": "stream",
     "text": [
      "This is the ~ operator, overloaded as binary operator.\n"
     ]
    }
   ],
   "source": [
    "class A:\n",
    "    def __init__(self, a):\n",
    "        self.a = a\n",
    "\n",
    "    def __invert__(self):\n",
    "        return \"This is the ~ operator, overloaded as binary operator.\"\n",
    "\n",
    "ob1 = A(2)\n",
    "print(~ob1)"
   ]
  },
  {
   "cell_type": "code",
   "execution_count": 37,
   "metadata": {},
   "outputs": [
    {
     "name": "stdout",
     "output_type": "stream",
     "text": [
      "False\n"
     ]
    }
   ],
   "source": [
    "class MyClass:\n",
    "    def __init__(self, value):\n",
    "        self.value = value\n",
    "\n",
    "    def __and__(self, other):\n",
    "        return MyClass(self.value and other.value)\n",
    "    \n",
    "a = MyClass(True)\n",
    "b = MyClass(False)\n",
    "c = a & b \n",
    "print(c.value)\n"
   ]
  },
  {
   "cell_type": "code",
   "execution_count": 40,
   "metadata": {},
   "outputs": [],
   "source": [
    "airline=\"Smart Airlines\" \n",
    "def add (no_of_flights):\n",
    "    print (no_of_flights,\" flights added to the fleet\")"
   ]
  },
  {
   "cell_type": "code",
   "execution_count": null,
   "metadata": {},
   "outputs": [],
   "source": []
  },
  {
   "cell_type": "code",
   "execution_count": null,
   "metadata": {},
   "outputs": [],
   "source": []
  },
  {
   "cell_type": "code",
   "execution_count": 43,
   "metadata": {},
   "outputs": [
    {
     "name": "stdout",
     "output_type": "stream",
     "text": [
      "120\n"
     ]
    }
   ],
   "source": [
    "factorial = lambda n: 1 if n == 0 else n * factorial(n-1)\n",
    "num = 5\n",
    "print(factorial(num))"
   ]
  },
  {
   "cell_type": "code",
   "execution_count": 1,
   "metadata": {},
   "outputs": [],
   "source": [
    "def squareIt(n):\n",
    " return n*n"
   ]
  },
  {
   "cell_type": "code",
   "execution_count": 2,
   "metadata": {},
   "outputs": [
    {
     "name": "stdout",
     "output_type": "stream",
     "text": [
      "The Square of 4 is : 16\n",
      "The Square of 5 is : 25\n"
     ]
    }
   ],
   "source": [
    "s=lambda n:n*n \n",
    "print(\"The Square of 4 is :\",s(4)) \n",
    "print(\"The Square of 5 is :\",s(5)) "
   ]
  },
  {
   "cell_type": "code",
   "execution_count": 3,
   "metadata": {},
   "outputs": [
    {
     "name": "stdout",
     "output_type": "stream",
     "text": [
      "The Sum of 10,20 is: 30\n",
      "The Sum of 100,200 is: 300\n"
     ]
    }
   ],
   "source": [
    "s=lambda a,b:a+b \n",
    "print(\"The Sum of 10,20 is:\",s(10,20)) \n",
    "print(\"The Sum of 100,200 is:\",s(100,200)) "
   ]
  },
  {
   "cell_type": "code",
   "execution_count": 4,
   "metadata": {},
   "outputs": [
    {
     "name": "stdout",
     "output_type": "stream",
     "text": [
      "The Biggest of 10,20 is: 20\n",
      "The Biggest of 100,200 is: 200\n"
     ]
    }
   ],
   "source": [
    "s=lambda a,b:a if a>b else b \n",
    "print(\"The Biggest of 10,20 is:\",s(10,20)) \n",
    "print(\"The Biggest of 100,200 is:\",s(100,200)) "
   ]
  },
  {
   "cell_type": "code",
   "execution_count": 5,
   "metadata": {},
   "outputs": [
    {
     "name": "stdout",
     "output_type": "stream",
     "text": [
      "Adding 15 to 10 gives: 25\n",
      "Multiplying 5 and 7 gives: 35\n"
     ]
    }
   ],
   "source": [
    "add_15 = lambda x: x + 15\n",
    "\n",
    "multiply = lambda x, y: print(x * y)\n",
    "\n",
    "num = 10\n",
    "result_add = add_15(num)\n",
    "print(f\"Adding 15 to {num} gives: {result_add}\")\n",
    "\n",
    "a = 5\n",
    "b = 7\n",
    "print(f\"Multiplying {a} and {b} gives:\", end=\" \")\n",
    "multiply(a, b)\n"
   ]
  },
  {
   "cell_type": "code",
   "execution_count": 6,
   "metadata": {},
   "outputs": [
    {
     "name": "stdout",
     "output_type": "stream",
     "text": [
      "2 times the number 15 = 30\n",
      "3 times the number 15 = 45\n",
      "4 times the number 15 = 60\n",
      "5 times the number 15 = 75\n"
     ]
    }
   ],
   "source": [
    "def multiply_with_unknown(number, multiplier):\n",
    "    result = number * multiplier\n",
    "    return f\"{multiplier} times the number {number} = {result}\"\n",
    "\n",
    "number = 15\n",
    "print(multiply_with_unknown(number, 2))\n",
    "print(multiply_with_unknown(number, 3))\n",
    "print(multiply_with_unknown(number, 4))\n",
    "print(multiply_with_unknown(number, 5))"
   ]
  },
  {
   "cell_type": "code",
   "execution_count": 7,
   "metadata": {},
   "outputs": [
    {
     "name": "stdout",
     "output_type": "stream",
     "text": [
      "Original list of integers:\n",
      "[1, 2, 3, 4, 5, 6, 7, 8, 9, 10]\n",
      "Square every number of the said list:\n",
      "[1, 4, 9, 16, 25, 36, 49, 64, 81, 100]\n",
      "Cube every number of the said list:\n",
      "[1, 8, 27, 64, 125, 216, 343, 512, 729, 1000]\n"
     ]
    }
   ],
   "source": [
    "original_list = [1, 2, 3, 4, 5, 6, 7, 8, 9, 10]\n",
    "\n",
    "square_list = list(map(lambda x: x ** 2, original_list))\n",
    "cube_list = list(map(lambda x: x ** 3, original_list))\n",
    "\n",
    "print(\"Original list of integers:\")\n",
    "print(original_list)\n",
    "print(\"Square every number of the said list:\")\n",
    "print(square_list)\n",
    "print(\"Cube every number of the said list:\")\n",
    "print(cube_list)\n"
   ]
  },
  {
   "cell_type": "code",
   "execution_count": 8,
   "metadata": {},
   "outputs": [
    {
     "name": "stdout",
     "output_type": "stream",
     "text": [
      "True\n"
     ]
    }
   ],
   "source": [
    "starts_with_char = lambda string, char: string.startswith(char)\n",
    "\n",
    "sample_string = \"Hello, world!\"\n",
    "given_char = 'H'\n",
    "\n",
    "result = starts_with_char(sample_string, given_char)\n",
    "\n",
    "print(result)\n"
   ]
  },
  {
   "cell_type": "code",
   "execution_count": 9,
   "metadata": {},
   "outputs": [
    {
     "name": "stdout",
     "output_type": "stream",
     "text": [
      "The double number of 27.2 = 54.4\n"
     ]
    }
   ],
   "source": [
    "def generate_double_function():\n",
    "    def double_number(num):\n",
    "        return num * 2\n",
    "    \n",
    "    return double_number\n",
    "\n",
    "double_func = generate_double_function()\n",
    "\n",
    "specified_number = 27.2\n",
    "doubled_number = double_func(specified_number)\n",
    "\n",
    "print(f\"The double number of {specified_number} = {doubled_number}\")\n"
   ]
  },
  {
   "cell_type": "code",
   "execution_count": 10,
   "metadata": {},
   "outputs": [
    {
     "name": "stdout",
     "output_type": "stream",
     "text": [
      "The power of five for number 3 = 15\n",
      "The power of six for number 3 = 18\n",
      "The power of seven for number 3 = 21\n"
     ]
    }
   ],
   "source": [
    "def generate_power_function(base):\n",
    "    def calculate_power(exponent):\n",
    "        return base * exponent\n",
    "    \n",
    "    return calculate_power\n",
    "\n",
    "power_five = generate_power_function(5)\n",
    "power_six = generate_power_function(6)\n",
    "power_seven = generate_power_function(7)\n",
    "\n",
    "specified_number = 3\n",
    "\n",
    "print(f\"The power of five for number {specified_number} = {power_five(specified_number)}\")\n",
    "print(f\"The power of six for number {specified_number} = {power_six(specified_number)}\")\n",
    "print(f\"The power of seven for number {specified_number} = {power_seven(specified_number)}\")\n"
   ]
  },
  {
   "cell_type": "code",
   "execution_count": 11,
   "metadata": {},
   "outputs": [
    {
     "name": "stdout",
     "output_type": "stream",
     "text": [
      "Is the given 3687 a number: True\n",
      "Is the given Python a number: False\n"
     ]
    }
   ],
   "source": [
    "check_if_number = lambda s: s.isdigit()\n",
    "\n",
    "string1 = \"3687\"\n",
    "string2 = \"Python\"\n",
    "\n",
    "result1 = check_if_number(string1)\n",
    "result2 = check_if_number(string2)\n",
    "\n",
    "print(f\"Is the given {string1} a number: {result1}\")\n",
    "print(f\"Is the given {string2} a number: {result2}\")\n"
   ]
  },
  {
   "cell_type": "code",
   "execution_count": null,
   "metadata": {},
   "outputs": [],
   "source": []
  }
 ],
 "metadata": {
  "kernelspec": {
   "display_name": "base",
   "language": "python",
   "name": "python3"
  },
  "language_info": {
   "codemirror_mode": {
    "name": "ipython",
    "version": 3
   },
   "file_extension": ".py",
   "mimetype": "text/x-python",
   "name": "python",
   "nbconvert_exporter": "python",
   "pygments_lexer": "ipython3",
   "version": "3.12.2"
  }
 },
 "nbformat": 4,
 "nbformat_minor": 2
}
