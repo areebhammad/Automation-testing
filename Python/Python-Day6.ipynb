{
 "cells": [
  {
   "cell_type": "code",
   "execution_count": null,
   "id": "f141f3b3-d798-44d6-a53e-c5654b8e63fd",
   "metadata": {},
   "outputs": [],
   "source": [
    "# In Python, methods can be classified into three types based on how they interact with the class and its instances: \n",
    "# instance methods, static methods, and class methods. Each type serves different purposes and has specific usage scenarios.\n",
    "\n",
    "# 1. Instance Method\n",
    "# Instance methods are the most common type of methods in Python classes. They operate on an instance of the class and have access to \n",
    "# instance-specific data. Instance methods are defined with the self parameter as the first parameter, which refers to the instance calling the method.\n",
    "\n",
    "# Example:"
   ]
  },
  {
   "cell_type": "code",
   "execution_count": 1,
   "id": "6733a1c0-c7ac-4813-ae60-a1a7239bf82e",
   "metadata": {},
   "outputs": [
    {
     "name": "stdout",
     "output_type": "stream",
     "text": [
      "15\n"
     ]
    }
   ],
   "source": [
    "class MyClass:\n",
    "    def __init__(self, x):\n",
    "        self.x = x\n",
    "    \n",
    "    def instance_method(self, y):\n",
    "        return self.x + y\n",
    "\n",
    "# Creating an instance\n",
    "obj = MyClass(10)\n",
    "# Calling an instance method\n",
    "result = obj.instance_method(5)\n",
    "print(result)  # Output: 15\n"
   ]
  },
  {
   "cell_type": "code",
   "execution_count": null,
   "id": "a66c0119-aba5-4f55-ba6a-cc4d71e7d3ca",
   "metadata": {},
   "outputs": [],
   "source": [
    "# Usage: Instance methods are used when you need to access or modify instance-specific data (attributes) of the class."
   ]
  },
  {
   "cell_type": "code",
   "execution_count": null,
   "id": "a7b1ac77-5ade-4b38-8abf-c543852cd9d8",
   "metadata": {},
   "outputs": [],
   "source": [
    "# 2. Static Method\n",
    "# Static methods are defined using the @staticmethod decorator and do not operate on instance-specific data. They behave like regular functions but \n",
    "# are defined within the class for organizational purposes. Static methods do not have access to self (the instance) or cls (the class) within their scope.\n",
    "\n",
    "# Example:"
   ]
  },
  {
   "cell_type": "code",
   "execution_count": 2,
   "id": "e73a7f00-9680-453d-afb8-2613de486cc3",
   "metadata": {},
   "outputs": [
    {
     "name": "stdout",
     "output_type": "stream",
     "text": [
      "7\n"
     ]
    }
   ],
   "source": [
    "class MyClass:\n",
    "    @staticmethod\n",
    "    def static_method(a, b):\n",
    "        return a + b\n",
    "\n",
    "# Calling a static method\n",
    "result = MyClass.static_method(3, 4)\n",
    "print(result)  # Output: 7\n"
   ]
  },
  {
   "cell_type": "code",
   "execution_count": null,
   "id": "211f6d0e-99fb-4d2d-880f-1114fd95bcee",
   "metadata": {},
   "outputs": [],
   "source": [
    "# Usage: Static methods are useful when the method does not need access to instance-specific data or class-level data. \n",
    "# They are often used for utility functions that are logically related to the class."
   ]
  },
  {
   "cell_type": "code",
   "execution_count": null,
   "id": "7677190b-9fce-4df1-9844-8ab2de26b02c",
   "metadata": {},
   "outputs": [],
   "source": [
    "# 3. Class Method\n",
    "# Class methods are defined using the @classmethod decorator and operate on the class itself rather than instances. They receive the class (cls) \n",
    "# as the first parameter instead of the instance (self). Class methods can access or modify class-level data (class variables).\n",
    "\n",
    "# Example:"
   ]
  },
  {
   "cell_type": "code",
   "execution_count": 3,
   "id": "2f5d1476-30e1-40f2-adc9-d0418d0512f2",
   "metadata": {},
   "outputs": [
    {
     "name": "stdout",
     "output_type": "stream",
     "text": [
      "15\n"
     ]
    }
   ],
   "source": [
    "class MyClass:\n",
    "    class_variable = 10\n",
    "    \n",
    "    @classmethod\n",
    "    def class_method(cls, x):\n",
    "        return cls.class_variable + x\n",
    "\n",
    "# Calling a class method\n",
    "result = MyClass.class_method(5)\n",
    "print(result)  # Output: 15\n"
   ]
  },
  {
   "cell_type": "code",
   "execution_count": 4,
   "id": "272f9335-ffc2-4569-b76f-8bb3a905cb0e",
   "metadata": {},
   "outputs": [],
   "source": [
    "# Usage: Class methods are used when you need to work with class-level data or perform operations related to the class itself rather than a specific \n",
    "# instance. They are often used as alternative constructors or for methods that involve class-level state."
   ]
  },
  {
   "cell_type": "code",
   "execution_count": null,
   "id": "b2b7240d-25fa-4b21-bf1c-f20b61ad8363",
   "metadata": {},
   "outputs": [],
   "source": [
    "# Key Differences:\n",
    "# Instance Method: Operates on an instance of the class (self parameter), can access and modify instance-specific data (attributes).\n",
    "\n",
    "# Static Method: Independent of instances (@staticmethod decorator), behaves like a regular function but logically belongs to the class.\n",
    "\n",
    "# Class Method: Operates on the class itself (@classmethod decorator), receives the class (cls parameter), can access and modify \n",
    "# class-level data (class variables).\n",
    "\n",
    "# Choosing Between Them:\n",
    "# Use instance methods when you need to work with or modify instance-specific data.\n",
    "# Use static methods when the method does not depend on instance or class data and is logically related to the class.\n",
    "# Use class methods when you need to work with or modify class-level data or when you want the method to be callable from the class level.\n",
    "# Understanding these distinctions helps in writing clear and efficient Python code, leveraging the appropriate method type based on the context and \n",
    "# requirements of your classes."
   ]
  },
  {
   "cell_type": "code",
   "execution_count": null,
   "id": "94ebeed1-b21f-4e3b-94f0-51822f74dfdd",
   "metadata": {},
   "outputs": [],
   "source": []
  },
  {
   "cell_type": "code",
   "execution_count": 6,
   "id": "0057d4d4-8599-40ad-92ea-a9990aecfeaa",
   "metadata": {},
   "outputs": [
    {
     "name": "stdout",
     "output_type": "stream",
     "text": [
      "IBM\n",
      "IIT\n"
     ]
    }
   ],
   "source": [
    "class Student:\n",
    "    college_name=\"IBM\"\n",
    "    def __init__(self):\n",
    "        Student.college_name=\"IIT\"\n",
    "print(Student.college_name) \n",
    "s=Student()\n",
    "print(s.college_name) "
   ]
  },
  {
   "cell_type": "code",
   "execution_count": 7,
   "id": "2fb3dfb5-18c2-4892-b996-4adb52bef231",
   "metadata": {},
   "outputs": [
    {
     "name": "stdout",
     "output_type": "stream",
     "text": [
      "ITM\n",
      "IIT\n"
     ]
    }
   ],
   "source": [
    "class Student:\n",
    "    college_Name=\"ITM\"\n",
    "    @classmethod\n",
    "    def ml (cls):\n",
    "        Student.college_Name=\"IIT\"\n",
    "s=Student()\n",
    "print (Student.college_Name)\n",
    "Student.ml ()\n",
    "print (Student.college_Name)"
   ]
  },
  {
   "cell_type": "code",
   "execution_count": 8,
   "id": "0c802093-bc0b-4134-9ea4-b81fba805ddc",
   "metadata": {},
   "outputs": [
    {
     "name": "stdout",
     "output_type": "stream",
     "text": [
      "ITM\n",
      "IIT\n"
     ]
    }
   ],
   "source": [
    "# We can write the above code like this\n",
    "\n",
    "class Student:\n",
    "    college_Name=\"ITM\"\n",
    "    @classmethod\n",
    "    def ml (cls):\n",
    "        cls.college_Name=\"IIT\"\n",
    "s=Student()\n",
    "print (Student.college_Name)\n",
    "Student.ml ()\n",
    "print (Student.college_Name)"
   ]
  },
  {
   "cell_type": "code",
   "execution_count": 12,
   "id": "f0e8101e-9646-4584-acfa-164e5db84af4",
   "metadata": {},
   "outputs": [
    {
     "name": "stdout",
     "output_type": "stream",
     "text": [
      "ITM\n",
      "IIT\n"
     ]
    }
   ],
   "source": [
    "class Student:\n",
    "    college_Name=\"ITM\"\n",
    "s=Student()\n",
    "print (Student.college_Name)\n",
    "Student.college_Name=\"IIT\"\n",
    "print (Student.college_Name)"
   ]
  },
  {
   "cell_type": "code",
   "execution_count": 18,
   "id": "87dc5a81-acfa-416a-ae5e-26e073ebaae8",
   "metadata": {},
   "outputs": [
    {
     "name": "stdout",
     "output_type": "stream",
     "text": [
      "value of b=100 & c=200\n",
      "value of a=10\n",
      "welcome to harry\n"
     ]
    }
   ],
   "source": [
    "class Demo: \n",
    "    a=10\n",
    "    def __init__(self,b,c):\n",
    "        self.b=b\n",
    "        self.c=c\n",
    "    def info (self):\n",
    "        print(\"value of b={} & c={}\".format(self.b,self.c))\n",
    "    @classmethod\n",
    "    def sayHello(cls):\n",
    "        print(\"value of a={}\".format(Demo.a))\n",
    "    @staticmethod\n",
    "    def sayHi (name):\n",
    "        print(\"welcome to {}\".format(name))\n",
    "#Instance var b, c\n",
    "#static a\n",
    "#local name\n",
    "#Instance method: info\n",
    "#classmethod sayHello\n",
    "#staticmethod\n",
    "\n",
    "d=Demo (100,200)\n",
    "d.info()\n",
    "Demo.sayHello()\n",
    "Demo.sayHi('harry')"
   ]
  },
  {
   "cell_type": "code",
   "execution_count": 22,
   "id": "dd8f347f-9cee-4daf-b3ac-59a7932a9b82",
   "metadata": {},
   "outputs": [
    {
     "name": "stdout",
     "output_type": "stream",
     "text": [
      "C2:class constructor!!\n"
     ]
    }
   ],
   "source": [
    "class C1:\n",
    "    def __init__(self):\n",
    "        print(\"C1:class constructor!!\")\n",
    "\n",
    "class C2(C1):\n",
    "    # pass\n",
    "    def __init__(self):\n",
    "        print(\"C2:class constructor!!\")\n",
    " \n",
    "obj1=C2()\n"
   ]
  },
  {
   "cell_type": "code",
   "execution_count": 2,
   "id": "dfd33dfa-7ee6-4002-af8c-3b9982651e80",
   "metadata": {},
   "outputs": [
    {
     "name": "stdout",
     "output_type": "stream",
     "text": [
      "Cl:class constructor!!\n",
      "20\n",
      "C2:class constructor!!\n",
      "30\n"
     ]
    }
   ],
   "source": [
    "class C1:\n",
    "    def __init__(self, a):\n",
    "        self.a =a\n",
    "        print(\"Cl:class constructor!!\")\n",
    "\n",
    "class C2 (C1):\n",
    "    def __init__(self, a, b):\n",
    "    #From child class init method if you want to invoke its parent class init method\n",
    "    #using super method we can call parent class init method from child class init method\n",
    "        super().__init__(a)\n",
    "        self.a = a\n",
    "        print(b)\n",
    "        print(\"C2:class constructor!!\")\n",
    "obj2=C2(30, 20)\n",
    "print(obj2.a)"
   ]
  },
  {
   "cell_type": "code",
   "execution_count": 36,
   "id": "464a92f9-ab25-42d6-a06f-099ca3a5e47e",
   "metadata": {},
   "outputs": [
    {
     "name": "stdout",
     "output_type": "stream",
     "text": [
      "C1:class constructor!!\n",
      "C2:class constructor!!\n",
      "10\n",
      "20\n"
     ]
    }
   ],
   "source": [
    "class C1:\n",
    "    def __init__(self,a):\n",
    "        print(\"C1:class constructor!!\")\n",
    "        self.a=a\n",
    " \n",
    "class C2(C1):\n",
    "    def __init__(self,a,b):\n",
    "        #From child class init method if you want to invoke its parent class init method\n",
    "        #using super method we can call parent class init method from child class init method\n",
    "        super().__init__(a)\n",
    "        self.b=b\n",
    "        print(\"C2:class constructor!!\")\n",
    " \n",
    "obj1=C2(10,20)\n",
    "print(obj1.a)\n",
    "print(obj1.b)"
   ]
  },
  {
   "cell_type": "code",
   "execution_count": 39,
   "id": "845142f0-68b8-421d-9036-c9f0815dad00",
   "metadata": {},
   "outputs": [
    {
     "name": "stdout",
     "output_type": "stream",
     "text": [
      "Maruti is a Four Wheeler\n",
      "Tata is also a Four Wheeler\n",
      "Maruti is 14 years old.\n",
      "Tata is 13 years old\n"
     ]
    }
   ],
   "source": [
    "class Car:\n",
    "    Type1=\"Four Wheeler\"\n",
    "    def __init__(self,name,old):\n",
    "        self.name=name\n",
    "        self.old=old\n",
    "\n",
    "Maruti=Car(\"Maruti\",14)\n",
    "Tata=Car(\"Tata\",13)\n",
    "\n",
    "\n",
    "# access the class attributes\n",
    "print(\"Maruti is a {}\".format(Maruti.__class__.Type1))\n",
    "print(\"Tata is also a {}\".format(Tata.__class__.Type1))\n",
    "\n",
    "# access the instance attributes\n",
    "print(\"{} is {} years old.\".format(Maruti.name,Maruti.old))\n",
    "print(\"{} is {} years old\".format( Tata.name, Tata.old))"
   ]
  },
  {
   "cell_type": "code",
   "execution_count": 57,
   "id": "55045551-4382-4a49-9669-ab6020b0269b",
   "metadata": {},
   "outputs": [
    {
     "name": "stdout",
     "output_type": "stream",
     "text": [
      "Four Wheeler\n",
      "<function Car2.show at 0x0000021C750C1120>\n"
     ]
    },
    {
     "data": {
      "text/plain": [
       "<function __main__.Car2.show(self)>"
      ]
     },
     "execution_count": 57,
     "metadata": {},
     "output_type": "execute_result"
    }
   ],
   "source": [
    "class Car2:\n",
    "    Type1=\"Four Wheeler\"\n",
    "    def read(self): \n",
    "        self.name =\"Maruti\"\n",
    "    def show(self): \n",
    "        print(self.name)\n",
    "        print(__class__.Type1)     \n",
    "        \n",
    "print(Car2.Type1)\n",
    "print(Car2.show)\n",
    "Car2.show\n",
    "# print(__class__.Car2)"
   ]
  },
  {
   "cell_type": "code",
   "execution_count": 59,
   "id": "bdbca074-a278-445a-b1c8-63d938abb7ec",
   "metadata": {},
   "outputs": [
    {
     "name": "stdout",
     "output_type": "stream",
     "text": [
      "Maruti is a Four wheeler\n",
      "Tata is also a Four wheeler\n",
      "Maruti is 14 years old\n",
      "Tata is 13 years old\n"
     ]
    }
   ],
   "source": [
    "class Car:\n",
    "# class attribute\n",
    "    Type1 = \"Four wheeler\"\n",
    "    # instance attribute\n",
    "    def __init__(self, name, old):\n",
    "        self.name = name\n",
    "        self.old = old\n",
    "# instantiate the Car class\n",
    "Maruti = Car(\"Maruti\", 14)\n",
    "Tata = Car(\"Tata\", 13)\n",
    "# access the class attributes\n",
    "print(\"Maruti is a {}\".format(Maruti.__class__.Type1))\n",
    "print(\"Tata is also a {}\".format(Tata.__class__.Type1))\n",
    "# access the instance attributes\n",
    "print(\"{} is {} years old\".format( Maruti.name, Maruti.old))\n",
    "print(\"{} is {} years old\".format( Tata.name, Tata.old))"
   ]
  },
  {
   "cell_type": "code",
   "execution_count": 61,
   "id": "c301c14a-7d71-4044-af7c-6ee0dd4fda37",
   "metadata": {},
   "outputs": [
    {
     "name": "stdout",
     "output_type": "stream",
     "text": [
      "Maruti\n",
      "Four wheeler\n"
     ]
    }
   ],
   "source": [
    "class Car2:\n",
    "# class attribute\n",
    "    Type1 = \"Four wheeler\"\n",
    "    def read(self):\n",
    "        self.name=\"Maruti\"\n",
    "    def show(self):\n",
    "        print(self.name)\n",
    "        print(__class__.Type1)\n",
    "# instantiate the Car class\n",
    "obj=Car2()\n",
    "obj.read()\n",
    "obj.show()"
   ]
  },
  {
   "cell_type": "code",
   "execution_count": 62,
   "id": "3612ff47-bbfa-45c6-8fb8-4e22f8ca3422",
   "metadata": {},
   "outputs": [
    {
     "name": "stdout",
     "output_type": "stream",
     "text": [
      "101\n",
      "Scott\n"
     ]
    }
   ],
   "source": [
    "class Employee:\n",
    "    def __init__(self,id,name):\n",
    "        self.id=id\n",
    "        self.name=name\n",
    "    def display(self):\n",
    "        print(self.id)\n",
    "        print(self.name)\n",
    "e=Employee(101,'Scott')\n",
    "e.display()"
   ]
  },
  {
   "cell_type": "code",
   "execution_count": 64,
   "id": "754d41d0-252a-4a5c-bf69-2aea73f3bbd1",
   "metadata": {},
   "outputs": [
    {
     "name": "stdout",
     "output_type": "stream",
     "text": [
      " Class Test Constructor exeuction...\n",
      " Class Test Constructor exeuction...\n",
      " Class Test Constructor exeuction...\n"
     ]
    }
   ],
   "source": [
    "class Test:\n",
    "    def __init__(self):\n",
    "        print(\" Class Test Constructor exeuction...\")\n",
    "# instantiate the Car class\n",
    "t1=Test()\n",
    "t2=Test()\n",
    "t3=Test()"
   ]
  },
  {
   "cell_type": "code",
   "execution_count": 65,
   "id": "18a5d26c-bbb0-4464-b277-b254252d0d47",
   "metadata": {},
   "outputs": [
    {
     "name": "stdout",
     "output_type": "stream",
     "text": [
      "Name:  Mark\n",
      "Age:  45\n",
      "Sex:  Male\n",
      "Weight:  30\n",
      "Height:  4.5\n",
      "Can eat only Non-Veg Food\n",
      "===================================\n",
      "Name:  Sachin\n",
      "Age:  55\n",
      "Sex:  Male\n",
      "Weight:  70\n",
      "Height:  5.5\n",
      "Can eat only Veg Food\n"
     ]
    }
   ],
   "source": [
    "class Person:\n",
    "    def __init__(self,name,age,sex,weight,height):\n",
    "        self.name=name\n",
    "        self.age=age\n",
    "        self.sex=sex\n",
    "        self.weight=weight\n",
    "        self.height=height\n",
    "    def eating(self,msg):\n",
    "        print(msg)\n",
    "    def displayPersonInfo(self):\n",
    "        print(\"Name: \",self.name)\n",
    "        print(\"Age: \",self.age)\n",
    "        print(\"Sex: \",self.sex)\n",
    "        print(\"Weight: \",self.weight)\n",
    "        print(\"Height: \",self.height)\n",
    "mark=Person(\"Mark\",45,\"Male\",30,4.5)\n",
    "mark.displayPersonInfo()\n",
    "mark.eating(\"Can eat only Non-Veg Food\")\n",
    "print(\"===================================\")\n",
    "sachin=Person(\"Sachin\",55,\"Male\",70,5.5)\n",
    "sachin.displayPersonInfo()\n",
    "sachin.eating(\"Can eat only Veg Food\")"
   ]
  },
  {
   "cell_type": "code",
   "execution_count": 66,
   "id": "222974e4-2e4f-48f5-9c0f-df4d6c6153d7",
   "metadata": {},
   "outputs": [
    {
     "name": "stdout",
     "output_type": "stream",
     "text": [
      "a=  10\n",
      "b=  20\n",
      "a=  30\n",
      "b=  40\n"
     ]
    }
   ],
   "source": [
    "class Test:\n",
    "    def __init__(self,n1,n2):\n",
    "        self.a=n1\n",
    "        self.b=n2\n",
    "    def display(self):\n",
    "        print(\"a= \",self.a)\n",
    "        print(\"b= \",self.b)\n",
    "t1=Test(10,20)\n",
    "t1.display()\n",
    "t2=Test(30,40)\n",
    "t2.display()"
   ]
  },
  {
   "cell_type": "code",
   "execution_count": 67,
   "id": "bb8189b2-e64a-4d76-b52a-c7e54b2e0646",
   "metadata": {},
   "outputs": [
    {
     "name": "stdout",
     "output_type": "stream",
     "text": [
      "Third constructor\n"
     ]
    }
   ],
   "source": [
    "class Test:\n",
    "    def __init__(self):\n",
    "        print(\"First constructor\")\n",
    "    def __init__(self):\n",
    "        print(\"Second constructor\")\n",
    "    def __init__(self):\n",
    "        print(\"Third constructor\")\n",
    "t1=Test()"
   ]
  },
  {
   "cell_type": "code",
   "execution_count": 69,
   "id": "721d7cbf-6d96-4ed7-9ca3-fb7822f1202c",
   "metadata": {},
   "outputs": [
    {
     "name": "stdout",
     "output_type": "stream",
     "text": [
      "Second constructor\n"
     ]
    }
   ],
   "source": [
    "class Test:\n",
    "    def __init__(self):\n",
    "        print(\"First constructor\")\n",
    "    def __init__(self,a):\n",
    "        print(\"Second constructor\")\n",
    "        self.a=a\n",
    "# creating object of the class\n",
    "t1=Test(10)"
   ]
  },
  {
   "cell_type": "code",
   "execution_count": 70,
   "id": "c2123a42-efe5-4318-9ffa-15968cb7663f",
   "metadata": {},
   "outputs": [
    {
     "name": "stdout",
     "output_type": "stream",
     "text": [
      "constructor calling...\n",
      "a=  10 b= 20\n",
      "constructor calling...\n",
      "a=  40 b= 20\n",
      "constructor calling...\n",
      "a=  50 b= 60\n"
     ]
    }
   ],
   "source": [
    "class Test:\n",
    "    def __init__(self,a=10,b=20):\n",
    "        print(\"constructor calling...\")\n",
    "        self.a=a\n",
    "        self.b=b\n",
    "        print(\"a= \",self.a,\"b=\",self.b)\n",
    "# creating object of the class\n",
    "t1=Test()\n",
    "t2=Test(40)\n",
    "t3=Test(50,60)"
   ]
  },
  {
   "cell_type": "code",
   "execution_count": 71,
   "id": "3da15dbe-3e5d-4160-8642-97241bb18e39",
   "metadata": {},
   "outputs": [
    {
     "name": "stdout",
     "output_type": "stream",
     "text": [
      "{'name': 'Scott', 'rollno': 101, 'age': 20}\n"
     ]
    }
   ],
   "source": [
    "class Student:\n",
    "    def __init__(self):\n",
    "        self.name=\"Scott\"\n",
    "        self.rollno=101\n",
    "        self.age=20\n",
    "s1=Student()\n",
    "print(s1.__dict__)"
   ]
  },
  {
   "cell_type": "code",
   "execution_count": 72,
   "id": "d257dd0e-03d0-4fc8-9763-dab39bca9366",
   "metadata": {},
   "outputs": [
    {
     "name": "stdout",
     "output_type": "stream",
     "text": [
      "{'a': 10, 'b': 20}\n",
      "{'a': 10, 'b': 20, 'c': 30}\n"
     ]
    }
   ],
   "source": [
    "class Demo:\n",
    "    def __init__(self):\n",
    "        self.a=10\n",
    "        self.b=20\n",
    "    def f1(self):\n",
    "        self.c=30\n",
    "# instantiate the Demo class\n",
    "d1=Demo()\n",
    "print(d1.__dict__)\n",
    "d1.f1()\n",
    "print(d1.__dict__)"
   ]
  },
  {
   "cell_type": "code",
   "execution_count": 73,
   "id": "3fb4a1fc-bfec-4ac9-a461-211167a38e42",
   "metadata": {},
   "outputs": [
    {
     "name": "stdout",
     "output_type": "stream",
     "text": [
      "{'a': 10, 'b': 20}\n",
      "{'a': 10, 'b': 20, 'c': 30}\n",
      "{'a': 10, 'b': 20, 'c': 30, 'd': 40}\n"
     ]
    }
   ],
   "source": [
    "class Demo:\n",
    "    def __init__(self):\n",
    "        self.a=10\n",
    "        self.b=20\n",
    "    def f1(self):\n",
    "        self.c=30\n",
    "# instantiate the Demo class\n",
    "d1=Demo()\n",
    "print(d1.__dict__)\n",
    "d1.f1()\n",
    "print(d1.__dict__)\n",
    "d1.d=40\n",
    "print(d1.__dict__)"
   ]
  },
  {
   "cell_type": "code",
   "execution_count": 76,
   "id": "6d09165c-76c6-48b1-8409-a485c72e1738",
   "metadata": {},
   "outputs": [
    {
     "name": "stdout",
     "output_type": "stream",
     "text": [
      "a=  10\n",
      "b=  20\n",
      "=============================\n",
      "a=  10\n",
      "b=  20\n"
     ]
    }
   ],
   "source": [
    "class Demo:\n",
    "    def __init__(self):\n",
    "        self.a=10\n",
    "        self.b=20\n",
    "    # With-in Class We can access instance variable by Using self variable\n",
    "    def info(self):\n",
    "        print(\"a= \",self.a)\n",
    "        print(\"b= \",self.b)\n",
    "# instantiate the Demo class\n",
    "d1=Demo()\n",
    "d1.info()\n",
    "print(\"=============================\")\n",
    "#Outside the class instance variable, we can access by Using reference variable\n",
    "print(\"a= \",d1.a)\n",
    "print(\"b= \",d1.b)\n"
   ]
  },
  {
   "cell_type": "code",
   "execution_count": 79,
   "id": "9a5e7854-48a3-446e-9f4b-cc7da6fac2ab",
   "metadata": {},
   "outputs": [
    {
     "name": "stdout",
     "output_type": "stream",
     "text": [
      "{'a': 10, 'b': 20, 'c': 30, 'd': 40, 'e': 50}\n",
      "{'b': 20, 'c': 30, 'd': 40, 'e': 50}\n"
     ]
    }
   ],
   "source": [
    "class Demo:\n",
    "    def __init__(self):\n",
    "        self.a=10\n",
    "        self.b=20\n",
    "        self.c=30\n",
    "        self.d=40\n",
    "        self.e=50\n",
    "    def removeA(self):\n",
    "        del self.a\n",
    "# instantiate the Demo class\n",
    "d1=Demo()\n",
    "print(d1.__dict__)\n",
    "d1.removeA()\n",
    "print(d1.__dict__)\n",
    "\n"
   ]
  },
  {
   "cell_type": "code",
   "execution_count": 81,
   "id": "b378e7ad-282b-4ddb-90e7-21c19849469a",
   "metadata": {},
   "outputs": [
    {
     "name": "stdout",
     "output_type": "stream",
     "text": [
      "{'a': 10, 'b': 20, 'c': 30, 'd': 40, 'e': 50}\n",
      "{'b': 20, 'c': 30, 'd': 40, 'e': 50}\n"
     ]
    }
   ],
   "source": [
    "class Demo:\n",
    "    def __init__(self):\n",
    "        self.a=10\n",
    "        self.b=20\n",
    "        self.c=30\n",
    "        self.d=40\n",
    "        self.e=50\n",
    "# instantiate the Demo class\n",
    "d1=Demo()\n",
    "print(d1.__dict__)\n",
    "del d1.a\n",
    "print(d1.__dict__)"
   ]
  },
  {
   "cell_type": "code",
   "execution_count": 84,
   "id": "aadb1b1c-be87-46bf-9589-c0687a84956b",
   "metadata": {},
   "outputs": [
    {
     "name": "stdout",
     "output_type": "stream",
     "text": [
      "{'a': 10, 'b': 20, 'c': 30, 'd': 40, 'e': 50}\n",
      "{'a': 10, 'b': 20, 'c': 30, 'd': 40, 'e': 50}\n",
      "==================================================\n",
      "{'b': 20, 'c': 30, 'd': 40, 'e': 50}\n",
      "{'a': 10, 'b': 20, 'c': 30, 'd': 40, 'e': 50}\n"
     ]
    }
   ],
   "source": [
    "# The instance variables which are deleted from one object, will not be deleted\n",
    "# from other objects because for each object a separate copy will be\n",
    "# maintained.\n",
    "class Demo:\n",
    "    def __init__(self):\n",
    "        self.a=10\n",
    "        self.b=20\n",
    "        self.c=30\n",
    "        self.d=40\n",
    "        self.e=50\n",
    "# instantiate the Demo class\n",
    "d1=Demo()\n",
    "d2=Demo()\n",
    "print(d1.__dict__)\n",
    "print(d2.__dict__)\n",
    "print(\"=\"*50)\n",
    "del d1.a\n",
    "print(d1.__dict__)\n",
    "print(d2.__dict__)"
   ]
  },
  {
   "cell_type": "code",
   "execution_count": 85,
   "id": "2ee1555a-1cb6-4bda-bb13-5b7afba0cd39",
   "metadata": {},
   "outputs": [
    {
     "name": "stdout",
     "output_type": "stream",
     "text": [
      "Before changing d1 =>  10 20\n",
      "For d2=>  10 20\n",
      "===================================\n",
      "After changing d1 =>  30 40\n",
      "For d2=>  10 20\n"
     ]
    }
   ],
   "source": [
    "class Demo:\n",
    "    def __init__(self):\n",
    "        self.a=10\n",
    "        self.b=20\n",
    "# instantiate the Demo class\n",
    "d1=Demo()\n",
    "print(\"Before changing d1 => \",d1.a,d1.b)\n",
    "d1.a=30\n",
    "d1.b=40\n",
    "d2=Demo()\n",
    "print(\"For d2=> \",d2.a,d2.b)\n",
    "print(\"===================================\")\n",
    "print(\"After changing d1 => \",d1.a,d1.b)\n",
    "print(\"For d2=> \",d2.a,d2.b)"
   ]
  },
  {
   "cell_type": "code",
   "execution_count": 91,
   "id": "c20ae7c5-d0ca-4c1c-a715-cff073118376",
   "metadata": {},
   "outputs": [
    {
     "name": "stdout",
     "output_type": "stream",
     "text": [
      "ITM\n",
      "ITM\n"
     ]
    }
   ],
   "source": [
    "class Student:\n",
    "    college_Name=\"ITM\"\n",
    "    def __init__(self):\n",
    "        #acessing static variable using self inside constructor\n",
    "        print(self.college_Name)\n",
    "        #acessing static variable using ClassName inside constructor\n",
    "        print(Student.college_Name)\n",
    "# instantiate the Student class\n",
    "s1=Student()"
   ]
  },
  {
   "cell_type": "code",
   "execution_count": 92,
   "id": "f45c38df-4e7d-495c-9bd2-2442d6b95cc6",
   "metadata": {},
   "outputs": [
    {
     "name": "stdout",
     "output_type": "stream",
     "text": [
      "ITM\n",
      "ITM\n",
      "ITM\n",
      "ITM\n"
     ]
    }
   ],
   "source": [
    "class Student:\n",
    "    college_Name=\"ITM\"\n",
    "    def __init__(self):\n",
    "        #acessing static variable using self inside constructor\n",
    "        print(self.college_Name)\n",
    "        #acessing static variable using ClassName inside constructor\n",
    "        print(Student.college_Name)\n",
    "# instantiate the Student class\n",
    "s1=Student()\n",
    "# We can access static variable inside instance method: by using either\n",
    "# self or classname\n",
    "class Student:\n",
    "    college_Name=\"ITM\"\n",
    "    def m1(self):\n",
    "        #acessing static variable using self inside Instance Method\n",
    "        print(self.college_Name)\n",
    "        #acessing static variable using ClassName inside Instance Method\n",
    "        print(Student.college_Name)\n",
    "# instantiate the Student class\n",
    "s1=Student()\n",
    "s1.m1()"
   ]
  },
  {
   "cell_type": "code",
   "execution_count": 93,
   "id": "f1280a5d-5529-4c8b-bb6d-148d7df96332",
   "metadata": {},
   "outputs": [
    {
     "name": "stdout",
     "output_type": "stream",
     "text": [
      "ITM\n",
      "ITM\n"
     ]
    }
   ],
   "source": [
    "class Student:\n",
    "    college_Name=\"ITM\"\n",
    "    @classmethod\n",
    "    def m1(cls):\n",
    "        #acessing static variable using cls inside class Method\n",
    "        print(cls.college_Name)\n",
    "        #acessing static variable using ClassName inside class Method\n",
    "        print(Student.college_Name)\n",
    "# instantiate the Student class\n",
    "s1=Student()\n",
    "s1.m1()"
   ]
  },
  {
   "cell_type": "code",
   "execution_count": 94,
   "id": "f1adbc50-ae63-451c-92a0-276b73777a68",
   "metadata": {},
   "outputs": [
    {
     "name": "stdout",
     "output_type": "stream",
     "text": [
      "ITM\n"
     ]
    }
   ],
   "source": [
    " # We can access static variable inside static method: by using classname\n",
    "class Student:\n",
    "    college_Name=\"ITM\"\n",
    "    @staticmethod\n",
    "    def m1():\n",
    "        #acessing static variable using ClassName inside static Method\n",
    "        print(Student.college_Name)\n",
    "# instantiate the Student class\n",
    "s1=Student()\n",
    "s1.m1()"
   ]
  },
  {
   "cell_type": "code",
   "execution_count": 95,
   "id": "52845207-0c9b-4700-9bd9-d60b6d9acbdc",
   "metadata": {},
   "outputs": [
    {
     "name": "stdout",
     "output_type": "stream",
     "text": [
      "ITM\n",
      "ITM\n"
     ]
    }
   ],
   "source": [
    "class Student:\n",
    "    college_Name=\"ITM\"\n",
    "# instantiate the Student class\n",
    "s1=Student()\n",
    "#acessing static variable using ClassName Outside the class\n",
    "print(Student.college_Name)\n",
    "#acessing static variable using object reference Outside the class\n",
    "print(s1.college_Name)"
   ]
  },
  {
   "cell_type": "code",
   "execution_count": 96,
   "id": "54922a6a-43d8-48eb-834c-db5445124736",
   "metadata": {},
   "outputs": [
    {
     "name": "stdout",
     "output_type": "stream",
     "text": [
      "IIT\n",
      "IIT\n"
     ]
    }
   ],
   "source": [
    "class Student:\n",
    "    college_Name=\"ITM\"\n",
    "    def __init__(self):\n",
    "        Student.college_Name=\"IIT\"\n",
    "# instantiate the Student class\n",
    "s1=Student()\n",
    "#acessing static variable using ClassName Outside the class\n",
    "print(Student.college_Name)#The Output:IIT\n",
    "#acessing static variable using object reference Outside the class\n",
    "print(s1.college_Name)#The Output:IIT"
   ]
  },
  {
   "cell_type": "code",
   "execution_count": 97,
   "id": "82ac07dc-8061-4e90-bc18-ddc7f5269da0",
   "metadata": {},
   "outputs": [
    {
     "name": "stdout",
     "output_type": "stream",
     "text": [
      "ITM\n",
      "ITM\n",
      "After modifying static variable through static Method\n",
      "IIT\n",
      "IIT\n"
     ]
    }
   ],
   "source": [
    "class Student:\n",
    "    college_Name=\"ITM\"\n",
    "    @staticmethod\n",
    "    def m1():\n",
    "        Student.college_Name=\"IIT\"\n",
    "# instantiate the Student class\n",
    "s1=Student()\n",
    "#acessing static variable using ClassName Outside the class\n",
    "print(Student.college_Name)#the output:ITM\n",
    "#acessing static variable using object reference Outside the class\n",
    "print(s1.college_Name)#the output:ITM\n",
    "s1.m1()\n",
    "print(\"After modifying static variable through static Method\")\n",
    "#acessing static variable using ClassName Outside the class\n",
    "print(Student.college_Name)#the output:IIT\n",
    "#acessing static variable using object reference Outside the class\n",
    "print(s1.college_Name)#the output:IIT"
   ]
  },
  {
   "cell_type": "code",
   "execution_count": 99,
   "id": "1f21e280-740c-4797-bfa1-06ce3a780c0b",
   "metadata": {},
   "outputs": [
    {
     "name": "stdout",
     "output_type": "stream",
     "text": [
      "ITM\n",
      "ITM\n",
      "After modifying static variable through class Method\n",
      "IIT\n",
      "IIT\n"
     ]
    }
   ],
   "source": [
    "# We can modify static variable inside classMethod using cls variable\n",
    "class Student:\n",
    "    college_Name=\"ITM\"\n",
    "    @classmethod\n",
    "    def m1(cls):\n",
    "        cls.college_Name=\"IIT\"\n",
    "# instantiate the Student class\n",
    "s1=Student()\n",
    "#acessing static variable using ClassName Outside the class\n",
    "print(Student.college_Name) #the output:ITM\n",
    "#acessing static variable using object reference Outside the class\n",
    "print(s1.college_Name) #the output:ITM\n",
    "s1.m1()\n",
    "print(\"After modifying static variable through class Method\")\n",
    "#acessing static variable using ClassName Outside the class\n",
    "print(Student.college_Name) #the output:IIT\n",
    "#acessing static variable using object reference Outside the class\n",
    "print(s1.college_Name) #the output:IIT"
   ]
  },
  {
   "cell_type": "code",
   "execution_count": 100,
   "id": "8a19597f-fb15-4779-bf4b-804c6d514da0",
   "metadata": {},
   "outputs": [
    {
     "name": "stdout",
     "output_type": "stream",
     "text": [
      "ITM\n",
      "ITM\n",
      "After modifying static variable outside class\n",
      "IIT\n",
      "IIT\n"
     ]
    }
   ],
   "source": [
    "class Student:\n",
    "    college_Name=\"ITM\"\n",
    "# instantiate the Student class\n",
    "s1=Student()\n",
    "#acessing static variable using ClassName Outside the class\n",
    "print(Student.college_Name)\n",
    "#acessing static variable using object reference Outside the class\n",
    "print(s1.college_Name)\n",
    "#modifying the static variable outside class\n",
    "Student.college_Name=\"IIT\"\n",
    "print(\"After modifying static variable outside class\")\n",
    "#acessing static variable using ClassName Outside the class\n",
    "print(Student.college_Name)\n",
    "#acessing static variable using object reference Outside the class\n",
    "print(s1.college_Name)"
   ]
  },
  {
   "cell_type": "code",
   "execution_count": 102,
   "id": "91d93811-adbf-4312-b9ab-5436665c83ab",
   "metadata": {},
   "outputs": [
    {
     "name": "stdout",
     "output_type": "stream",
     "text": [
      "ITM\n",
      "IIT\n"
     ]
    }
   ],
   "source": [
    "class Student:\n",
    "    college_Name=\"ITM\"\n",
    "    def m1(self):\n",
    "        self.college_Name=\"IIT\"\n",
    "# instantiate the Student class\n",
    "s1=Student()\n",
    "s1.m1()\n",
    "#acessing static variable using ClassName Outside the class\n",
    "print(Student.college_Name)\n",
    "#acessing instance variable using object reference Outside the class\n",
    "print(s1.college_Name)"
   ]
  },
  {
   "cell_type": "code",
   "execution_count": 103,
   "id": "af5a5ef0-5899-4367-abf3-9dbb43e4ab02",
   "metadata": {},
   "outputs": [
    {
     "name": "stdout",
     "output_type": "stream",
     "text": [
      "ProductId: 101\n",
      "ProductName: Ipad\n",
      "ProductPrice: 10000\n",
      "ProductBrand: Apple\n",
      "============================\n",
      "ProductId: 102\n",
      "ProductName: Redmi4A\n",
      "ProductPrice: 10000\n",
      "ProductBrand: Redmi\n"
     ]
    }
   ],
   "source": [
    "class Product:\n",
    "    productId=100\n",
    "    def __init__(self,name,price,brand):\n",
    "        self.name=name\n",
    "        self.price=price\n",
    "        self.brand=brand\n",
    "        Product.productId +=1\n",
    "    def displayPrdouctDetails(self):\n",
    "        print(\"ProductId:\",Product.productId)\n",
    "        print(\"ProductName:\",self.name)\n",
    "        print(\"ProductPrice:\",self.price)\n",
    "        print(\"ProductBrand:\",self.brand)\n",
    "prod1=Product('Ipad',10000,'Apple')\n",
    "prod1.displayPrdouctDetails()\n",
    "print(\"============================\")\n",
    "prod2=Product('Redmi4A',10000,'Redmi')\n",
    "prod2.displayPrdouctDetails()"
   ]
  },
  {
   "cell_type": "code",
   "execution_count": 104,
   "id": "76a698c4-a98d-4a0d-a8cf-16a35baad3de",
   "metadata": {},
   "outputs": [
    {
     "name": "stdout",
     "output_type": "stream",
     "text": [
      "Addition=  30\n",
      "Substraction=  -10\n",
      "Multiplication=  200\n",
      "Division=  0.5\n"
     ]
    }
   ],
   "source": [
    "class Calculator:\n",
    "    def __init__(self, a, b):\n",
    "        self.a = a\n",
    "        self.b = b\n",
    "    def add(self):\n",
    "        return (self.a + self.b)\n",
    "    def sub(self):\n",
    "        return (self.a - self.b)\n",
    "    def mul(self):\n",
    "        return (self.a * self.b)\n",
    "    def div(self):\n",
    "        return (self.a /self.b)\n",
    "c1 = Calculator(10, 20)\n",
    "print(\"Addition= \",c1.add())\n",
    "print(\"Substraction= \",c1.sub())\n",
    "print(\"Multiplication= \",c1.mul())\n",
    "print(\"Division= \",c1.div())"
   ]
  },
  {
   "cell_type": "code",
   "execution_count": 105,
   "id": "1c37cdd0-6d1b-4dd5-a11f-d620f5570f37",
   "metadata": {},
   "outputs": [
    {
     "name": "stdout",
     "output_type": "stream",
     "text": [
      "Name=  john\n",
      "Age=  101\n"
     ]
    }
   ],
   "source": [
    "class Person:\n",
    "    def setName(self,name):\n",
    "        self.name=name\n",
    "    def getName(self):\n",
    "        return self.name\n",
    "    def setAge(self,age):\n",
    "        self.age=age\n",
    "    def getAge(self):\n",
    "        return self.age\n",
    "#create an Object\n",
    "p1=Person()\n",
    "p1.setName('john')\n",
    "p1.setAge(101)\n",
    "print(\"Name= \",p1.getName())\n",
    "print(\"Age= \",p1.getAge())"
   ]
  },
  {
   "cell_type": "code",
   "execution_count": 106,
   "id": "3f6e90e0-a853-4d70-8894-a2f257237afc",
   "metadata": {},
   "outputs": [
    {
     "name": "stdout",
     "output_type": "stream",
     "text": [
      "Maruti runs with 4 wheels...\n",
      "Ford runs with 4 wheels...\n"
     ]
    }
   ],
   "source": [
    "class Car:\n",
    "    wheels=4\n",
    "    @classmethod\n",
    "    def run(cls,name):\n",
    "        print('{} runs with {} wheels...'.format(name,cls.wheels))\n",
    "Car.run('Maruti')\n",
    "Car.run('Ford')"
   ]
  },
  {
   "cell_type": "code",
   "execution_count": 108,
   "id": "40c6962c-bf4a-45a8-8358-bc8e6ed46958",
   "metadata": {},
   "outputs": [
    {
     "name": "stdout",
     "output_type": "stream",
     "text": [
      "The number of objects created for Demo class: 2\n",
      "The number of objects created for Demo class: 5\n"
     ]
    }
   ],
   "source": [
    "class Demo:\n",
    "    count=0\n",
    "    def __init__(self):\n",
    "        Demo.count=Demo.count+1\n",
    "    @classmethod\n",
    "    def noOfObjects(cls):\n",
    "        print('The number of objects created for Demo class:',cls.count)\n",
    "#create an object\n",
    "d1=Demo()\n",
    "d2=Demo()\n",
    "Demo.noOfObjects()\n",
    "d3=Demo()\n",
    "d4=Demo()\n",
    "d5=Demo()\n",
    "Demo.noOfObjects()"
   ]
  },
  {
   "cell_type": "code",
   "execution_count": 3,
   "id": "06c33538-09aa-4de4-ac66-0129f072f91f",
   "metadata": {},
   "outputs": [
    {
     "name": "stdout",
     "output_type": "stream",
     "text": [
      "120\n"
     ]
    }
   ],
   "source": [
    "class Math:\n",
    "    @staticmethod\n",
    "    def factorial(number):\n",
    "        if number == 0:\n",
    "            return 1\n",
    "        else:\n",
    "            return number * Math.factorial(number - 1)\n",
    "\n",
    "factorial = Math.factorial(5)\n",
    "print(factorial)"
   ]
  },
  {
   "cell_type": "code",
   "execution_count": 4,
   "id": "6d7c0024-e36a-41cf-9ef0-700cf33acb1e",
   "metadata": {},
   "outputs": [],
   "source": [
    "# 1. **Objects**:\n",
    "#     - **Definition**: Objects are instances of classes that have state, behavior, and identity.\n",
    "#     - **State**: The data held by the object (attributes).\n",
    "#     - **Behavior**: The actions or methods the object can perform.\n",
    "#     - **Identity**: A unique identifier for the object.\n",
    "\n",
    "# 2. **Classes**:\n",
    "#     - **Definition**: Blueprints for creating objects that define a set of attributes and methods.\n",
    "#     - **Syntax**: Classes are defined using the `class` keyword followed by the class name and a colon.\n",
    "#     - **Example**:\n",
    "#       ```python\n",
    "#       class Car:\n",
    "#           pass\n",
    "#       ```\n",
    "#     - **Class Attributes and Methods**:\n",
    "#         - **Class Attributes**: Shared across all instances of the class.\n",
    "#         - **Instance Attributes**: Specific to each instance, defined within the `__init__` method.\n",
    "\n",
    "# 3. **Defining Methods**:\n",
    "#     - **Instance Methods**: Functions that operate on instances of the class and typically have `self` as their first parameter.\n",
    "#     - **Class Methods**: Methods that operate on the class itself, typically marked with `@classmethod`.\n",
    "#     - **Static Methods**: Functions within a class that do not operate on instances or class, marked with `@staticmethod`.\n",
    "\n",
    "# 4. **The `self` Keyword**:\n",
    "#     - Refers to the instance of the class and is used to access instance variables and methods.\n",
    "\n",
    "# 5. **Constructors**:\n",
    "#     - Special methods (`__init__`) that are called when an object is instantiated to initialize the object's attributes.\n",
    "#     - **Default Constructor**: A constructor with no parameters.\n",
    "#     - **Parameterized Constructor**: A constructor that takes arguments to initialize the attributes.\n",
    "\n",
    "# 6. **Variable Types in Classes**:\n",
    "#     - **Instance Variables**: Variables specific to an instance of a class.\n",
    "#     - **Class Variables**: Variables shared across all instances of a class.\n",
    "#     - **Local Variables**: Variables defined within a method and accessible only within that method.\n",
    "\n",
    "# 7. **Accessing and Modifying Attributes**:\n",
    "#     - **Accessing**: Using the dot notation (`object.attribute`).\n",
    "#     - **Modifying**: Directly changing the value using dot notation or through methods.\n",
    "\n",
    "# 8. **Deleting Attributes**:\n",
    "#     - **Deleting Inside Class**: Using `del self.attribute`.\n",
    "#     - **Deleting Outside Class**: Using `del object.attribute`.\n",
    "\n",
    "# 9. **Method and Constructor Differences**:\n",
    "#     - **Methods**: Can be named arbitrarily, have a return type, and need to be called explicitly.\n",
    "#     - **Constructors**: Always named `__init__`, do not have a return type, and are called automatically when an object is created.\n",
    "\n",
    "# 10. **No Constructor Overloading**:\n",
    "#     - Python does not support multiple constructors; defining multiple `__init__` methods will only consider the last one defined."
   ]
  },
  {
   "cell_type": "code",
   "execution_count": 117,
   "id": "e30cdd7f-f26b-40f7-8a83-a018c41f3c59",
   "metadata": {},
   "outputs": [
    {
     "name": "stdout",
     "output_type": "stream",
     "text": [
      "Toyota\n",
      "3\n"
     ]
    }
   ],
   "source": [
    "### Summary of Key Examples\n",
    "\n",
    "# **Creating a Class and an Object**:\n",
    "class Car:\n",
    "    def __init__(self, name, age):\n",
    "        self.name = name\n",
    "        self.age = age\n",
    "\n",
    "# Creating instances of the Car class\n",
    "car1 = Car(\"Toyota\", 5)\n",
    "car2 = Car(\"Honda\", 3)\n",
    "\n",
    "print(car1.name)  # Output: Toyota\n",
    "print(car2.age)   # Output: 3"
   ]
  },
  {
   "cell_type": "code",
   "execution_count": 118,
   "id": "a607825c-b501-4606-b402-ae1d4fc953c8",
   "metadata": {},
   "outputs": [
    {
     "name": "stdout",
     "output_type": "stream",
     "text": [
      "Maruti is 14 years old\n"
     ]
    }
   ],
   "source": [
    "# Defining Methods in a Class:\n",
    "\n",
    "class Car:\n",
    "    type = \"Four wheeler\"  # Class attribute\n",
    "\n",
    "    def __init__(self, name, age):\n",
    "        self.name = name    # Instance attribute\n",
    "        self.age = age      # Instance attribute\n",
    "\n",
    "    def display_info(self):\n",
    "        print(f\"{self.name} is {self.age} years old\")\n",
    "\n",
    "# Creating an instance and calling the method\n",
    "car = Car(\"Maruti\", 14)\n",
    "car.display_info()  # Output: Maruti is 14 years old"
   ]
  },
  {
   "cell_type": "code",
   "execution_count": 119,
   "id": "d33e46f1-71c5-4e83-ad81-1ac80cfd562c",
   "metadata": {},
   "outputs": [
    {
     "name": "stdout",
     "output_type": "stream",
     "text": [
      "101\n",
      "Scott\n"
     ]
    }
   ],
   "source": [
    "# **Using `self` in Methods**:\n",
    "class Employee:\n",
    "    def __init__(self, id, name):\n",
    "        self.id = id\n",
    "        self.name = name\n",
    "\n",
    "    def display(self):\n",
    "        print(self.id)\n",
    "        print(self.name)\n",
    "\n",
    "emp = Employee(101, \"Scott\")\n",
    "emp.display()\n"
   ]
  },
  {
   "cell_type": "code",
   "execution_count": 129,
   "id": "12ef1e8b-612f-48da-bb41-27f543fbd47b",
   "metadata": {},
   "outputs": [
    {
     "name": "stdout",
     "output_type": "stream",
     "text": [
      "Rupal is Areeb's crush\n"
     ]
    }
   ],
   "source": [
    "# **Defining Methods in a Class**:\n",
    "class Car:\n",
    "    type = \"Four wheeler\"  # Class attribute\n",
    "\n",
    "    def __init__(self, name, crush):\n",
    "        self.name = name    # Instance attribute\n",
    "        self.crush = crush      # Instance attribute\n",
    "\n",
    "    def display_info(self):\n",
    "        print(f\"{self.name} is {self.crush}'s crush\")\n",
    "\n",
    "# Creating an instance and calling the method\n",
    "car = Car(\"Rupal\", \"Areeb\")\n",
    "car.display_info()  # Output: Maruti is 14 years o"
   ]
  },
  {
   "cell_type": "code",
   "execution_count": 121,
   "id": "4bcac210-3ebc-42cd-8a4c-cd071ec6dafe",
   "metadata": {},
   "outputs": [
    {
     "name": "stdout",
     "output_type": "stream",
     "text": [
      "101\n",
      "Scott\n"
     ]
    }
   ],
   "source": [
    "# **Using `self` in Methods**:\n",
    "class Employee:\n",
    "    def __init__(self, id, name):\n",
    "        self.id = id\n",
    "        self.name = name\n",
    "\n",
    "    def display(self):\n",
    "        print(self.id)\n",
    "        print(self.name)\n",
    "\n",
    "emp = Employee(101, \"Scott\")\n",
    "emp.display()"
   ]
  },
  {
   "cell_type": "code",
   "execution_count": 122,
   "id": "970355bb-66c8-492f-987a-87c9c1b8ef77",
   "metadata": {},
   "outputs": [
    {
     "name": "stdout",
     "output_type": "stream",
     "text": [
      "a = 10, b = 20\n"
     ]
    }
   ],
   "source": [
    "# **Parameterized Constructor**:\n",
    "# ```python\n",
    "class Test:\n",
    "    def __init__(self, n1, n2):\n",
    "        self.a = n1\n",
    "        self.b = n2\n",
    "\n",
    "    def display(self):\n",
    "        print(f\"a = {self.a}, b = {self.b}\")\n",
    "\n",
    "t1 = Test(10, 20)\n",
    "t1.display()  # Output: a = 10, b = 20"
   ]
  },
  {
   "cell_type": "code",
   "execution_count": 130,
   "id": "e8e9d2ef-6282-41d4-8884-2a893105456d",
   "metadata": {},
   "outputs": [],
   "source": [
    "### Conclusion\n",
    "\n",
    "# This document provides a comprehensive guide to understanding objects and classes in Python, focusing on their creation, attributes,\n",
    "# methods, and special behaviors such as constructors and variable types. It emphasizes the use of the `self` keyword and clarifies key\n",
    "# differences between methods and constructors, including Python's approach to constructor overloading. By understanding these concepts,\n",
    "# you can effectively utilize object-oriented programming principles in Python."
   ]
  }
 ],
 "metadata": {
  "kernelspec": {
   "display_name": "Python 3 (ipykernel)",
   "language": "python",
   "name": "python3"
  },
  "language_info": {
   "codemirror_mode": {
    "name": "ipython",
    "version": 3
   },
   "file_extension": ".py",
   "mimetype": "text/x-python",
   "name": "python",
   "nbconvert_exporter": "python",
   "pygments_lexer": "ipython3",
   "version": "3.12.2"
  }
 },
 "nbformat": 4,
 "nbformat_minor": 5
}
