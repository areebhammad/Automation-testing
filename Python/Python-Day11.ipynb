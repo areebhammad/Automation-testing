{
 "cells": [
  {
   "cell_type": "code",
   "execution_count": 12,
   "metadata": {},
   "outputs": [
    {
     "name": "stdout",
     "output_type": "stream",
     "text": [
      "H20 is a digit\n"
     ]
    }
   ],
   "source": [
    "# Given a word W, write a python program to perform the following.\n",
    "# If the length of the word is greater than or equal to 3 then check the following\n",
    "\n",
    "# If the 2nd char is an Alphabet and a vowel display “vowel”\n",
    "# If the 2nd char is an Alphabet and not a vowel display “consonant”\n",
    "\n",
    "# If any other char display “other”\n",
    "# if the length of the word is less than 3, display “invalid”\n",
    "\n",
    "# Constraints:\n",
    "# W is not null\n",
    "\n",
    "# Input Format:\n",
    "# First line of the input contains W\n",
    "\n",
    "# Output Format:\n",
    "# Generated output in a single line.\n",
    "# Sample Input & Output\n",
    "# Input:\n",
    "# H2o\n",
    "# Output\n",
    "# digit\n",
    "\n",
    "\n",
    "import re\n",
    "\n",
    "def check_word(W):\n",
    "    if len(W) < 3:\n",
    "        print(\"invalid\")\n",
    "        return\n",
    "\n",
    "    second_char = W[1]\n",
    "\n",
    "    if re.match(r'[a-zA-Z]', second_char):\n",
    "        if second_char.lower() in 'aeiou':\n",
    "            print(f\"{W} is a vowel\")\n",
    "        else:\n",
    "            print(f\"{W} is a consonant\")\n",
    "    elif re.match(r'\\d', second_char):\n",
    "        print(f\"{W} is a digit\")\n",
    "    else:\n",
    "        print(\"other\")\n",
    "\n",
    "W = input().strip()\n",
    "check_word(W)\n"
   ]
  },
  {
   "cell_type": "code",
   "execution_count": 21,
   "metadata": {},
   "outputs": [
    {
     "name": "stdout",
     "output_type": "stream",
     "text": [
      "0 3 abb\n",
      "7 13 aaabbb\n",
      "18 25 aaabbcc\n",
      "29 31 bb\n"
     ]
    }
   ],
   "source": [
    "import re\n",
    "#*(asterisk)\n",
    "# a* matches zero or more 'a' characters, including zero occurences. #Compile a regular expression pattern, returning a Pattern object.\n",
    "pattern=re.compile(r'a*b+\\w+')\n",
    "#data to search in..\n",
    "data=\"abb ac aaabbb aaa aaabbcc cc bb\"\n",
    "#Return a list of all non-overlapping matches in the string. \n",
    "match_iter = re.finditer(pattern, data)\n",
    "for match in match_iter:\n",
    "    print(match.start(),match.end(), match.group())"
   ]
  },
  {
   "cell_type": "code",
   "execution_count": 19,
   "metadata": {},
   "outputs": [],
   "source": [
    "import re\n",
    "#*(asterisk)\n",
    "# a* matches zero or more 'a' characters, including zero occurences. #Compile a regular expression pattern, returning a Pattern object.\n",
    "pattern=re.compile(r'/d')\n",
    "#data to search in..\n",
    "data=\"4wo hello\"\n",
    "#Return a list of all non-overlapping matches in the string. \n",
    "match_iter = re.finditer(pattern, data)\n",
    "for match in match_iter:\n",
    "    print(match.start(),match.end(), match.group())"
   ]
  },
  {
   "cell_type": "code",
   "execution_count": 20,
   "metadata": {},
   "outputs": [],
   "source": [
    "import re\n",
    "#It ensures that the pattern only matches when it apperas at the begining of the input #Compile a regular expression pattern, returning a Pattern object. patternere.compile([^0-9]')\n",
    "#data to search in..\n",
    "pattern=re.compile(r'/d{3}$')\n",
    "data=\"4hello world 123\"\n",
    "#Return a list of all non-overlapping matches in the string. \n",
    "match_iter=re.finditer(pattern, data)\n",
    "\n",
    "for match in match_iter:\n",
    "    print(match.start(),match.end(),match.group())"
   ]
  },
  {
   "cell_type": "code",
   "execution_count": 32,
   "metadata": {},
   "outputs": [
    {
     "name": "stdout",
     "output_type": "stream",
     "text": [
      "0 6 z1x2c3\n"
     ]
    }
   ],
   "source": [
    "import re\n",
    "# ?\n",
    "\n",
    "pattern=re.compile(r'([a-z]\\d){3}')\n",
    "#data to search in..\n",
    "data=\"z1x2c3\"\n",
    "#Return a list of all non-overlapping matches in the string. \n",
    "match_iter = re.finditer(pattern, data)\n",
    "\n",
    "for match in match_iter:\n",
    "    print(match.start(),match.end(), match.group())"
   ]
  },
  {
   "cell_type": "code",
   "execution_count": 34,
   "metadata": {},
   "outputs": [
    {
     "name": "stdout",
     "output_type": "stream",
     "text": [
      "<re.Match object; span=(0, 6), match='python'>\n",
      "<class 're.Match'>\n",
      "found python\n"
     ]
    }
   ],
   "source": [
    "import re\n",
    "#Pattern to search\n",
    "pattern=\"python\"\n",
    "#data to search in..\n",
    "data1=\"python is very powerful and python has lots of features\"\n",
    "match=re.search(pattern,data1)\n",
    "print(match)\n",
    "print(type(match))\n",
    "\n",
    "if match:\n",
    "    print(\"found\",match.group())\n",
    "else:\n",
    "    print(\"Not found\")"
   ]
  },
  {
   "cell_type": "code",
   "execution_count": 35,
   "metadata": {},
   "outputs": [
    {
     "name": "stdout",
     "output_type": "stream",
     "text": [
      "<re.Match object; span=(0, 6), match='PYTHON'>\n",
      "<class 're.Match'>\n",
      "found PYTHON\n"
     ]
    }
   ],
   "source": [
    "import re\n",
    "#Pattern to search\n",
    "pattern=\"python\"\n",
    "#data to search in..\n",
    "data=\"PYTHON is very powerful and  has lots of features\"\n",
    "\n",
    "match=re.search(pattern,data,re.IGNORECASE)\n",
    "print(match)\n",
    "print(type(match))\n",
    "\n",
    "if match:\n",
    "    print(\"found\",match.group())\n",
    "else:\n",
    "    print(\"Not found\")"
   ]
  },
  {
   "cell_type": "code",
   "execution_count": 37,
   "metadata": {},
   "outputs": [
    {
     "name": "stdout",
     "output_type": "stream",
     "text": [
      "<re.Match object; span=(0, 6), match='python'>\n",
      "<class 're.Match'>\n",
      "found python\n"
     ]
    }
   ],
   "source": [
    "import re\n",
    "#Pattern to search\n",
    "pattern=\"python\"\n",
    "#data to search in..\n",
    "data=\"python is very powerful and it has lots of features\"\n",
    "\n",
    "match=re.match(pattern,data)\n",
    "print(match)\n",
    "print(type(match))\n",
    "\n",
    "if match:\n",
    "    print(\"found\",match.group())\n",
    "else:\n",
    "    print(\"Not found\")"
   ]
  },
  {
   "cell_type": "code",
   "execution_count": 39,
   "metadata": {},
   "outputs": [
    {
     "name": "stdout",
     "output_type": "stream",
     "text": [
      "0 2 ab\n",
      "3 5 ab\n",
      "5 7 ab\n"
     ]
    }
   ],
   "source": [
    "import re\n",
    "#Compile a regular expression pattern, returning a Pattern object.\n",
    "pattern=re.compile('ab')\n",
    "data=\"abaababa\"\n",
    "match_iter= re.finditer(pattern,data)\n",
    "for match in match_iter:\n",
    "    print(match.start(), match.end(), match.group())"
   ]
  },
  {
   "cell_type": "code",
   "execution_count": 40,
   "metadata": {},
   "outputs": [
    {
     "name": "stdout",
     "output_type": "stream",
     "text": [
      "['ab', 'ab', 'ab']\n"
     ]
    }
   ],
   "source": [
    "import re\n",
    "#Compile a regular expression pattern, returning a Pattern object.\n",
    "pattern=re.compile('ab')\n",
    "data=\"abaababa\"\n",
    "#Return a list of all non-overlapping matches in the string.\n",
    "match_list= re.findall(pattern,data)\n",
    "print(match_list)"
   ]
  },
  {
   "cell_type": "code",
   "execution_count": 41,
   "metadata": {},
   "outputs": [
    {
     "name": "stdout",
     "output_type": "stream",
     "text": [
      "<re.Match object; span=(6, 9), match='dog'>\n",
      "<re.Match object; span=(25, 28), match='cat'>\n",
      "<re.Match object; span=(33, 36), match='cat'>\n",
      "<re.Match object; span=(49, 52), match='dog'>\n",
      "4\n"
     ]
    }
   ],
   "source": [
    "import re\n",
    "#Compile a regular expression pattern, returning a Pattern object.\n",
    "pattern=re.compile('dog|cat')\n",
    "#data to search in..\n",
    "data=\"I saw dog running behind cat and cat climbed but dog couldn't\"\n",
    "\n",
    "match_iter= re.finditer(pattern,data)\n",
    "count=0\n",
    "for match in match_iter:\n",
    "    count+=1\n",
    "    print(match)\n",
    "\n",
    "print(count)"
   ]
  },
  {
   "cell_type": "code",
   "execution_count": 42,
   "metadata": {},
   "outputs": [
    {
     "name": "stdout",
     "output_type": "stream",
     "text": [
      "['bb']\n"
     ]
    }
   ],
   "source": [
    "import re\n",
    "#Compile a regular expression pattern, returning a Pattern object.\n",
    "pattern=re.compile('bb')\n",
    "#data to search in..\n",
    "data=\"bbbababa\"\n",
    "\n",
    "#Return a list of all non-overlapping matches in the string.\n",
    "matches=re.findall(pattern,data)\n",
    "print(matches)\n"
   ]
  },
  {
   "cell_type": "code",
   "execution_count": 44,
   "metadata": {},
   "outputs": [
    {
     "name": "stdout",
     "output_type": "stream",
     "text": [
      "<re.Match object; span=(14, 15), match='1'>\n",
      "<re.Match object; span=(15, 16), match='0'>\n",
      "<re.Match object; span=(16, 17), match='0'>\n"
     ]
    }
   ],
   "source": [
    "#Find digits in given data\n",
    "import re\n",
    "#Compile a regular expression pattern, returning a Pattern object.\n",
    "pattern=re.compile('[0-9]')\n",
    "#data to search in..\n",
    "data=\"The price is $100.\"\n",
    "\n",
    "#Return a list of all non-overlapping matches in the string.\n",
    "matche_iter=re.finditer(pattern,data)\n",
    "\n",
    "for match in matche_iter:\n",
    "    print(match)"
   ]
  },
  {
   "cell_type": "code",
   "execution_count": 45,
   "metadata": {},
   "outputs": [
    {
     "name": "stdout",
     "output_type": "stream",
     "text": [
      "digit present\n"
     ]
    }
   ],
   "source": [
    "#Find digits in given data\n",
    "import re\n",
    "#Compile a regular expression pattern, returning a Pattern object.\n",
    "pattern=re.compile(r'\\d')\n",
    "#data to search in..\n",
    "data=\"The pri4ce is $.\"\n",
    "\n",
    "#Return a list of all non-overlapping matches in the string.\n",
    "matche_list=re.findall(pattern,data)\n",
    "\n",
    "if matche_list:\n",
    "    print(\"digit present\")\n",
    "else:\n",
    "    print(\"digit not present\")"
   ]
  },
  {
   "cell_type": "code",
   "execution_count": 46,
   "metadata": {},
   "outputs": [
    {
     "name": "stdout",
     "output_type": "stream",
     "text": [
      "vowels present\n"
     ]
    }
   ],
   "source": [
    "#Find vowels in given data\n",
    "import re\n",
    "#Compile a regular expression pattern, returning a Pattern object.\n",
    "pattern=re.compile('[aeiou]')\n",
    "#data to search in..\n",
    "data=\"The price is $100.\"\n",
    "\n",
    "#Return a list of all non-overlapping matches in the string.\n",
    "matche_list=re.findall(pattern,data)\n",
    "\n",
    "if matche_list:\n",
    "    print(\"vowels present\")\n",
    "else:\n",
    "    print(\"vowels not present\")"
   ]
  },
  {
   "cell_type": "code",
   "execution_count": 47,
   "metadata": {},
   "outputs": [],
   "source": [
    "\n",
    "# 1) [abc]:Matches any one of Characters 'a','b' or'c'\n",
    "# 2) [^abc]:Matches any one of Characters that is not 'a','b' or'c'\n",
    "# 3) [0-9]: Matches any digit from 0 to 9\n",
    "# 4) [A-Z]: Matches any uppercase letter from 'A' to 'Z'\n",
    "# 5) [a-z]: Matches any lowercase letter from 'a' to 'z'\n",
    "# 6) [A-Za-z] Matches any uppercase or lowercase letter\n",
    "# 7) [0-9A-Fa-f]: Matches a Hexadecimal digit(0-9,A-F,a-f)\n",
    "# 8)[a-zA-Z0-9]: Matches any alphanumeric character.\n",
    "# 9)[^0-9]: Matches any character that is not a digit\n",
    "# 10)[^A-Za-z]:Matches any character that is not an uppercase or lowercase letter."
   ]
  },
  {
   "cell_type": "code",
   "execution_count": 48,
   "metadata": {},
   "outputs": [
    {
     "name": "stdout",
     "output_type": "stream",
     "text": [
      "['1', '0', '2', '0']\n",
      "password match\n"
     ]
    }
   ],
   "source": [
    "#Condition for password:- 1.Contains at least one digit or at least one uppercase letter\n",
    "import re\n",
    "password=input('enter password')\n",
    "#Compile a regular expression pattern, returning a Pattern object.\n",
    "pattern=re.compile('[0-9A-Z]')\n",
    "\n",
    "#Return a list of all non-overlapping matches in the string.\n",
    "matche_list=re.findall(pattern,password)\n",
    "print(matche_list)\n",
    "if matche_list:\n",
    "    print(\"password match\")\n",
    "else:\n",
    "    print(\"password not match\")\n"
   ]
  },
  {
   "cell_type": "code",
   "execution_count": 49,
   "metadata": {},
   "outputs": [],
   "source": [
    "# \\d: Matches any digit character\n",
    "# \\D: Matches any non-digit character\n",
    "# \\w: Matches any word character(alphanumeric plus underscore)\n",
    "# \\W: Matches any non-word Character.\n",
    "# \\s: Matches any whitespace character(spaces,tabs,newlines)\n",
    "# \\S: Matches any non-white space character\n",
    "# \\b: Matches a word boundary\n",
    "# \\A: startswith\n",
    "# \\Z: endswith\n",
    "# .: Matches any charac"
   ]
  },
  {
   "cell_type": "code",
   "execution_count": 50,
   "metadata": {},
   "outputs": [
    {
     "name": "stdout",
     "output_type": "stream",
     "text": [
      "25 26 1\n",
      "26 27 2\n",
      "27 28 3\n"
     ]
    }
   ],
   "source": [
    "import re\n",
    "#Compile a regular expression pattern, returning a Pattern object.\n",
    "pattern=re.compile(r'\\d')\n",
    "#data to search in..\n",
    "data=\"Help, my phone number is 123\"\n",
    "\n",
    "#Return a list of all non-overlapping matches in the string.\n",
    "match_iter=re.finditer(pattern,data)\n",
    "\n",
    "for match in match_iter:\n",
    "    print(match.start(),match.end(),match.group())"
   ]
  },
  {
   "cell_type": "code",
   "execution_count": 51,
   "metadata": {},
   "outputs": [
    {
     "name": "stdout",
     "output_type": "stream",
     "text": [
      "0 1 H\n",
      "1 2 e\n",
      "2 3 l\n",
      "3 4 p\n",
      "4 5 ,\n",
      "5 6  \n",
      "6 7 m\n",
      "7 8 y\n",
      "8 9  \n",
      "9 10 p\n",
      "10 11 h\n",
      "11 12 o\n",
      "12 13 n\n",
      "13 14 e\n",
      "14 15  \n",
      "15 16 n\n",
      "16 17 u\n",
      "17 18 m\n",
      "18 19 b\n",
      "19 20 e\n",
      "20 21 r\n",
      "21 22  \n",
      "22 23 i\n",
      "23 24 s\n",
      "24 25  \n"
     ]
    }
   ],
   "source": [
    "import re\n",
    "#Compile a regular expression pattern, returning a Pattern object.\n",
    "pattern=re.compile(r'\\D')\n",
    "#data to search in..\n",
    "data=\"Help, my phone number is 123\"\n",
    "\n",
    "#Return a list of all non-overlapping matches in the string.\n",
    "match_iter=re.finditer(pattern,data)\n",
    "\n",
    "for match in match_iter:\n",
    "    print(match.start(),match.end(),match.group())"
   ]
  },
  {
   "cell_type": "code",
   "execution_count": 52,
   "metadata": {},
   "outputs": [
    {
     "name": "stdout",
     "output_type": "stream",
     "text": [
      "0 1 H\n",
      "1 2 e\n",
      "2 3 l\n",
      "3 4 p\n",
      "6 7 m\n",
      "7 8 y\n",
      "9 10 p\n",
      "10 11 h\n",
      "11 12 o\n",
      "12 13 n\n",
      "13 14 e\n",
      "15 16 n\n",
      "16 17 u\n",
      "17 18 m\n",
      "18 19 b\n",
      "19 20 e\n",
      "20 21 r\n",
      "22 23 i\n",
      "23 24 s\n",
      "25 26 1\n",
      "26 27 2\n",
      "27 28 3\n"
     ]
    }
   ],
   "source": [
    "import re\n",
    "#Compile a regular expression pattern, returning a Pattern object.\n",
    "pattern=re.compile(r'\\w')\n",
    "#data to search in..\n",
    "data=\"Help, my phone number is 123\"\n",
    "\n",
    "#Return a list of all non-overlapping matches in the string.\n",
    "match_iter=re.finditer(pattern,data)\n",
    "\n",
    "for match in match_iter:\n",
    "    print(match.start(),match.end(),match.group())"
   ]
  },
  {
   "cell_type": "code",
   "execution_count": 53,
   "metadata": {},
   "outputs": [
    {
     "name": "stdout",
     "output_type": "stream",
     "text": [
      "4 5 ,\n",
      "5 6  \n",
      "8 9  \n",
      "14 15  \n",
      "21 22  \n",
      "24 25  \n"
     ]
    }
   ],
   "source": [
    "import re\n",
    "#Compile a regular expression pattern, returning a Pattern object.\n",
    "pattern=re.compile(r'\\W')\n",
    "#data to search in..\n",
    "data=\"Help, my phone number is 123\"\n",
    "\n",
    "#Return a list of all non-overlapping matches in the string.\n",
    "match_iter=re.finditer(pattern,data)\n",
    "\n",
    "for match in match_iter:\n",
    "    print(match.start(),match.end(),match.group())"
   ]
  },
  {
   "cell_type": "code",
   "execution_count": 54,
   "metadata": {},
   "outputs": [
    {
     "name": "stdout",
     "output_type": "stream",
     "text": [
      "5 6  \n",
      "8 9  \n",
      "14 15  \n",
      "21 22  \n",
      "24 25  \n"
     ]
    }
   ],
   "source": [
    "import re\n",
    "#Compile a regular expression pattern, returning a Pattern object.\n",
    "pattern=re.compile(r'\\s')\n",
    "#data to search in..\n",
    "data=\"Help, my phone number is 123\"\n",
    "\n",
    "#Return a list of all non-overlapping matches in the string.\n",
    "match_iter=re.finditer(pattern,data)\n",
    "\n",
    "for match in match_iter:\n",
    "    print(match.start(),match.end(),match.group())"
   ]
  },
  {
   "cell_type": "code",
   "execution_count": 55,
   "metadata": {},
   "outputs": [
    {
     "name": "stdout",
     "output_type": "stream",
     "text": [
      "0 1 H\n",
      "1 2 e\n",
      "2 3 l\n",
      "3 4 p\n",
      "4 5 ,\n",
      "6 7 m\n",
      "7 8 y\n",
      "9 10 p\n",
      "10 11 h\n",
      "11 12 o\n",
      "12 13 n\n",
      "13 14 e\n",
      "15 16 n\n",
      "16 17 u\n",
      "17 18 m\n",
      "18 19 b\n",
      "19 20 e\n",
      "20 21 r\n",
      "22 23 i\n",
      "23 24 s\n",
      "25 26 1\n",
      "26 27 2\n",
      "27 28 3\n"
     ]
    }
   ],
   "source": [
    "import re\n",
    "#Compile a regular expression pattern, returning a Pattern object.\n",
    "pattern=re.compile(r'\\S')\n",
    "#data to search in..\n",
    "data=\"Help, my phone number is 123\"\n",
    "\n",
    "#Return a list of all non-overlapping matches in the string.\n",
    "match_iter=re.finditer(pattern,data)\n",
    "\n",
    "for match in match_iter:\n",
    "    print(match.start(),match.end(),match.group())"
   ]
  },
  {
   "cell_type": "code",
   "execution_count": 56,
   "metadata": {},
   "outputs": [
    {
     "name": "stdout",
     "output_type": "stream",
     "text": [
      "9 14 phone\n"
     ]
    }
   ],
   "source": [
    "import re\n",
    "#Compile a regular expression pattern, returning a Pattern object.\n",
    "pattern=re.compile(r'\\bphone\\b')\n",
    "#data to search in..\n",
    "data=\"Help, my phone number is 123\"\n",
    "\n",
    "#Return a list of all non-overlapping matches in the string.\n",
    "match_iter=re.finditer(pattern,data)\n",
    "\n",
    "for match in match_iter:\n",
    "    print(match.start(),match.end(),match.group())"
   ]
  },
  {
   "cell_type": "code",
   "execution_count": 57,
   "metadata": {},
   "outputs": [
    {
     "name": "stdout",
     "output_type": "stream",
     "text": [
      "5 6 _\n"
     ]
    }
   ],
   "source": [
    "import re\n",
    "#Compile a regular expression pattern, returning a Pattern object.\n",
    "pattern=re.compile(r'_')\n",
    "#data to search in..\n",
    "data=\"I am _Rahul\"\n",
    "\n",
    "#Return a list of all non-overlapping matches in the string.\n",
    "match_iter=re.finditer(pattern,data)\n",
    "\n",
    "for match in match_iter:\n",
    "    print(match.start(),match.end(),match.group())\n"
   ]
  },
  {
   "cell_type": "code",
   "execution_count": 58,
   "metadata": {},
   "outputs": [
    {
     "name": "stdout",
     "output_type": "stream",
     "text": [
      "0 1 h\n",
      "1 2 e\n",
      "2 3 l\n",
      "3 4 l\n",
      "4 5 o\n",
      "6 7 w\n",
      "7 8 o\n",
      "8 9 r\n",
      "9 10 l\n",
      "10 11 d\n"
     ]
    }
   ],
   "source": [
    "import re\n",
    "#Inside the regular expression, a dot represents any character execept the newline character, which is \\n\n",
    "#Compile a regular expression pattern, returning a Pattern object.\n",
    "pattern=re.compile(r'.')\n",
    "#data to search in..\n",
    "data=\"hello\\nworld\"\n",
    "\n",
    "#Return a list of all non-overlapping matches in the string.\n",
    "match_iter=re.finditer(pattern,data)\n",
    "\n",
    "for match in match_iter:\n",
    "    print(match.start(),match.end(),match.group())"
   ]
  },
  {
   "cell_type": "code",
   "execution_count": 59,
   "metadata": {},
   "outputs": [
    {
     "name": "stdout",
     "output_type": "stream",
     "text": [
      "2 4 ll\n",
      "9 10 l\n"
     ]
    }
   ],
   "source": [
    "import re\n",
    "#+(plus)\n",
    "#means preceding expression or character whould repeat one or more times\n",
    "#with as many repetitions as possible 1->1\n",
    "#Compile a regular expression pattern, returning a Pattern object.\n",
    "pattern=re.compile(r'l+')\n",
    "#data to search in..\n",
    "data=\"hello\\nworld\"\n",
    "\n",
    "#Return a list of all non-overlapping matches in the string.\n",
    "match_iter=re.finditer(pattern,data)\n",
    "\n",
    "for match in match_iter:\n",
    "    print(match.start(),match.end(),match.group())"
   ]
  },
  {
   "cell_type": "code",
   "execution_count": 60,
   "metadata": {},
   "outputs": [
    {
     "name": "stdout",
     "output_type": "stream",
     "text": [
      "0 9 heeeeeeee\n"
     ]
    }
   ],
   "source": [
    "import re\n",
    "#+(plus)\n",
    "#means preceding expression or character whould repeat one or more times\n",
    "#with as many repetitions as possible 1->1\n",
    "#Compile a regular expression pattern, returning a Pattern object.\n",
    "pattern=re.compile(r'he+')\n",
    "#data to search in..\n",
    "data=\"heeeeeeeello\\nworld\"\n",
    "\n",
    "#Return a list of all non-overlapping matches in the string.\n",
    "match_iter=re.finditer(pattern,data)\n",
    "\n",
    "for match in match_iter:\n",
    "    print(match.start(),match.end(),match.group())\n"
   ]
  },
  {
   "cell_type": "code",
   "execution_count": 61,
   "metadata": {},
   "outputs": [
    {
     "name": "stdout",
     "output_type": "stream",
     "text": [
      "10 12 90\n",
      "13 15 45\n",
      "16 18 67\n",
      "19 22 333\n",
      "23 25 21\n"
     ]
    }
   ],
   "source": [
    "import re\n",
    "#+(plus)\n",
    "#means preceding expression or character whould repeat one or more times\n",
    "#with as many repetitions as possible 1->1\n",
    "#Compile a regular expression pattern, returning a Pattern object.\n",
    "pattern=re.compile(r'\\d+')\n",
    "#data to search in..\n",
    "data=\"marks are 90,45,67,333,21\"\n",
    "\n",
    "#Return a list of all non-overlapping matches in the string.\n",
    "match_iter=re.finditer(pattern,data)\n",
    "\n",
    "for match in match_iter:\n",
    "    print(match.start(),match.end(),match.group())"
   ]
  },
  {
   "cell_type": "code",
   "execution_count": 62,
   "metadata": {},
   "outputs": [
    {
     "name": "stdout",
     "output_type": "stream",
     "text": [
      "22 37 jonhn@gmail.com\n",
      "42 58 petera@gmail.com\n"
     ]
    }
   ],
   "source": [
    "import re\n",
    "#+(plus)\n",
    "#means preceding expression or character whould repeat one or more times\n",
    "#with as many repetitions as possible 1->1\n",
    "#Compile a regular expression pattern, returning a Pattern object.\n",
    "pattern=re.compile(r'\\w+@\\w+\\.\\w+')\n",
    "#data to search in..\n",
    "data=\"mmy email address are jonhn@gmail.com and petera@gmail.com\"\n",
    "\n",
    "#Return a list of all non-overlapping matches in the string.\n",
    "match_iter=re.finditer(pattern,data)\n",
    "\n",
    "for match in match_iter:\n",
    "    print(match.start(),match.end(),match.group())"
   ]
  },
  {
   "cell_type": "code",
   "execution_count": 63,
   "metadata": {},
   "outputs": [
    {
     "name": "stdout",
     "output_type": "stream",
     "text": [
      "0 2 ab\n",
      "2 3 b\n",
      "7 11 aaab\n",
      "11 12 b\n",
      "12 13 b\n",
      "18 22 aaab\n",
      "22 23 b\n",
      "29 30 b\n",
      "30 31 b\n"
     ]
    }
   ],
   "source": [
    "import re\n",
    "#*(asterisk)\n",
    "# a* matches zero or more 'a' characters,including zero occurences.\n",
    "#Compile a regular expression pattern, returning a Pattern object.\n",
    "pattern=re.compile(r'a*b')\n",
    "#data to search in..\n",
    "data=\"abb ac aaabbb aaa aaabbcc cc bb\"\n",
    "\n",
    "#Return a list of all non-overlapping matches in the string.\n",
    "match_iter=re.finditer(pattern,data)\n",
    "\n",
    "for match in match_iter:\n",
    "    print(match.start(),match.end(),match.group())"
   ]
  },
  {
   "cell_type": "code",
   "execution_count": 64,
   "metadata": {},
   "outputs": [
    {
     "name": "stdout",
     "output_type": "stream",
     "text": [
      "0 3 abb\n",
      "7 13 aaabbb\n",
      "18 25 aaabbcc\n",
      "29 31 bb\n"
     ]
    }
   ],
   "source": [
    "import re\n",
    "#*(asterisk)\n",
    "# a* matches zero or more 'a' characters,including zero occurences.\n",
    "#Compile a regular expression pattern, returning a Pattern object.\n",
    "pattern=re.compile(r'a*b+\\w+')\n",
    "#data to search in..\n",
    "data=\"abb ac aaabbb aaa aaabbcc cc bb\"\n",
    "\n",
    "#Return a list of all non-overlapping matches in the string.\n",
    "match_iter=re.finditer(pattern,data)\n",
    "\n",
    "for match in match_iter:\n",
    "    print(match.start(),match.end(),match.group())"
   ]
  },
  {
   "cell_type": "code",
   "execution_count": 65,
   "metadata": {},
   "outputs": [
    {
     "name": "stdout",
     "output_type": "stream",
     "text": [
      "1 2 h\n",
      "2 3 e\n",
      "3 4 l\n",
      "4 5 l\n",
      "5 6 o\n",
      "6 7  \n",
      "7 8 w\n",
      "8 9 o\n",
      "9 10 r\n",
      "10 11 l\n",
      "11 12 d\n"
     ]
    }
   ],
   "source": [
    "import re\n",
    "#^\n",
    "# It ensures that the pattern only matches when it apperas at the begining of the input\n",
    "#Compile a regular expression pattern, returning a Pattern object.\n",
    "pattern=re.compile(r'[^0-9]')\n",
    "#data to search in..\n",
    "data=\"4hello world\"\n",
    "\n",
    "#Return a list of all non-overlapping matches in the string.\n",
    "match_iter=re.finditer(pattern,data)\n",
    "\n",
    "for match in match_iter:\n",
    "    print(match.start(),match.end(),match.group())"
   ]
  },
  {
   "cell_type": "code",
   "execution_count": 66,
   "metadata": {},
   "outputs": [
    {
     "name": "stdout",
     "output_type": "stream",
     "text": [
      "12 15 123\n"
     ]
    }
   ],
   "source": [
    "import re\n",
    "#$\n",
    "# used to match the end of a line or the end of data\n",
    "#Compile a regular expression pattern, returning a Pattern object.\n",
    "pattern=re.compile(r'\\d{3}$')\n",
    "#data to search in..\n",
    "data=\"The code is 123\"\n",
    "\n",
    "#Return a list of all non-overlapping matches in the string.\n",
    "match_iter=re.finditer(pattern,data)\n",
    "\n",
    "for match in match_iter:\n",
    "    print(match.start(),match.end(),match.group())"
   ]
  },
  {
   "cell_type": "code",
   "execution_count": 67,
   "metadata": {},
   "outputs": [
    {
     "name": "stdout",
     "output_type": "stream",
     "text": [
      "0 6 colour\n",
      "11 16 color\n",
      "11 23 123-456-7809\n",
      "27 37 9876543201\n"
     ]
    }
   ],
   "source": [
    "import re\n",
    "#?\n",
    "#? is ametacharacter that specifies that the preceding character or group is optional\n",
    "#Compile a regular expression pattern, returning a Pattern object.\n",
    "pattern=re.compile(r'colou?r')\n",
    "#data to search in..\n",
    "data=\"colour and color are same\"\n",
    "\n",
    "#Return a list of all non-overlapping matches in the string.\n",
    "match_iter=re.finditer(pattern,data)\n",
    "\n",
    "for match in match_iter:\n",
    "    print(match.start(),match.end(),match.group())\n",
    "\n",
    "import re\n",
    "#?\n",
    "#? is ametacharacter that specifies that the preceding character or group is optional\n",
    "#Compile a regular expression pattern, returning a Pattern object.\n",
    "pattern=re.compile(r'\\d{3}-?\\d{3}-?\\d{4}')\n",
    "#data to search in..\n",
    "data=\"call me at 123-456-7809 or 9876543201\"\n",
    "\n",
    "#Return a list of all non-overlapping matches in the string.\n",
    "match_iter=re.finditer(pattern,data)\n",
    "\n",
    "for match in match_iter:\n",
    "    print(match.start(),match.end(),match.group())"
   ]
  },
  {
   "cell_type": "code",
   "execution_count": 68,
   "metadata": {},
   "outputs": [
    {
     "name": "stdout",
     "output_type": "stream",
     "text": [
      "0 21 http://fileserver.net\n"
     ]
    }
   ],
   "source": [
    "import re\n",
    "#?\n",
    "#? is ametacharacter that specifies that the preceding character or group is optional\n",
    "#Compile a regular expression pattern, returning a Pattern object.\n",
    "pattern=re.compile(r'https?://\\w+\\.\\w+')\n",
    "#data to search in..\n",
    "data=[\"http://example.com\",\"https://example.org\",\"http://fileserver.net\"]\n",
    "\n",
    "for d in data:\n",
    "    #Return a list of all non-overlapping matches in the string.\n",
    "    match_iter=re.finditer(pattern,d)\n",
    "\n",
    "for match in match_iter:\n",
    "    print(match.start(),match.end(),match.group())\n"
   ]
  },
  {
   "cell_type": "code",
   "execution_count": 69,
   "metadata": {},
   "outputs": [
    {
     "name": "stdout",
     "output_type": "stream",
     "text": [
      "13 38 20\n"
     ]
    }
   ],
   "source": [
    "import re\n",
    "#?\n",
    "#? is ametacharacter that specifies that the preceding character or group is optional\n",
    "#Compile a regular expression pattern, returning a Pattern object.\n",
    "pattern=re.compile(r'(\\b[A-Z]+\\b).+(\\b\\d+\\b)')\n",
    "#data to search in..\n",
    "data=\"The price of PINEAPPLE ice cream is 20\"\n",
    "\n",
    "#Return a list of all non-overlapping matches in the string.\n",
    "match_iter=re.finditer(pattern,data)\n",
    "\n",
    "for match in match_iter:\n",
    "    print(match.start(),match.end(),match.group(2))"
   ]
  },
  {
   "cell_type": "code",
   "execution_count": 70,
   "metadata": {},
   "outputs": [
    {
     "name": "stdout",
     "output_type": "stream",
     "text": [
      "0 6 x1y2z3\n"
     ]
    }
   ],
   "source": [
    "import re\n",
    "#?\n",
    "#? is ametacharacter that specifies that the preceding character or group is optional\n",
    "#Compile a regular expression pattern, returning a Pattern object.\n",
    "pattern=re.compile(r'([a-z]\\d){3}')\n",
    "#data to search in..\n",
    "data=\"x1y2z3\"\n",
    "\n",
    "#Return a list of all non-overlapping matches in the string.\n",
    "match_iter=re.finditer(pattern,data)\n",
    "\n",
    "for match in match_iter:\n",
    "    print(match.start(),match.end(),match.group())"
   ]
  },
  {
   "cell_type": "code",
   "execution_count": 71,
   "metadata": {},
   "outputs": [
    {
     "name": "stdout",
     "output_type": "stream",
     "text": [
      "0 10 31-08-1234\n"
     ]
    }
   ],
   "source": [
    "import re\n",
    "#?\n",
    "#? is ametacharacter that specifies that the preceding character or group is optional\n",
    "#Compile a regular expression pattern, returning a Pattern object.\n",
    "pattern=re.compile(r'(\\d{1,2})-(\\d{1,2})-(\\d{4})')\n",
    "#data to search in..\n",
    "data=\"31-08-1234\"\n",
    "\n",
    "#Return a list of all non-overlapping matches in the string.\n",
    "match_iter=re.finditer(pattern,data)\n",
    "\n",
    "for match in match_iter:\n",
    "    print(match.start(),match.end(),match.group())"
   ]
  },
  {
   "cell_type": "code",
   "execution_count": 72,
   "metadata": {},
   "outputs": [
    {
     "name": "stdout",
     "output_type": "stream",
     "text": [
      "Not matched!\n",
      "Found a match!\n",
      "Found a match!\n"
     ]
    }
   ],
   "source": [
    "# 8) Write a Python program to find the sequences of one upper case letter followed by lower case letters.\n",
    "\n",
    "def text_match(text):\n",
    "        patterns = '^[a-z]+_[a-z]+$'\n",
    "        if not re.search(patterns,  text):\n",
    "                return 'Found a match!'\n",
    "        else:\n",
    "                return('Not matched!')\n",
    "\n",
    "print(text_match(\"aab_cbbbc\"))\n",
    "print(text_match(\"aab_Abbbc\"))\n",
    "print(text_match(\"Aaab_abbbc\"))"
   ]
  },
  {
   "cell_type": "code",
   "execution_count": 107,
   "metadata": {},
   "outputs": [
    {
     "name": "stdout",
     "output_type": "stream",
     "text": [
      "True\n",
      "False\n"
     ]
    }
   ],
   "source": [
    "import re\n",
    "\n",
    "def is_allowed_specific_char(string):\n",
    "    charRe = re.compile(r'[^a-zA-Z0-9.]')\n",
    "    string = charRe.search(string)\n",
    "    return not bool(string)\n",
    "\n",
    "# Test cases\n",
    "print(is_allowed_specific_char(\"ABCDEFabcdef123450\"))\n",
    "print(is_allowed_specific_char(\"*&%@#!}{\"))\n"
   ]
  },
  {
   "cell_type": "code",
   "execution_count": 74,
   "metadata": {},
   "outputs": [
    {
     "name": "stdout",
     "output_type": "stream",
     "text": [
      "Found a match!\n",
      "Found a match!\n",
      "Found a match!\n"
     ]
    }
   ],
   "source": [
    "import re\n",
    "\n",
    "def text_match(text):\n",
    "    patterns = 'ab*'\n",
    "    if re.search(patterns,  text):\n",
    "        return 'Found a match!'\n",
    "    else:\n",
    "        return 'Not matched!'\n",
    "\n",
    "# Test cases\n",
    "print(text_match(\"ac\"))  \n",
    "print(text_match(\"abc\")) \n",
    "print(text_match(\"abbc\"))\n"
   ]
  },
  {
   "cell_type": "code",
   "execution_count": 75,
   "metadata": {},
   "outputs": [
    {
     "name": "stdout",
     "output_type": "stream",
     "text": [
      "Found a match!\n",
      "Found a match!\n"
     ]
    }
   ],
   "source": [
    "import re\n",
    "\n",
    "def text_match(text):\n",
    "    patterns = 'ab+'\n",
    "    if re.search(patterns,  text):\n",
    "        return 'Found a match!'\n",
    "    else:\n",
    "        return 'Not matched!'\n",
    "\n",
    "# Test cases\n",
    "print(text_match(\"ab\"))\n",
    "print(text_match(\"abc\"))\n"
   ]
  },
  {
   "cell_type": "code",
   "execution_count": 76,
   "metadata": {},
   "outputs": [
    {
     "name": "stdout",
     "output_type": "stream",
     "text": [
      "Found a match!\n",
      "Found a match!\n",
      "Found a match!\n",
      "Found a match!\n"
     ]
    }
   ],
   "source": [
    "import re\n",
    "\n",
    "def text_match(text):\n",
    "    patterns = 'ab?'\n",
    "    if re.search(patterns,  text):\n",
    "        return 'Found a match!'\n",
    "    else:\n",
    "        return 'Not matched!'\n",
    "\n",
    "# Test cases\n",
    "print(text_match(\"ab\"))     \n",
    "print(text_match(\"abc\"))    \n",
    "print(text_match(\"abbc\")) \n",
    "print(text_match(\"aabbc\"))\n"
   ]
  },
  {
   "cell_type": "code",
   "execution_count": 77,
   "metadata": {},
   "outputs": [
    {
     "name": "stdout",
     "output_type": "stream",
     "text": [
      "Found a match!\n",
      "Found a match!\n"
     ]
    }
   ],
   "source": [
    "import re\n",
    "\n",
    "def text_match(text):\n",
    "    patterns = 'ab{3}'\n",
    "    if re.search(patterns,  text):\n",
    "        return 'Found a match!'\n",
    "    else:\n",
    "        return 'Not matched!'\n",
    "\n",
    "# Test cases\n",
    "print(text_match(\"abbb\"))     \n",
    "print(text_match(\"aabbbbbc\")) \n"
   ]
  },
  {
   "cell_type": "code",
   "execution_count": 78,
   "metadata": {},
   "outputs": [
    {
     "name": "stdout",
     "output_type": "stream",
     "text": [
      "Not matched!\n",
      "Found a match!\n"
     ]
    }
   ],
   "source": [
    "import re\n",
    "\n",
    "def text_match(text):\n",
    "    patterns = 'ab{2,3}'\n",
    "    if re.search(patterns,  text):\n",
    "        return 'Found a match!'\n",
    "    else:\n",
    "        return 'Not matched!'\n",
    "\n",
    "# Test cases\n",
    "print(text_match(\"ab\"))       \n",
    "print(text_match(\"aabbbbbc\"))\n"
   ]
  },
  {
   "cell_type": "code",
   "execution_count": 79,
   "metadata": {},
   "outputs": [
    {
     "name": "stdout",
     "output_type": "stream",
     "text": [
      "Found a match!\n",
      "Not matched!\n",
      "Not matched!\n"
     ]
    }
   ],
   "source": [
    "import re\n",
    "\n",
    "def text_match(text):\n",
    "    patterns = '^[a-z]+_[a-z]+$'\n",
    "    if re.search(patterns,  text):\n",
    "        return 'Found a match!'\n",
    "    else:\n",
    "        return 'Not matched!'\n",
    "\n",
    "# Test cases\n",
    "print(text_match(\"aab_cbbbc\"))\n",
    "print(text_match(\"aab_Abbbc\"))\n",
    "print(text_match(\"Aaab_abbbc\"))\n"
   ]
  },
  {
   "cell_type": "code",
   "execution_count": 80,
   "metadata": {},
   "outputs": [
    {
     "name": "stdout",
     "output_type": "stream",
     "text": [
      "Not matched!\n",
      "Not matched!\n",
      "Not matched!\n"
     ]
    }
   ],
   "source": [
    "import re\n",
    "\n",
    "def text_match(text):\n",
    "    patterns = '^[A-Z][a-z]+$'\n",
    "    if re.search(patterns,  text):\n",
    "        return 'Found a match!'\n",
    "    else:\n",
    "        return 'Not matched!'\n",
    "\n",
    "# Test cases\n",
    "print(text_match(\"aab_cbbbc\"))\n",
    "print(text_match(\"aab_Abbbc\"))\n",
    "print(text_match(\"Aaab_abbbc\"))\n"
   ]
  },
  {
   "cell_type": "code",
   "execution_count": 81,
   "metadata": {},
   "outputs": [
    {
     "name": "stdout",
     "output_type": "stream",
     "text": [
      "Not matched!\n",
      "Not matched!\n",
      "Found a match!\n"
     ]
    }
   ],
   "source": [
    "import re\n",
    "\n",
    "def text_match(text):\n",
    "    patterns = 'a.*b$'\n",
    "    if re.search(patterns,  text):\n",
    "        return 'Found a match!'\n",
    "    else:\n",
    "        return 'Not matched!'\n",
    "\n",
    "# Test cases\n",
    "print(text_match(\"aabbbbd\"))  \n",
    "print(text_match(\"aabAbbbc\")) \n",
    "print(text_match(\"accddbbjjjb\")) \n"
   ]
  },
  {
   "cell_type": "code",
   "execution_count": 82,
   "metadata": {},
   "outputs": [
    {
     "name": "stdout",
     "output_type": "stream",
     "text": [
      "Found a match!\n",
      "Not matched!\n"
     ]
    },
    {
     "name": "stderr",
     "output_type": "stream",
     "text": [
      "<>:4: SyntaxWarning: invalid escape sequence '\\w'\n",
      "<>:4: SyntaxWarning: invalid escape sequence '\\w'\n",
      "C:\\Users\\Areeb\\AppData\\Local\\Temp\\ipykernel_2376\\2975437967.py:4: SyntaxWarning: invalid escape sequence '\\w'\n",
      "  patterns = '^\\w+'\n"
     ]
    }
   ],
   "source": [
    "import re\n",
    "\n",
    "def text_match(text):\n",
    "    patterns = '^\\w+'\n",
    "    if re.search(patterns,  text):\n",
    "        return 'Found a match!'\n",
    "    else:\n",
    "        return 'Not matched!'\n",
    "\n",
    "# Test cases\n",
    "print(text_match(\"The quick brown fox jumps over the lazy dog.\"))\n",
    "print(text_match(\" The quick brown fox jumps over the lazy dog.\"))\n"
   ]
  },
  {
   "cell_type": "code",
   "execution_count": 83,
   "metadata": {},
   "outputs": [
    {
     "name": "stdout",
     "output_type": "stream",
     "text": [
      "Found a match!\n",
      "Not matched!\n",
      "Not matched!\n"
     ]
    }
   ],
   "source": [
    "import re\n",
    "\n",
    "def text_match(text):\n",
    "    patterns = r'\\b\\w+\\b[.,?!]*$'\n",
    "    if re.search(patterns,  text):\n",
    "        return 'Found a match!'\n",
    "    else:\n",
    "        return 'Not matched!'\n",
    "\n",
    "# Test cases\n",
    "print(text_match(\"The quick brown fox jumps over the lazy dog.\"))\n",
    "print(text_match(\"The quick brown fox jumps over the lazy dog. \"))\n",
    "print(text_match(\"The quick brown fox jumps over the lazy dog \"))\n"
   ]
  },
  {
   "cell_type": "code",
   "execution_count": 84,
   "metadata": {},
   "outputs": [
    {
     "name": "stdout",
     "output_type": "stream",
     "text": [
      "Found a match!\n",
      "Not matched!\n"
     ]
    }
   ],
   "source": [
    "import re\n",
    "\n",
    "def text_match(text):\n",
    "    patterns = r'\\b\\w*z\\w*\\b'\n",
    "    if re.search(patterns,  text):\n",
    "        return 'Found a match!'\n",
    "    else:\n",
    "        return 'Not matched!'\n",
    "\n",
    "# Test cases\n",
    "print(text_match(\"The quick brown fox jumps over the lazy dog.\"))\n",
    "print(text_match(\"Python Exercises.\"))\n"
   ]
  },
  {
   "cell_type": "code",
   "execution_count": 85,
   "metadata": {},
   "outputs": [
    {
     "name": "stdout",
     "output_type": "stream",
     "text": [
      "Found a match!\n",
      "Not matched!\n"
     ]
    }
   ],
   "source": [
    "import re\n",
    "\n",
    "def text_match(text):\n",
    "    patterns = r'\\Bz\\B'\n",
    "    if re.search(patterns,  text):\n",
    "        return 'Found a match!'\n",
    "    else:\n",
    "        return 'Not matched!'\n",
    "\n",
    "# Test cases\n",
    "print(text_match(\"The quick brown fox jumps over the lazy dog.\"))\n",
    "print(text_match(\"Python Exercises.\"))\n"
   ]
  },
  {
   "cell_type": "code",
   "execution_count": 86,
   "metadata": {},
   "outputs": [
    {
     "name": "stdout",
     "output_type": "stream",
     "text": [
      "Not matched!\n",
      "Found a match!\n"
     ]
    }
   ],
   "source": [
    "import re\n",
    "\n",
    "def text_match(text):\n",
    "    patterns = r'^[a-zA-Z0-9_]*$'\n",
    "    if re.search(patterns,  text):\n",
    "        return 'Found a match!'\n",
    "    else:\n",
    "        return 'Not matched!'\n",
    "\n",
    "# Test cases\n",
    "print(text_match(\"The quick brown fox jumps over the lazy dog.\"))\n",
    "print(text_match(\"Python_Exercises_1\"))\n"
   ]
  },
  {
   "cell_type": "code",
   "execution_count": 87,
   "metadata": {},
   "outputs": [
    {
     "name": "stdout",
     "output_type": "stream",
     "text": [
      "True\n",
      "False\n"
     ]
    }
   ],
   "source": [
    "import re\n",
    "\n",
    "def match_num(string):\n",
    "    text = re.compile(r\"^5\")\n",
    "    if text.match(string):\n",
    "        return True\n",
    "    else:\n",
    "        return False\n",
    "\n",
    "# Test cases\n",
    "print(match_num('5-2345861'))\n",
    "print(match_num('6-2345861'))\n"
   ]
  },
  {
   "cell_type": "code",
   "execution_count": 88,
   "metadata": {},
   "outputs": [
    {
     "name": "stdout",
     "output_type": "stream",
     "text": [
      "216.8.94.196\n"
     ]
    }
   ],
   "source": [
    "import re\n",
    "\n",
    "ip = \"216.08.094.196\"\n",
    "string = re.sub(r'\\b0+(\\d+)', r'\\1', ip)\n",
    "print(string)\n"
   ]
  },
  {
   "cell_type": "code",
   "execution_count": 89,
   "metadata": {},
   "outputs": [
    {
     "name": "stdout",
     "output_type": "stream",
     "text": [
      "False\n",
      "True\n"
     ]
    }
   ],
   "source": [
    "import re\n",
    "\n",
    "def end_num(string):\n",
    "    text = re.compile(r\".*[0-9]$\")\n",
    "    if text.match(string):\n",
    "        return True\n",
    "    else:\n",
    "        return False\n",
    "\n",
    "# Test cases\n",
    "print(end_num('abcdef'))\n",
    "print(end_num('abcdef6'))\n"
   ]
  },
  {
   "cell_type": "code",
   "execution_count": 90,
   "metadata": {},
   "outputs": [
    {
     "name": "stdout",
     "output_type": "stream",
     "text": [
      "Numbers of length 1 to 3:\n",
      "1\n",
      "12\n",
      "13\n",
      "345\n"
     ]
    }
   ],
   "source": [
    "import re\n",
    "\n",
    "results = re.finditer(r\"\\b[0-9]{1,3}\\b\", \"Exercises number 1, 12, 13, and 345 are important\")\n",
    "print(\"Numbers of length 1 to 3:\")\n",
    "for n in results:\n",
    "    print(n.group(0))\n"
   ]
  },
  {
   "cell_type": "code",
   "execution_count": 91,
   "metadata": {},
   "outputs": [
    {
     "name": "stdout",
     "output_type": "stream",
     "text": [
      "Found \"fox\" in \"The quick brown fox jumps over the lazy dog.\" -> Matched!\n",
      "Found \"dog\" in \"The quick brown fox jumps over the lazy dog.\" -> Matched!\n",
      "Not found \"horse\" in \"The quick brown fox jumps over the lazy dog.\" -> Not matched!\n"
     ]
    }
   ],
   "source": [
    "import re\n",
    "\n",
    "patterns = ['fox', 'dog', 'horse']\n",
    "text = 'The quick brown fox jumps over the lazy dog.'\n",
    "for pattern in patterns:\n",
    "    if re.search(pattern, text):\n",
    "        print(f'Found \"{pattern}\" in \"{text}\" -> Matched!')\n",
    "    else:\n",
    "        print(f'Not found \"{pattern}\" in \"{text}\" -> Not matched!')\n"
   ]
  },
  {
   "cell_type": "code",
   "execution_count": 92,
   "metadata": {},
   "outputs": [
    {
     "name": "stdout",
     "output_type": "stream",
     "text": [
      "Found \"fox\" in \"The quick brown fox jumps over the lazy dog.\" from 16 to 19\n"
     ]
    }
   ],
   "source": [
    "import re\n",
    "\n",
    "pattern = 'fox'\n",
    "text = 'The quick brown fox jumps over the lazy dog.'\n",
    "match = re.search(pattern, text)\n",
    "if match:\n",
    "    s = match.start()\n",
    "    e = match.end()\n",
    "    print(f'Found \"{match.re.pattern}\" in \"{match.string}\" from {s} to {e}')\n",
    "else:\n",
    "    print(f'Not found \"{pattern}\" in \"{text}\"')\n"
   ]
  },
  {
   "cell_type": "code",
   "execution_count": 93,
   "metadata": {},
   "outputs": [
    {
     "name": "stdout",
     "output_type": "stream",
     "text": [
      "Found \"exercises\"\n",
      "Found \"exercises\"\n",
      "Found \"exercises\"\n"
     ]
    }
   ],
   "source": [
    "import re\n",
    "\n",
    "text = 'Python exercises, PHP exercises, C# exercises'\n",
    "pattern = 'exercises'\n",
    "for match in re.findall(pattern, text):\n",
    "    print(f'Found \"{match}\"')\n"
   ]
  },
  {
   "cell_type": "code",
   "execution_count": 94,
   "metadata": {},
   "outputs": [
    {
     "name": "stdout",
     "output_type": "stream",
     "text": [
      "Found \"exercises\" at 7:16\n",
      "Found \"exercises\" at 22:31\n",
      "Found \"exercises\" at 36:45\n"
     ]
    }
   ],
   "source": [
    "import re\n",
    "\n",
    "text = 'Python exercises, PHP exercises, C# exercises'\n",
    "pattern = 'exercises'\n",
    "for match in re.finditer(pattern, text):\n",
    "    s = match.start()\n",
    "    e = match.end()\n",
    "    print(f'Found \"{text[s:e]}\" at {s}:{e}')\n"
   ]
  },
  {
   "cell_type": "code",
   "execution_count": 95,
   "metadata": {},
   "outputs": [
    {
     "name": "stdout",
     "output_type": "stream",
     "text": [
      "Python_Exercises\n",
      "Python Exercises\n"
     ]
    }
   ],
   "source": [
    "text = 'Python Exercises'\n",
    "text = text.replace(\" \", \"_\")\n",
    "print(text)\n",
    "\n",
    "text = text.replace(\"_\", \" \")\n",
    "print(text)\n"
   ]
  },
  {
   "cell_type": "code",
   "execution_count": 96,
   "metadata": {},
   "outputs": [
    {
     "name": "stdout",
     "output_type": "stream",
     "text": [
      "[('2016', '09', '02')]\n"
     ]
    }
   ],
   "source": [
    "import re\n",
    "\n",
    "def extract_date(url):\n",
    "    return re.findall(r'/(\\d{4})/(\\d{1,2})/(\\d{1,2})/', url)\n",
    "\n",
    "url1 = \"https://www.washingtonpost.com/news/football-insider/wp/2016/09/02/odell-beckhams-fame-rests-on-one-stupid-little-ball-josh-norman-tells-author/\"\n",
    "print(extract_date(url1))\n"
   ]
  },
  {
   "cell_type": "code",
   "execution_count": 97,
   "metadata": {},
   "outputs": [
    {
     "name": "stdout",
     "output_type": "stream",
     "text": [
      "Original date in YYY-MM-DD Format: 2026-01-02\n",
      "New date in DD-MM-YYYY Format: 02-01-2026\n"
     ]
    }
   ],
   "source": [
    "import re\n",
    "\n",
    "def change_date_format(dt):\n",
    "    return re.sub(r'(\\d{4})-(\\d{1,2})-(\\d{1,2})', r'\\3-\\2-\\1', dt)\n",
    "\n",
    "dt1 = \"2026-01-02\"\n",
    "print(f\"Original date in YYY-MM-DD Format: {dt1}\")\n",
    "print(f\"New date in DD-MM-YYYY Format: {change_date_format(dt1)}\")\n"
   ]
  },
  {
   "cell_type": "code",
   "execution_count": 98,
   "metadata": {},
   "outputs": [
    {
     "name": "stdout",
     "output_type": "stream",
     "text": [
      "['Python', 'Perl', 'PHP']\n"
     ]
    }
   ],
   "source": [
    "import re\n",
    "\n",
    "def match_words(words):\n",
    "    patterns = r'\\b[Pp]\\w+\\b'\n",
    "    matched_words = [word for word in words if re.search(patterns, word)]\n",
    "    return matched_words\n",
    "\n",
    "words = ['Python', 'Java', 'Perl', 'PHP', 'C++']\n",
    "print(match_words(words)) \n"
   ]
  },
  {
   "cell_type": "code",
   "execution_count": 99,
   "metadata": {},
   "outputs": [
    {
     "name": "stdout",
     "output_type": "stream",
     "text": [
      "['10', '20', '30']\n"
     ]
    }
   ],
   "source": [
    "import re\n",
    "\n",
    "def separate_numbers(text):\n",
    "    numbers = re.findall(r'\\d+', text)\n",
    "    return numbers\n",
    "\n",
    "text = \"Ten 10, Twenty 20, Thirty 30\"\n",
    "numbers = separate_numbers(text)\n",
    "print(numbers) \n"
   ]
  },
  {
   "cell_type": "code",
   "execution_count": 106,
   "metadata": {},
   "outputs": [
    {
     "name": "stdout",
     "output_type": "stream",
     "text": [
      "['example', 'an', 'ArrayList', 'elements', 'elements', 'are', 'added', 'ArrayList', 'and', 'ArrayList', 'accordingly']\n"
     ]
    }
   ],
   "source": [
    "import re\n",
    "\n",
    "def words_starting_with_a_or_e(text):\n",
    "    words = re.findall(r'\\b[aeAE]\\w+', text)\n",
    "    return words\n",
    "\n",
    "text = \"The following example creates an ArrayList with a capacity of 50 elements. Four elements are then added to the ArrayList and the ArrayList is trimmed accordingly.\"\n",
    "words = words_starting_with_a_or_e(text)\n",
    "print(words)\n"
   ]
  },
  {
   "cell_type": "code",
   "execution_count": 104,
   "metadata": {},
   "outputs": [
    {
     "name": "stdout",
     "output_type": "stream",
     "text": [
      "Number: 50, Index position: 62\n"
     ]
    }
   ],
   "source": [
    "import re\n",
    "\n",
    "def find_numbers_and_positions(text):\n",
    "    for m in re.finditer(r'\\d+', text):\n",
    "        print(f'Number: {m.group(0)}, Index position: {m.start()}')\n",
    "\n",
    "text = \"The following example creates an ArrayList with a capacity of 50 elements. Four elements are then added to the ArrayList and the ArrayList is trimmed accordingly.\"\n",
    "find_numbers_and_positions(text)\n"
   ]
  },
  {
   "cell_type": "code",
   "execution_count": 105,
   "metadata": {},
   "outputs": [
    {
     "name": "stdout",
     "output_type": "stream",
     "text": [
      "27 Areeb Rd.\n"
     ]
    }
   ],
   "source": [
    "import re\n",
    "\n",
    "street = '27 Areeb Road'\n",
    "abbreviated_street = re.sub(r'\\bRoad\\b', 'Rd.', street)\n",
    "print(abbreviated_street)\n"
   ]
  },
  {
   "cell_type": "code",
   "execution_count": null,
   "metadata": {},
   "outputs": [],
   "source": []
  }
 ],
 "metadata": {
  "kernelspec": {
   "display_name": "base",
   "language": "python",
   "name": "python3"
  },
  "language_info": {
   "codemirror_mode": {
    "name": "ipython",
    "version": 3
   },
   "file_extension": ".py",
   "mimetype": "text/x-python",
   "name": "python",
   "nbconvert_exporter": "python",
   "pygments_lexer": "ipython3",
   "version": "3.12.2"
  }
 },
 "nbformat": 4,
 "nbformat_minor": 2
}
