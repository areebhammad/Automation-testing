{
 "cells": [
  {
   "cell_type": "code",
   "execution_count": 36,
   "metadata": {},
   "outputs": [
    {
     "name": "stdout",
     "output_type": "stream",
     "text": [
      "[0, 1, 4, 9, 16, 25, 36, 49, 64, 81]\n"
     ]
    }
   ],
   "source": [
    "# Create a list of squares of numbers from 0 to 9\n",
    "squares = [x**2 for x in range(10)]\n",
    "print(squares)\n"
   ]
  },
  {
   "cell_type": "code",
   "execution_count": 37,
   "metadata": {},
   "outputs": [
    {
     "name": "stdout",
     "output_type": "stream",
     "text": [
      "{0: 0, 1: 1, 2: 4, 3: 9, 4: 16}\n"
     ]
    }
   ],
   "source": [
    "# Create a dictionary of squares of numbers from 0 to 4\n",
    "square_dict = {x: x**2 for x in range(5)}\n",
    "print(square_dict)"
   ]
  },
  {
   "cell_type": "code",
   "execution_count": 38,
   "metadata": {},
   "outputs": [
    {
     "name": "stdout",
     "output_type": "stream",
     "text": [
      "Letter frequencies:-\n",
      "h: 1\n",
      "e: 1\n",
      "l: 3\n",
      "o: 2\n",
      "w: 1\n",
      "r: 1\n",
      "d: 1\n"
     ]
    }
   ],
   "source": [
    "text = \"hello world\"\n",
    "\n",
    "letter_freq = {char: text.count(char) for char in text if char.isalpha()}\n",
    "\n",
    "print(\"Letter frequencies:-\")\n",
    "for letter, freq in letter_freq.items():\n",
    "    print(f\"{letter}: {freq}\")"
   ]
  },
  {
   "cell_type": "code",
   "execution_count": 39,
   "metadata": {},
   "outputs": [
    {
     "name": "stdout",
     "output_type": "stream",
     "text": [
      "<re.Match object; span=(0, 6), match='python'>\n",
      "<class 're.Match'>\n",
      "found python\n"
     ]
    }
   ],
   "source": [
    "import re\n",
    "#Pattern to search\n",
    "pattern=\"python\"\n",
    "data1=\"python is very powerful and python has lots of features\"\n",
    "\n",
    "match=re.search(pattern, data1)\n",
    "print(match)\n",
    "print(type (match))\n",
    "\n",
    "if match:\n",
    "    print(\"found\", match.group())\n",
    "else:\n",
    "    print(\"Not found\")"
   ]
  },
  {
   "cell_type": "code",
   "execution_count": 40,
   "metadata": {},
   "outputs": [
    {
     "name": "stdout",
     "output_type": "stream",
     "text": [
      "<re.Match object; span=(14, 15), match='1'>\n",
      "<re.Match object; span=(15, 16), match='0'>\n",
      "<re.Match object; span=(16, 17), match='0'>\n"
     ]
    }
   ],
   "source": [
    "#Find digits in given data\n",
    "import re\n",
    "#Compile a regular expression pattern, returning a Pattern object.\n",
    "pattern=re.compile('[0-9]')\n",
    "#data to search in..\n",
    "data=\"The price is $100.\"\n",
    "#Return a list of all non-overlapping matches in the string.\n",
    "matche_iter=re.finditer (pattern, data)\n",
    "for match in matche_iter:\n",
    "    print(match)"
   ]
  },
  {
   "cell_type": "code",
   "execution_count": 41,
   "metadata": {},
   "outputs": [
    {
     "name": "stdout",
     "output_type": "stream",
     "text": [
      "digit present\n"
     ]
    }
   ],
   "source": [
    "#Find digits in given data\n",
    "import re\n",
    "#Compile a regular expression pattern, returning a Pattern object.\n",
    "pattern=re.compile(\"\\\\d\")\n",
    "#data to search in..\n",
    "data=\"The pri4ce is $.\"\n",
    "#Return a list of all non-overlapping matches in the string.\n",
    "matche_list=re.findall (pattern, data)\n",
    "if matche_list:\n",
    "    print(\"digit present\")\n",
    "else:\n",
    "    print(\"digit not present\")"
   ]
  },
  {
   "cell_type": "code",
   "execution_count": 42,
   "metadata": {},
   "outputs": [
    {
     "name": "stdout",
     "output_type": "stream",
     "text": [
      "vowels is present\n"
     ]
    }
   ],
   "source": [
    "#Find digits in given data\n",
    "import re\n",
    "#Compile a regular expression pattern, returning a Pattern object.\n",
    "pattern=re.compile('[aeiou]')\n",
    "#data to search in..\n",
    "data=\"The price is $.\"\n",
    "#Return a list of all non-overlapping matches in the string.\n",
    "matche_list=re.findall (pattern, data)\n",
    "if matche_list:\n",
    "    print(\"vowels is present\")\n",
    "else:\n",
    "    print(\"vowels not present\")"
   ]
  },
  {
   "cell_type": "code",
   "execution_count": 43,
   "metadata": {},
   "outputs": [],
   "source": [
    "# \\d: Matches any digit character\n",
    "# \\D: Matches any non-digit character\n",
    "# \\w: Matches any word character(alphanumeric plus underscore)\n",
    "# W: Matches any non-word Character.\n",
    "# \\s: Matches any whitespace character(spaces, tabs, newlines)\n",
    "# \\S: Matches any non-white space character\n",
    "# \\b: Matches a word boundary\n",
    "# \\A: startswith\n",
    "# \\Z: endswith\n",
    "# .: Matches any character"
   ]
  },
  {
   "cell_type": "code",
   "execution_count": 44,
   "metadata": {},
   "outputs": [
    {
     "name": "stdout",
     "output_type": "stream",
     "text": [
      "0 0 \n",
      "4 4 \n",
      "6 6 \n",
      "8 8 \n",
      "9 9 \n",
      "14 14 \n",
      "15 15 \n",
      "21 21 \n",
      "22 22 \n",
      "24 24 \n",
      "25 25 \n",
      "28 28 \n"
     ]
    }
   ],
   "source": [
    "import re\n",
    "#Compile a regular expression pattern, returning a Pattern object. pattern-re.compile(r)\n",
    "#data to search in..\n",
    "pattern=re.compile(r'\\b')\n",
    "data=\"Help, my phone number is 123\"\n",
    "#Return a list of all non-overlapping matches in the string. match_iter-re.finditer(pattern, data)\n",
    "match_iter=re.finditer(pattern,data)\n",
    "\n",
    "for match in match_iter:\n",
    "    print(match.start(),match.end(),match.group())"
   ]
  },
  {
   "cell_type": "code",
   "execution_count": 23,
   "metadata": {},
   "outputs": [],
   "source": [
    "# A regular expression (regex) is a special text string used for describing a search pattern. It is useful for extracting information from text such as code, files, logs, spreadsheets, or even documents."
   ]
  },
  {
   "cell_type": "code",
   "execution_count": 45,
   "metadata": {},
   "outputs": [],
   "source": [
    "import re"
   ]
  },
  {
   "cell_type": "code",
   "execution_count": null,
   "metadata": {},
   "outputs": [],
   "source": []
  },
  {
   "cell_type": "code",
   "execution_count": null,
   "metadata": {},
   "outputs": [],
   "source": []
  },
  {
   "cell_type": "code",
   "execution_count": 24,
   "metadata": {},
   "outputs": [
    {
     "name": "stdout",
     "output_type": "stream",
     "text": [
      "Found 'a' in 'cat' at index 1\n"
     ]
    }
   ],
   "source": [
    "pattern = 'a'\n",
    "text = 'cat'\n",
    "match = re.search(pattern, text)\n",
    "if match:\n",
    "    print(f\"Found '{pattern}' in '{text}' at index {match.start()}\")"
   ]
  },
  {
   "cell_type": "code",
   "execution_count": 25,
   "metadata": {},
   "outputs": [
    {
     "name": "stdout",
     "output_type": "stream",
     "text": [
      "Found 'python' in 'python is a programming language' at index 0-6\n"
     ]
    }
   ],
   "source": [
    "import re\n",
    "\n",
    "pattern = 'python'\n",
    "text = 'python is a programming language'\n",
    "match = re.search(pattern, text)\n",
    "if match:\n",
    "    print(f\"Found '{pattern}' in '{text}' at index {match.start()}-{match.end()}\")"
   ]
  },
  {
   "cell_type": "code",
   "execution_count": 26,
   "metadata": {},
   "outputs": [
    {
     "name": "stdout",
     "output_type": "stream",
     "text": [
      "Found matches: ['python', 'python']\n"
     ]
    }
   ],
   "source": [
    "import re\n",
    "\n",
    "pattern = 'python'\n",
    "text = 'python is a programming language and python is popular'\n",
    "matches = re.findall(pattern, text)\n",
    "print(f\"Found matches: {matches}\")"
   ]
  },
  {
   "cell_type": "code",
   "execution_count": 27,
   "metadata": {},
   "outputs": [
    {
     "name": "stdout",
     "output_type": "stream",
     "text": [
      "Found matches: ['ab', 'ab']\n"
     ]
    }
   ],
   "source": [
    "import re\n",
    "\n",
    "pattern = re.compile('ab')\n",
    "text = 'abcab'\n",
    "matches = pattern.findall(text)\n",
    "print(f\"Found matches: {matches}\")\n"
   ]
  },
  {
   "cell_type": "code",
   "execution_count": 28,
   "metadata": {},
   "outputs": [
    {
     "name": "stdout",
     "output_type": "stream",
     "text": [
      "0 ... 6 ... python\n",
      "21 ... 27 ... python\n"
     ]
    }
   ],
   "source": [
    "import re\n",
    "\n",
    "pattern = re.compile('python')\n",
    "text = 'python is a prog and python is high level'\n",
    "matcher = pattern.finditer(text)\n",
    "for match in matcher:\n",
    "    print(match.start(), \"...\", match.end(), \"...\", match.group())"
   ]
  },
  {
   "cell_type": "code",
   "execution_count": 29,
   "metadata": {},
   "outputs": [
    {
     "name": "stdout",
     "output_type": "stream",
     "text": [
      "0 ... 1 ... a\n",
      "1 ... 2 ... b\n",
      "2 ... 3 ... c\n"
     ]
    }
   ],
   "source": [
    "import re\n",
    "\n",
    "pattern = '[abc]'\n",
    "text = 'abcdef'\n",
    "matches = re.finditer(pattern, text)\n",
    "for match in matches:\n",
    "    print(match.start(), \"...\", match.end(), \"...\", match.group())"
   ]
  },
  {
   "cell_type": "code",
   "execution_count": 30,
   "metadata": {},
   "outputs": [
    {
     "name": "stdout",
     "output_type": "stream",
     "text": [
      "3 ... 4 ... d\n",
      "4 ... 5 ... e\n",
      "5 ... 6 ... f\n"
     ]
    }
   ],
   "source": [
    "import re\n",
    "\n",
    "pattern = '[^abc]'\n",
    "text = 'abcdef'\n",
    "matches = re.finditer(pattern, text)\n",
    "for match in matches:\n",
    "    print(match.start(), \"...\", match.end(), \"...\", match.group())\n"
   ]
  },
  {
   "cell_type": "code",
   "execution_count": 31,
   "metadata": {},
   "outputs": [
    {
     "name": "stdout",
     "output_type": "stream",
     "text": [
      "0 ... 1 ... a\n",
      "1 ... 2 ... b\n",
      "2 ... 3 ... c\n",
      "3 ... 4 ... d\n",
      "4 ... 5 ... e\n",
      "5 ... 6 ... y\n"
     ]
    }
   ],
   "source": [
    "import re\n",
    "\n",
    "pattern = '[a-z]'\n",
    "text = 'abcdeyAB12'\n",
    "matches = re.finditer(pattern, text)\n",
    "for match in matches:\n",
    "    print(match.start(), \"...\", match.end(), \"...\", match.group())\n"
   ]
  },
  {
   "cell_type": "code",
   "execution_count": 32,
   "metadata": {},
   "outputs": [
    {
     "name": "stdout",
     "output_type": "stream",
     "text": [
      "6 ... 7 ... A\n",
      "7 ... 8 ... B\n",
      "8 ... 9 ... Z\n"
     ]
    }
   ],
   "source": [
    "import re\n",
    "\n",
    "pattern = '[A-Z]'\n",
    "text = 'abcdeyABZ12'\n",
    "matches = re.finditer(pattern, text)\n",
    "for match in matches:\n",
    "    print(match.start(), \"...\", match.end(), \"...\", match.group())"
   ]
  },
  {
   "cell_type": "code",
   "execution_count": 33,
   "metadata": {},
   "outputs": [
    {
     "name": "stdout",
     "output_type": "stream",
     "text": [
      "0 ... 1 ... a\n",
      "1 ... 2 ... b\n",
      "2 ... 3 ... c\n",
      "3 ... 4 ... d\n",
      "4 ... 5 ... e\n",
      "5 ... 6 ... y\n",
      "6 ... 7 ... A\n",
      "7 ... 8 ... B\n",
      "8 ... 9 ... Z\n",
      "9 ... 10 ... 1\n",
      "10 ... 11 ... 2\n"
     ]
    }
   ],
   "source": [
    "import re\n",
    "\n",
    "pattern = '[a-zA-Z0-9]'\n",
    "text = 'abcdeyABZ12'\n",
    "matches = re.finditer(pattern, text)\n",
    "for match in matches:\n",
    "    print(match.start(), \"...\", match.end(), \"...\", match.group())"
   ]
  },
  {
   "cell_type": "code",
   "execution_count": 48,
   "metadata": {},
   "outputs": [
    {
     "name": "stdout",
     "output_type": "stream",
     "text": [
      "11 ... 12 ... #\n",
      "12 ... 13 ... $\n",
      "13 ... 14 ... %\n"
     ]
    }
   ],
   "source": [
    "import re\n",
    "\n",
    "pattern = '[^a-zA-Z0-9]'\n",
    "text = 'abcdeyABZ12#$%'\n",
    "\n",
    "matches = re.finditer(pattern, text)\n",
    "for match in matches:\n",
    "    print(match.start(), \"...\", match.end(), \"...\", match.group())\n"
   ]
  },
  {
   "cell_type": "code",
   "execution_count": 49,
   "metadata": {},
   "outputs": [
    {
     "name": "stdout",
     "output_type": "stream",
     "text": [
      "0 ... 3 ... aaa\n",
      "4 ... 7 ... aaa\n"
     ]
    }
   ],
   "source": [
    "import re\n",
    "\n",
    "pattern = 'a+'\n",
    "text = 'aaabaaa'\n",
    "matches = re.finditer(pattern, text)\n",
    "for match in matches:\n",
    "    print(match.start(), \"...\", match.end(), \"...\", match.group())"
   ]
  },
  {
   "cell_type": "code",
   "execution_count": 46,
   "metadata": {},
   "outputs": [],
   "source": [
    "# Important Functions in the re Module\n",
    "# match(): Checks for a match only at the beginning of the string.\n",
    "# fullmatch(): Checks if the entire string matches the pattern.\n",
    "# search(): Searches the string for a match anywhere.\n",
    "# findall(): Returns a list of all matches in the string.\n",
    "# finditer(): Returns an iterator yielding match objects.\n",
    "# sub(): Replaces matches with a string.\n",
    "# subn(): Same as sub(), but returns the number of substitutions.\n",
    "# split(): Splits the string by matches of the pattern.\n",
    "# compile(): Compiles a regex pattern into a RegexObject."
   ]
  },
  {
   "cell_type": "code",
   "execution_count": null,
   "metadata": {},
   "outputs": [],
   "source": []
  }
 ],
 "metadata": {
  "kernelspec": {
   "display_name": "base",
   "language": "python",
   "name": "python3"
  },
  "language_info": {
   "codemirror_mode": {
    "name": "ipython",
    "version": 3
   },
   "file_extension": ".py",
   "mimetype": "text/x-python",
   "name": "python",
   "nbconvert_exporter": "python",
   "pygments_lexer": "ipython3",
   "version": "3.12.2"
  }
 },
 "nbformat": 4,
 "nbformat_minor": 2
}
