{
 "cells": [
  {
   "cell_type": "code",
   "execution_count": 17,
   "metadata": {},
   "outputs": [
    {
     "name": "stdout",
     "output_type": "stream",
     "text": [
      "[1, 3, 5, 7]\n",
      "[5, 7, 9]\n"
     ]
    }
   ],
   "source": [
    "# The filter() function is used to filter elements of a sequence based on a function that returns True or False. Here's the corrected example:\n",
    "numbers = [1, 2, 3, 4, 5, 6, 7]\n",
    "filtered_numbers = filter(lambda n: n % 2 != 0, numbers)\n",
    "print(list(filtered_numbers))  # Output: [1, 3, 5, 7]\n"
   ]
  },
  {
   "cell_type": "code",
   "execution_count": 16,
   "metadata": {},
   "outputs": [
    {
     "name": "stdout",
     "output_type": "stream",
     "text": [
      "[1, 4, 9, 16, 25]\n"
     ]
    }
   ],
   "source": [
    "# The map() function applies a given function to each item of an iterable (like a list) and returns a map object (which can be converted to another iterable like a list). Here's the corrected example:\n",
    "# Example using map() to square each element in a list\n",
    "l1 = [1, 2, 3, 4, 5]\n",
    "mapped_result = map(lambda n: n * n, l1)\n",
    "print(list(mapped_result))  # Output: [1, 4, 9, 16, 25]"
   ]
  },
  {
   "cell_type": "code",
   "execution_count": 18,
   "metadata": {},
   "outputs": [
    {
     "name": "stdout",
     "output_type": "stream",
     "text": [
      "[5, 7, 9]\n"
     ]
    }
   ],
   "source": [
    "# To add corresponding elements of two lists using map() and lambda, you need to ensure both lists are of the same length. Here's the corrected example:l1=[1,2,3]\n",
    "# Example adding corresponding elements of two lists using map() and lambda\n",
    "l1 = [1, 2, 3]\n",
    "l2 = [4, 5, 6]\n",
    "mapped_result = map(lambda x, y: x + y, l1, l2)\n",
    "print(list(mapped_result))  # Output: [5, 7, 9]"
   ]
  },
  {
   "cell_type": "code",
   "execution_count": null,
   "metadata": {},
   "outputs": [],
   "source": [
    "# To add corresponding elements of two lists using map() and lambda, you need to ensure both lists are of the same length. Here's the corrected example:l1=[1,2,3]\n",
    "# Example adding corresponding elements of two lists using map() and lambda\n",
    "l1 = [1, 2, 3]\n",
    "l2 = [4, 5, 6]\n",
    "mapped_result = map(lambda x, y: x + y, l1, l2)\n",
    "print(list(mapped_result))  # Output: [5, 7, 9]\n",
    "\n",
    "\n",
    "\n",
    "\n"
   ]
  },
  {
   "cell_type": "code",
   "execution_count": null,
   "metadata": {},
   "outputs": [],
   "source": [
    "# ke a list) and returns a map object (which can be converted to another iterable like a list). Here's the corrected example:\n",
    "# Example using map() to square each element in a list\n",
    "l1 = [1, 2, 3, 4, 5]\n",
    "mapped_result = map(lambda n: n * n, l1)\n",
    "print(list(mapped_result))  # Output: [1, 4, 9, 16, 25]\n",
    "\n",
    "# To add corresponding elements of two lists using map() and lambda, you need to ensure both lists are of the same length. Here's the corrected example:l1=[1,2,3]\n",
    "# Example adding corresponding elements of two lists using map() and lambda\n",
    "l1 = [1, 2, 3]\n",
    "l2 = [4, 5, 6]\n",
    "mapped_result = map(lambda x, y: x + y, l1, l2)\n",
    "print(list(mapped_result))  # Output: [5, 7, 9]\n",
    "\n",
    "\n",
    "\n",
    "\n"
   ]
  },
  {
   "cell_type": "code",
   "execution_count": 15,
   "metadata": {},
   "outputs": [
    {
     "name": "stdout",
     "output_type": "stream",
     "text": [
      "15\n",
      "5\n"
     ]
    }
   ],
   "source": [
    "# The reduce() function from the functools module is used to apply a function to all elements of a sequence, continually folding it into a single value. Here's the corrected example:\n",
    "import functools\n",
    "\n",
    "# Example using reduce() to sum all elements in a list\n",
    "numbers = [1, 2, 3, 4, 5]\n",
    "res = functools.reduce(lambda a, b: a + b, numbers)\n",
    "print(res)  # Output: 15\n",
    "\n",
    "\n",
    "# Example using reduce() to find the maximum element in a list\n",
    "res_max = functools.reduce(lambda a, b: a if a > b else b, numbers)\n",
    "print(res_max)  # Output: 5\n",
    "\n"
   ]
  },
  {
   "cell_type": "code",
   "execution_count": 12,
   "metadata": {},
   "outputs": [
    {
     "name": "stdout",
     "output_type": "stream",
     "text": [
      "15\n",
      "5\n"
     ]
    }
   ],
   "source": [
    "import functools\n",
    "\n",
    "numbers = [1, 2, 3, 4, 5]\n",
    "\n",
    "# Using reduce() to sum all elements\n",
    "res_sum = functools.reduce(lambda a, b: a + b, numbers)\n",
    "print(res_sum)  # Output: 15\n",
    "\n",
    "# Using reduce() to find the maximum element\n",
    "res_max = functools.reduce(lambda a, b: a if a > b else b, numbers)\n",
    "print(res_max)  # Output: 5\n"
   ]
  },
  {
   "cell_type": "code",
   "execution_count": 9,
   "metadata": {},
   "outputs": [
    {
     "name": "stdout",
     "output_type": "stream",
     "text": [
      "[2, 4, 6]\n",
      "[1, 3, 5, 7]\n",
      "[1, 4, 9, 16, 25]\n",
      "[5, 7, 9]\n",
      "[1, 4, 3, 16, 5]\n",
      "15\n",
      "5\n",
      "[1, 2]\n",
      "<generator object createGen at 0x0000014E0C846DA0>\n",
      "1\n",
      "2\n",
      "3\n",
      "0\n",
      "1\n",
      "1\n",
      "2\n",
      "3\n"
     ]
    }
   ],
   "source": [
    "#filter() method filters the given sequence with the help of function that tests each element in the sequence\n",
    "#to be true or not.\n",
    "#Syntax: filter(function,sequence)\n",
    " \n",
    "#list contais both even and odd numbers\n",
    "l1=[1,2,3,4,5,6,7]\n",
    "#contains even number in the list\n",
    "f=filter(lambda n:n%2==0,l1)\n",
    "print(list(f))\n",
    " \n",
    "#contains odd number in the list\n",
    "f=filter(lambda n:n%2!=0,l1)\n",
    "print(list(f))\n",
    " \n",
    " \n",
    "#map() function returns a map object of the result after applying the given function to each item of a given\n",
    "#iterable\n",
    " \n",
    "#syntax: map(function,iter)\n",
    " \n",
    "l1=[1,2,3,4,5]\n",
    "m=map(lambda n:n*n,l1)\n",
    "print(list(m))\n",
    " \n",
    "#add two list using map and lambda\n",
    "l1=[1,2,3]\n",
    "l2=[4,5,6]\n",
    "m=map(lambda x,y:x+y,l1,l2)\n",
    "print(list(m))\n",
    " \n",
    "l1=[1,2,3,4,5]\n",
    "#dobles even numbers and leaves odd numbers\n",
    "m=map(lambda n:n*n if n%2==0 else n,l1)\n",
    "print(list(m))\n",
    " \n",
    " \n",
    "#reduce(fun,seq) function is used to apply a particular function passed in its argument to all of the list\n",
    "#element\n",
    " \n",
    "#importing functools for reduce\n",
    "import functools\n",
    "l1=[1,2,3,4,5]\n",
    "res=functools.reduce(lambda a,b:a+b,l1)\n",
    "print(res)\n",
    " \n",
    "res=functools.reduce(lambda a,b:a if a>b else b,l1)\n",
    "print(res)\n",
    "\n",
    "\n",
    "\n",
    "#Generators\n",
    "#A generator in python is a function that returns an iterator using the yield keyword\n",
    "\n",
    "#In python , a generator is a function that returns an iterator that produces a sequence of values\n",
    "#when iterated over.\n",
    "#Generator are useful when we want to produce a large sequence of values,but we don;t want to\n",
    "#store all of them in memory at once.\n",
    "\n",
    "def create():\n",
    "    l=[]\n",
    "    for i in range(1,3):\n",
    "        l.append(i)\n",
    "    return l\n",
    " \n",
    "res=create()\n",
    "print(res)\n",
    "\n",
    "\n",
    "def createGen():\n",
    "    yield 1\n",
    "    yield 2\n",
    "    yield 3\n",
    "\n",
    "x=createGen()\n",
    "print(x)\n",
    "print(next(x))\n",
    "print(next(x))\n",
    "print(next(x))\n",
    "\n",
    "# A simple geneartor for fiboonacci\n",
    "def fib(limit):\n",
    "    a,b=0,1\n",
    "    while a<limit:\n",
    "        yield a\n",
    "        a,b=b,a+b\n",
    "\n",
    "x=fib(5)\n",
    "print(next(x))\n",
    "\n",
    "print(next(x))\n",
    "print(next(x))\n",
    "print(next(x))\n",
    "print(next(x))"
   ]
  },
  {
   "cell_type": "code",
   "execution_count": 1,
   "metadata": {},
   "outputs": [
    {
     "name": "stdout",
     "output_type": "stream",
     "text": [
      "[2, 4, 6]\n"
     ]
    }
   ],
   "source": [
    "l1=[1,2,3,4,5,6,7]\n",
    "f=filter(lambda n:n%2==0,l1)\n",
    "print(list(f))"
   ]
  },
  {
   "cell_type": "code",
   "execution_count": 2,
   "metadata": {},
   "outputs": [
    {
     "name": "stdout",
     "output_type": "stream",
     "text": [
      "[1, 4, 9, 16, 25, 36, 49, 64, 81]\n"
     ]
    }
   ],
   "source": [
    "lst1=[1,2,3,4,5,6,7,8,9]\n",
    "res=map(lambda x:x**2,lst1)\n",
    "print(list(res))"
   ]
  },
  {
   "cell_type": "code",
   "execution_count": 3,
   "metadata": {},
   "outputs": [
    {
     "name": "stdout",
     "output_type": "stream",
     "text": [
      "[2, 4, 6, 8, 10, 12, 14, 16, 18]\n"
     ]
    }
   ],
   "source": [
    "lst1=[1,2,3,4,5,6,7,8,9]\n",
    "lst2=[1,2,3,4,5,6,7,8,9]\n",
    "res=map(lambda x,y:x+y,lst1,lst2)\n",
    "print(list(res))"
   ]
  },
  {
   "cell_type": "code",
   "execution_count": 4,
   "metadata": {},
   "outputs": [
    {
     "name": "stdout",
     "output_type": "stream",
     "text": [
      "[1, 4, 3, 16, 5, 36, 7, 64, 9]\n"
     ]
    }
   ],
   "source": [
    "#doubles even numbers and leaves odd numbers\n",
    "\n",
    "lst1=[1,2,3,4,5,6,7,8,9]\n",
    "res=map(lambda x:x**2 if x%2==0 else x,lst1)\n",
    "print(list(res))"
   ]
  },
  {
   "cell_type": "code",
   "execution_count": 5,
   "metadata": {},
   "outputs": [
    {
     "name": "stdout",
     "output_type": "stream",
     "text": [
      "45\n"
     ]
    }
   ],
   "source": [
    "import functools as ft\n",
    "lst1=[1,2,3,4,5,6,7,8,9]\n",
    "res=ft.reduce(lambda x,y:x+y,lst1)\n",
    "print(res)"
   ]
  },
  {
   "cell_type": "code",
   "execution_count": 6,
   "metadata": {},
   "outputs": [
    {
     "name": "stdout",
     "output_type": "stream",
     "text": [
      "9\n"
     ]
    }
   ],
   "source": [
    "#greatest element of the list\n",
    "import functools as ft\n",
    "lst1=[1,2,3,4,5,6,7,8,9]\n",
    "res=ft.reduce(lambda x,y:x if x>y else y,lst1)\n",
    "print(res)"
   ]
  },
  {
   "cell_type": "code",
   "execution_count": 7,
   "metadata": {},
   "outputs": [
    {
     "name": "stdout",
     "output_type": "stream",
     "text": [
      "1\n",
      "2\n",
      "3\n"
     ]
    }
   ],
   "source": [
    "#Generator function\n",
    "\n",
    "def my_gen():\n",
    "    yield 1\n",
    "    yield 2\n",
    "    yield 3\n",
    "    \n",
    "res=my_gen()\n",
    "#print(res)\n",
    "print(next(res))\n",
    "print(next(res))\n",
    "print(next(res))"
   ]
  },
  {
   "cell_type": "code",
   "execution_count": 8,
   "metadata": {},
   "outputs": [
    {
     "name": "stdout",
     "output_type": "stream",
     "text": [
      "5\n",
      "6\n"
     ]
    }
   ],
   "source": [
    "#generator func\n",
    "def my_gen(start,end):\n",
    "    for i in range(start,end+1):\n",
    "        yield i\n",
    "\n",
    "\n",
    "res=my_gen(5,10)\n",
    "print(next(res))\n",
    "print(next(res))\n"
   ]
  },
  {
   "cell_type": "code",
   "execution_count": null,
   "metadata": {},
   "outputs": [],
   "source": []
  }
 ],
 "metadata": {
  "kernelspec": {
   "display_name": "base",
   "language": "python",
   "name": "python3"
  },
  "language_info": {
   "codemirror_mode": {
    "name": "ipython",
    "version": 3
   },
   "file_extension": ".py",
   "mimetype": "text/x-python",
   "name": "python",
   "nbconvert_exporter": "python",
   "pygments_lexer": "ipython3",
   "version": "3.12.2"
  }
 },
 "nbformat": 4,
 "nbformat_minor": 2
}
