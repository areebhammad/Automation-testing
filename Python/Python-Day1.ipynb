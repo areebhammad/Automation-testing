{
 "cells": [
  {
   "cell_type": "code",
   "execution_count": 1,
   "id": "47a8523f-37ad-416a-953c-e542698be767",
   "metadata": {},
   "outputs": [
    {
     "name": "stdout",
     "output_type": "stream",
     "text": [
      "Total Marks: 140.0\n",
      "Percentage: 28.00%\n",
      "Grade: F\n"
     ]
    }
   ],
   "source": [
    "# Write a Python program to input marks for five subjects Physics, Chemistry, Biology, Mathematics, and Computer. Calculate percentage and grade according to following:\n",
    "# Percentage >= 90% : Grade A\n",
    "# Percentage >= 80% : Grade B\n",
    "# Percentage >= 70% : Grade C\n",
    "# Percentage >= 60% : Grade D\n",
    "# Percentage >= 40% : Grade E\n",
    "# Percentage < 40% : Grade F\n",
    "\n",
    "def calculate_grade(percentage):\n",
    "    if percentage >= 90:\n",
    "        return 'A'\n",
    "    elif percentage >= 80:\n",
    "        return 'B'\n",
    "    elif percentage >= 70:\n",
    "        return 'C'\n",
    "    elif percentage >= 60:\n",
    "        return 'D'\n",
    "    elif percentage >= 40:\n",
    "        return 'E'\n",
    "    else:\n",
    "        return 'F'\n",
    "\n",
    "def main():\n",
    "    physics = float(input(\"Enter marks for Physics: \"))\n",
    "    chemistry = float(input(\"Enter marks for Chemistry: \"))\n",
    "    biology = float(input(\"Enter marks for Biology: \"))\n",
    "    mathematics = float(input(\"Enter marks for Mathematics: \"))\n",
    "    computer = float(input(\"Enter marks for Computer: \"))\n",
    "    \n",
    "    total_marks = physics + chemistry + biology + mathematics + computer\n",
    "    percentage = (total_marks / 500) * 100\n",
    "    \n",
    "    grade = calculate_grade(percentage)\n",
    "    \n",
    "    print(f\"Total Marks: {total_marks}\")\n",
    "    print(f\"Percentage: {percentage:.2f}%\")\n",
    "    print(f\"Grade: {grade}\")\n",
    "\n",
    "if __name__ == \"__main__\":\n",
    "    main()\n"
   ]
  },
  {
   "cell_type": "code",
   "execution_count": 15,
   "id": "ef365dae-388a-41e2-ae65-90076cdd49a9",
   "metadata": {},
   "outputs": [
    {
     "name": "stdout",
     "output_type": "stream",
     "text": [
      "Enter the basic salary of the employee:  10000\n"
     ]
    },
    {
     "name": "stdout",
     "output_type": "stream",
     "text": [
      "Gross Salary: 20000.00\n"
     ]
    }
   ],
   "source": [
    "# Write a Python program to input the basic salary of an employee and calculate its Gross salary according to the following:\n",
    "# Basic Salary <= 10000 : HRA = 20%, DA = 80%\n",
    "# Basic Salary <= 20000 : HRA = 25%, DA = 90%\n",
    "# Basic Salary > 20000 : HRA = 30%, DA = 95%\n",
    "\n",
    "def calculate_gross_salary(basic_salary):\n",
    "    if basic_salary <= 10000:\n",
    "        HRA = 0.20 * basic_salary\n",
    "        DA = 0.80 * basic_salary\n",
    "    elif basic_salary <= 20000:\n",
    "        HRA = 0.25 * basic_salary\n",
    "        DA = 0.90 * basic_salary\n",
    "    else:\n",
    "        HRA = 0.30 * basic_salary\n",
    "        DA = 0.95 * basic_salary\n",
    "    \n",
    "    gross_salary = basic_salary + HRA + DA\n",
    "    return gross_salary\n",
    "\n",
    "def main():\n",
    "    basic_salary = float(input(\"Enter the basic salary of the employee: \"))\n",
    "    gross_salary = calculate_gross_salary(basic_salary)\n",
    "    \n",
    "    print(f\"Gross Salary: {gross_salary:.2f}\")\n",
    "\n",
    "if __name__ == \"__main__\":\n",
    "    main()\n"
   ]
  },
  {
   "cell_type": "code",
   "execution_count": 2,
   "id": "33b9041a-e278-44c3-8306-b9116cea082e",
   "metadata": {},
   "outputs": [
    {
     "name": "stdout",
     "output_type": "stream",
     "text": [
      "Total electricity bill: Rs. 714.00\n",
      "Bill for 45 units: Rs. 27.00\n",
      "Bill for 100 units: Rs. 75.00\n",
      "Bill for 200 units: Rs. 192.00\n",
      "Bill for 300 units: Rs. 354.00\n"
     ]
    }
   ],
   "source": [
    "# Write a Python program to input electricity unit charges and calculate the total electricity bill according to the given condition:\n",
    "# For the first 50 units Rs. 0.50/unit\n",
    "# For the next 100 units Rs. 0.75/unit\n",
    "# For the next 100 units Rs. 1.20/unit\n",
    "# For units above 250 Rs. 1.50/unit\n",
    "# An additional surcharge of 20% is added to the bill\n",
    "\n",
    "def calculate_electricity_bill(units):\n",
    "    bill = 0  \n",
    "    if units <= 50:\n",
    "        bill = units * 0.50\n",
    "    elif units <= 150:\n",
    "        bill = 50 * 0.50 + (units - 50) * 0.75\n",
    "    elif units <= 250:\n",
    "        bill = 50 * 0.50 + 100 * 0.75 + (units - 150) * 1.20\n",
    "    else:\n",
    "        bill = 50 * 0.50 + 100 * 0.75 + 100 * 1.20 + (units - 250) * 1.50\n",
    "    \n",
    "    # Add 20% surcharge\n",
    "    total_bill = bill + (bill * 0.20)\n",
    "    \n",
    "    return total_bill\n",
    "try:\n",
    "    units = float(input(\"Enter the number of electricity units consumed: \"))\n",
    "    if units < 0:\n",
    "        raise ValueError(\"Units consumed cannot be negative.\")\n",
    "    \n",
    "    total_bill = calculate_electricity_bill(units)\n",
    "    print(f\"Total electricity bill: Rs. {total_bill:.2f}\")\n",
    "except ValueError as e:\n",
    "    print(f\"Invalid input: {e}\")\n",
    "\n",
    "# Test cases\n",
    "test_cases = [45, 100, 200, 300]\n",
    "for case in test_cases:\n",
    "    bill = calculate_electricity_bill(case)\n",
    "    print(f\"Bill for {case} units: Rs. {bill:.2f}\")"
   ]
  },
  {
   "cell_type": "code",
   "execution_count": 14,
   "id": "61c3fd4e-89a5-43ec-8706-0d366a9d2e95",
   "metadata": {},
   "outputs": [
    {
     "name": "stdout",
     "output_type": "stream",
     "text": [
      "Enter the number 30\n",
      "Enter the number 60\n"
     ]
    },
    {
     "name": "stdout",
     "output_type": "stream",
     "text": [
      "b = 60\n"
     ]
    }
   ],
   "source": [
    "# Write a Python program to find the maximum between two numbers.\n",
    "a= int(input(\"Enter the number\"))\n",
    "b= int(input(\"Enter the number\"))\n",
    "if(a>b):\n",
    "    print(\"a =\",a)\n",
    "print(\"b =\",b)"
   ]
  },
  {
   "cell_type": "code",
   "execution_count": 16,
   "id": "eb883b0e-d524-49f9-bcd2-a3348ebd65c6",
   "metadata": {},
   "outputs": [
    {
     "name": "stdout",
     "output_type": "stream",
     "text": [
      "The maximum number among 10, 25, 15 is: 25\n"
     ]
    }
   ],
   "source": [
    "# Write a Python program to find the maximum between three numbers.\n",
    "\n",
    "def find_max(num1, num2, num3):\n",
    "    if num1 >= num2 and num1 >= num3:\n",
    "        return num1\n",
    "    elif num2 >= num1 and num2 >= num3:\n",
    "        return num2\n",
    "    else:\n",
    "        return num3\n",
    "\n",
    "num1 = 10\n",
    "num2 = 25\n",
    "num3 = 15\n",
    "\n",
    "max_number = find_max(num1, num2, num3)\n",
    "print(f\"The maximum number among {num1}, {num2}, {num3} is: {max_number}\")\n"
   ]
  },
  {
   "cell_type": "code",
   "execution_count": 4,
   "id": "ed266d10-ad87-429e-b311-660ddc48b349",
   "metadata": {},
   "outputs": [
    {
     "name": "stdout",
     "output_type": "stream",
     "text": [
      "10 is positive.\n"
     ]
    }
   ],
   "source": [
    "# Write a python program to check whether a number is negative, positive or zero.\n",
    "\n",
    "def numbers(num):\n",
    "    \"\"\"Checks if a number is positive, negative, or zero.\"\"\"\n",
    "    if num > 0:\n",
    "        return f\"{num} is positive.\"\n",
    "    elif num < 0:\n",
    "        return f\"{num} is negative.\"\n",
    "    else:\n",
    "        return f\"{num} is zero.\"\n",
    "    \n",
    "print(numbers(10))\n"
   ]
  },
  {
   "cell_type": "code",
   "execution_count": 7,
   "id": "a97cd791-5cdb-4a57-a828-749fdcffbbf5",
   "metadata": {},
   "outputs": [
    {
     "name": "stdout",
     "output_type": "stream",
     "text": [
      "Enter the number 50\n"
     ]
    },
    {
     "name": "stdout",
     "output_type": "stream",
     "text": [
      "False\n"
     ]
    }
   ],
   "source": [
    "# Write a Python program to check whether a number is divisible by 5 and 11 or not.\n",
    "\n",
    "inp = int(input(\"Enter the number\"))\n",
    "if inp%5==0 and inp%11==0:\n",
    "    print(\"True\")\n",
    "print(\"False\")"
   ]
  },
  {
   "cell_type": "code",
   "execution_count": 3,
   "id": "5c46204f-ed36-4eb9-82b5-d138f637688d",
   "metadata": {},
   "outputs": [
    {
     "name": "stdout",
     "output_type": "stream",
     "text": [
      "Odd\n"
     ]
    }
   ],
   "source": [
    "# Write a Python program to check whether a number is even or odd.\n",
    "\n",
    "n = int(input(\"Enter the number\"))\n",
    "if(n%2==0):\n",
    "    print(\"Even\")\n",
    "elif n==0:\n",
    "    print(\"Zero\")\n",
    "else:\n",
    "    print(\"Odd\")"
   ]
  },
  {
   "cell_type": "code",
   "execution_count": 4,
   "id": "f1ba1083-1e5b-4369-98ac-31d6b7065024",
   "metadata": {},
   "outputs": [
    {
     "name": "stdout",
     "output_type": "stream",
     "text": [
      "The year is a leap year!\n"
     ]
    }
   ],
   "source": [
    "# Write a python program to check whether a year is leap year or not.\n",
    "\n",
    "year=int(input(\"Enter year to be checked:\"))\n",
    "if(year%4==0 and year%100!=0 or year%400==0):\n",
    "    print(\"The year is a leap year!\")\n",
    "else:\n",
    "    print(\"The year isn't a leap year!\")"
   ]
  },
  {
   "cell_type": "code",
   "execution_count": 18,
   "id": "ea801691-8f03-4f2d-a5d3-04333d04b905",
   "metadata": {},
   "outputs": [
    {
     "name": "stdout",
     "output_type": "stream",
     "text": [
      "The sum of digits of 123 is 6\n",
      "The sum of digits of 456 is 15\n",
      "The sum of digits of 789 is 24\n",
      "The sum of digits of 101112 is 6\n",
      "The sum of digits of 999 is 27\n"
     ]
    }
   ],
   "source": [
    "# Write a Python program to find the sum of digits of a given number. E.g. Sum of the number 123 will be 6\n",
    "# Note: Initialize the number with various values and test your program.\n",
    "\n",
    "def sum_of_digits(number):\n",
    "    sum_digits = 0\n",
    "    while number > 0:\n",
    "        digit = number % 10\n",
    "        sum_digits += digit\n",
    "        number //= 10\n",
    "    return sum_digits\n",
    "\n",
    "def main():\n",
    "    numbers_to_test = [123, 456, 789, 101112, 999]\n",
    "    \n",
    "    for number in numbers_to_test:\n",
    "        print(f\"The sum of digits of {number} is {sum_of_digits(number)}\")\n",
    "\n",
    "if __name__ == \"__main__\":\n",
    "    main()\n"
   ]
  },
  {
   "cell_type": "code",
   "execution_count": 5,
   "id": "d93e63c1-2981-451f-b4d1-a95021ee1d33",
   "metadata": {},
   "outputs": [
    {
     "ename": "SyntaxError",
     "evalue": "invalid syntax (1614157490.py, line 3)",
     "output_type": "error",
     "traceback": [
      "\u001b[1;36m  Cell \u001b[1;32mIn[5], line 3\u001b[1;36m\u001b[0m\n\u001b[1;33m    \u001b[0m\n\u001b[1;37m    ^\u001b[0m\n\u001b[1;31mSyntaxError\u001b[0m\u001b[1;31m:\u001b[0m invalid syntax\n"
     ]
    }
   ],
   "source": [
    "# Write a Python function to check whether three given numbers can form the sides of a triangle. \n",
    "# Hint\u000b\n",
    ": Three numbers can be the sides of a triangle if none of the numbers is greater than or equal to the sum of the other two numbers.\n",
    "\n",
    "def triangle(a, b, c):\n",
    "    if a <= 0 or b <= 0 or c <= 0:\n",
    "        return False\n",
    "    return (a + b > c) and (b + c > a) and (a + c > b)\n",
    "\n",
    "print(triangle(3, 4, 5)) \n",
    "print(triangle(1, 1, 3))  \n",
    "print(triangle(5, 5, 10))  \n",
    "print(triangle(6, 8, 10))  "
   ]
  },
  {
   "cell_type": "code",
   "execution_count": 17,
   "id": "754291d0-0c47-4565-bc04-124d29476018",
   "metadata": {},
   "outputs": [
    {
     "name": "stdout",
     "output_type": "stream",
     "text": [
      "8\n",
      "15\n",
      "12\n",
      "-1\n"
     ]
    }
   ],
   "source": [
    "# Write a Python program to find and display the product of three positive integer values based on the rule mentioned below:\n",
    "# It should display the product of the three values except when one of the integer values is 7. In that case, 7 should not be included in the product\n",
    "# and the values to its left also should not be included.\n",
    "# If there is only one value to be considered, display that value itself. If no values can be included in the product, display -1.\n",
    "# Note: Assume that if 7 is one of the positive integer values, then it will occur only once. Refer to the sample I/O given below.\n",
    " \n",
    "# Sample Input   Expected Output\n",
    "# 1, 5, 3            15\n",
    "# 3, 7, 8            8 \n",
    "# 7, 4, 3            12\n",
    "# 1, 5, 7            -1\n",
    "\n",
    "\n",
    "def prod(a, b, c):\n",
    "    values = [a, b, c]\n",
    "    \n",
    "    if 7 in values:\n",
    "        index_of_7 = values.index(7)\n",
    "        values_to_multiply = values[index_of_7 + 1:]\n",
    "        \n",
    "        if len(values_to_multiply) == 0:\n",
    "            return -1\n",
    "        else:\n",
    "            product = 1\n",
    "            for value in values_to_multiply:\n",
    "                product *= value\n",
    "            return product\n",
    "    else:\n",
    "        product = 1\n",
    "        for value in values:\n",
    "            product *= value\n",
    "        return product\n",
    "    \n",
    "\n",
    "print(prod(3,7,8))\n",
    "print(prod(1,5,3))\n",
    "print(prod(7,4,3))\n",
    "print(prod(1,5,7))"
   ]
  },
  {
   "cell_type": "code",
   "execution_count": 9,
   "id": "20275742-925d-4f1c-84fe-022ab521a29f",
   "metadata": {},
   "outputs": [
    {
     "name": "stdout",
     "output_type": "stream",
     "text": [
      "-----------------------------------------------------------------\n",
      "                           BREAD BASKET                          \n",
      "  \"Looking for a healthy breakfast, this is the place for you!!\" \n",
      "-----------------------------------------------------------------\n",
      "Raisin Toast                                                 $2.50\n",
      "French Toast                                                 $2.80\n",
      "Mushroom Toast                                               $3.00\n",
      "Pancake                                                      $4.00\n",
      "Pancake with Ice-cream                                       $7.50\n",
      "Chef's speciality                                           $10.00\n",
      "-----------------------------------------------------------------\n"
     ]
    }
   ],
   "source": [
    "def print_menu():\n",
    "    print(\"-\" * 65)\n",
    "    print(\"BREAD BASKET\".center(65))\n",
    "    print('\"Looking for a healthy breakfast, this is the place for you!!\"'.center(65))\n",
    "    print(\"-\" * 65)\n",
    "    \n",
    "    menu_items = [\n",
    "        (\"Raisin Toast\", \"$2.50\"),\n",
    "        (\"French Toast\", \"$2.80\"),\n",
    "        (\"Mushroom Toast\", \"$3.00\"),\n",
    "        (\"Pancake\", \"$4.00\"),\n",
    "        (\"Pancake with Ice-cream\", \"$7.50\"),\n",
    "        (\"Chef's speciality\", \"$10.00\")\n",
    "    ]\n",
    "    \n",
    "    for item, price in menu_items:\n",
    "        print(f\"{item:<30} {price:>35}\")\n",
    "    \n",
    "    print(\"-\" * 65)\n",
    "\n",
    "print_menu()"
   ]
  },
  {
   "cell_type": "code",
   "execution_count": null,
   "id": "a1c8a2f7-598e-47e3-bb1f-d9be63f6fe9d",
   "metadata": {},
   "outputs": [],
   "source": [
    "----------------------------------------------------------------------------------------------"
   ]
  },
  {
   "cell_type": "code",
   "execution_count": 19,
   "id": "df5d20a9-3cc5-4e97-a9a7-7370173908de",
   "metadata": {},
   "outputs": [
    {
     "name": "stdout",
     "output_type": "stream",
     "text": [
      "Temperature Converter\n",
      "=====================\n",
      "1. Celsius to Fahrenheit\n",
      "2. Fahrenheit to Celsius\n"
     ]
    },
    {
     "name": "stdout",
     "output_type": "stream",
     "text": [
      "Enter your choice (1/2):  1\n",
      "Enter temperature in Celsius:  26\n"
     ]
    },
    {
     "name": "stdout",
     "output_type": "stream",
     "text": [
      "26.0°C is equal to 78.8°F\n"
     ]
    }
   ],
   "source": [
    "# Write a Python program that converts temperature in Celsius to Fahrenheit and vice versa. Implement the requirements using functions.\n",
    "# Hint: 0C= (0F-32)*(5/9)\n",
    "\n",
    "def celsius_to_fahrenheit(celsius):\n",
    "    fahrenheit = (celsius * 9/5) + 32\n",
    "    return fahrenheit\n",
    "\n",
    "def fahrenheit_to_celsius(fahrenheit):\n",
    "    celsius = (fahrenheit - 32) * (5/9)\n",
    "    return celsius\n",
    "\n",
    "def main():\n",
    "    print(\"Temperature Converter\")\n",
    "    print(\"=====================\")\n",
    "    print(\"1. Celsius to Fahrenheit\")\n",
    "    print(\"2. Fahrenheit to Celsius\")\n",
    "    choice = input(\"Enter your choice (1/2): \")\n",
    "\n",
    "    if choice == '1':\n",
    "        celsius = float(input(\"Enter temperature in Celsius: \"))\n",
    "        fahrenheit = celsius_to_fahrenheit(celsius)\n",
    "        print(f\"{celsius}°C is equal to {fahrenheit}°F\")\n",
    "    elif choice == '2':\n",
    "        fahrenheit = float(input(\"Enter temperature in Fahrenheit: \"))\n",
    "        celsius = fahrenheit_to_celsius(fahrenheit)\n",
    "        print(f\"{fahrenheit}°F is equal to {celsius}°C\")\n",
    "    else:\n",
    "        print(\"Invalid choice\")\n",
    "\n",
    "if __name__ == \"__main__\":\n",
    "    main()\n"
   ]
  },
  {
   "cell_type": "code",
   "execution_count": null,
   "id": "6b3d02c7-5a9a-47f8-aaf3-279711dbb627",
   "metadata": {},
   "outputs": [],
   "source": []
  },
  {
   "cell_type": "code",
   "execution_count": null,
   "id": "d20f94fb-2cdc-468b-9fc1-4b120451c44d",
   "metadata": {},
   "outputs": [],
   "source": []
  },
  {
   "cell_type": "code",
   "execution_count": null,
   "id": "bff443dd-7bad-426d-b563-d150b5d89454",
   "metadata": {},
   "outputs": [],
   "source": []
  },
  {
   "cell_type": "code",
   "execution_count": 22,
   "id": "cb466aac-e2d5-47e9-8263-38a1fd6f6526",
   "metadata": {},
   "outputs": [
    {
     "name": "stdout",
     "output_type": "stream",
     "text": [
      "Total Ticket Cost: 204910.35000000003\n",
      "Total Ticket Cost: 120535.50000000001\n",
      "Total Ticket Cost: 132589.05\n"
     ]
    }
   ],
   "source": [
    "# The flight ticket rates for a round-trip (Mumbai->Dubai) were as follows: \n",
    "# Rate per Adult: Rs. 37550.0 \n",
    "# Rate per Child: 1/3rd of the rate per adult \n",
    "# Service Tax: 7% of the ticket amount (including all passengers) \n",
    "# As it was a holiday season, the airline also offered 10% discount on the final ticket cost (after inclusion of the service tax).\n",
    "# Find and display the total ticket cost for a group which had adults and children.\n",
    "# Test the program with different input values for number of adults and children.\n",
    " \n",
    "# Sample Input\n",
    "\t\n",
    "# Expected Output\n",
    "\n",
    "\n",
    "# Number of adults      Number of children\n",
    "# 5                            2                 Total Ticket Cost: 204910.35\n",
    "# 3                            1                 Total Ticket Cost: 120535.5\n",
    "\n",
    "\n",
    "\n",
    "# def calculate_total_ticket_cost(no_of_adults, no_of_children):\n",
    "#     total_ticket_cost=0\n",
    "#     #Write your logic here\n",
    " \n",
    "#     return total_ticket_cost\n",
    " \n",
    " \n",
    "# #Provide different values for no_of_adults, no_of_children and test your program\n",
    "# total_ticket_cost=calculate_total_ticket_cost(1,2)\n",
    "# print(\"Total Ticket Cost:\",total_ticket_cost)\n",
    "\n",
    "\n",
    "def calculate_total_ticket_cost(no_of_adults, no_of_children):\n",
    "    # Given rates and constants\n",
    "    rate_per_adult = 37550.0\n",
    "    rate_per_child = rate_per_adult / 3\n",
    "    service_tax_rate = 0.07\n",
    "    discount_rate = 0.10\n",
    "    \n",
    "    total_adult_cost = no_of_adults * rate_per_adult\n",
    "    total_child_cost = no_of_children * rate_per_child\n",
    "    \n",
    "    subtotal = total_adult_cost + total_child_cost\n",
    "    \n",
    "    service_tax = subtotal * service_tax_rate\n",
    "    \n",
    "    total_cost_before_discount = subtotal + service_tax\n",
    "    \n",
    "    total_cost = total_cost_before_discount * (1 - discount_rate)\n",
    "    \n",
    "    return total_cost\n",
    "\n",
    "print(\"Total Ticket Cost:\", calculate_total_ticket_cost(5, 2))  # output: 204910.35\n",
    "print(\"Total Ticket Cost:\", calculate_total_ticket_cost(3, 1))  # output: 120535.5\n",
    "print(\"Total Ticket Cost:\", calculate_total_ticket_cost(2, 5))  # output: 132589.05"
   ]
  },
  {
   "cell_type": "code",
   "execution_count": 23,
   "id": "5938a87f-fc13-4d91-ba61-63d76bb2aa4a",
   "metadata": {},
   "outputs": [
    {
     "name": "stdout",
     "output_type": "stream",
     "text": [
      "True\n",
      "True\n",
      "False\n"
     ]
    }
   ],
   "source": [
    "def is_buzz_number(num):\n",
    "    if num % 10 == 7 or num % 7 == 0:\n",
    "        return True\n",
    "    else:\n",
    "        return False\n",
    "\n",
    "print(is_buzz_number(63))  \n",
    "print(is_buzz_number(747))  \n",
    "print(is_buzz_number(83))  "
   ]
  },
  {
   "cell_type": "code",
   "execution_count": 30,
   "id": "25151786-bf99-40d3-9ee2-01040b4eab37",
   "metadata": {},
   "outputs": [
    {
     "name": "stdout",
     "output_type": "stream",
     "text": [
      "(1, 4)\n",
      "(1, 2)\n",
      "-1\n",
      "(3, 4)\n"
     ]
    }
   ],
   "source": [
    "def calculate_coins(x, y, z):\n",
    "    total_value = 5 * x + y\n",
    "    \n",
    "    if z > total_value:\n",
    "        return -1\n",
    "    \n",
    "    max_5_notes = min(z // 5, x)\n",
    "    needed_1_coins = z - (max_5_notes * 5)\n",
    "    \n",
    "    if (max_5_notes * 5 + needed_1_coins) != z:\n",
    "        return -1\n",
    "    \n",
    "    return (needed_1_coins, max_5_notes)\n",
    "\n",
    "print(calculate_coins(4, 2, 21)) \n",
    "print(calculate_coins(2, 11, 11))\n",
    "print(calculate_coins(3, 3, 19))  \n",
    "print(calculate_coins(4, 5, 23))"
   ]
  },
  {
   "cell_type": "code",
   "execution_count": null,
   "id": "4c8dfd22-460c-44e5-b733-26ba8446b4b8",
   "metadata": {},
   "outputs": [],
   "source": []
  }
 ],
 "metadata": {
  "kernelspec": {
   "display_name": "Python 3 (ipykernel)",
   "language": "python",
   "name": "python3"
  },
  "language_info": {
   "codemirror_mode": {
    "name": "ipython",
    "version": 3
   },
   "file_extension": ".py",
   "mimetype": "text/x-python",
   "name": "python",
   "nbconvert_exporter": "python",
   "pygments_lexer": "ipython3",
   "version": "3.12.2"
  }
 },
 "nbformat": 4,
 "nbformat_minor": 5
}
